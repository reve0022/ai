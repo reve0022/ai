{
  "nbformat": 4,
  "nbformat_minor": 0,
  "metadata": {
    "colab": {
      "name": "05HW20220228김지나11.ipynb",
      "provenance": [],
      "authorship_tag": "ABX9TyN+gk9dTWZMjK07hWRV7NCT",
      "include_colab_link": true
    },
    "kernelspec": {
      "name": "python3",
      "display_name": "Python 3"
    },
    "language_info": {
      "name": "python"
    }
  },
  "cells": [
    {
      "cell_type": "markdown",
      "metadata": {
        "id": "view-in-github",
        "colab_type": "text"
      },
      "source": [
        "<a href=\"https://colab.research.google.com/github/reve0022/ai/blob/main/05HW20220228%EA%B9%80%EC%A7%80%EB%82%9811.ipynb\" target=\"_parent\"><img src=\"https://colab.research.google.com/assets/colab-badge.svg\" alt=\"Open In Colab\"/></a>"
      ]
    },
    {
      "cell_type": "code",
      "execution_count": 1,
      "metadata": {
        "colab": {
          "base_uri": "https://localhost:8080/",
          "height": 211
        },
        "id": "u2O11jeHtL77",
        "outputId": "c217f905-047b-4002-cb1a-7c01c74b931e"
      },
      "outputs": [
        {
          "output_type": "error",
          "ename": "NameError",
          "evalue": "ignored",
          "traceback": [
            "\u001b[0;31m---------------------------------------------------------------------------\u001b[0m",
            "\u001b[0;31mNameError\u001b[0m                                 Traceback (most recent call last)",
            "\u001b[0;32m<ipython-input-1-cef7e00edc8b>\u001b[0m in \u001b[0;36m<module>\u001b[0;34m()\u001b[0m\n\u001b[1;32m      4\u001b[0m \u001b[0;34m\u001b[0m\u001b[0m\n\u001b[1;32m      5\u001b[0m \u001b[0mn_plus_1\u001b[0m\u001b[0;34m(\u001b[0m\u001b[0;36m3\u001b[0m\u001b[0;34m)\u001b[0m\u001b[0;34m\u001b[0m\u001b[0;34m\u001b[0m\u001b[0m\n\u001b[0;32m----> 6\u001b[0;31m \u001b[0mprint\u001b[0m \u001b[0;34m(\u001b[0m\u001b[0mresult\u001b[0m\u001b[0;34m)\u001b[0m\u001b[0;34m\u001b[0m\u001b[0;34m\u001b[0m\u001b[0m\n\u001b[0m",
            "\u001b[0;31mNameError\u001b[0m: name 'result' is not defined"
          ]
        }
      ],
      "source": [
        "#231\n",
        "def n_plus_1 (n) :\n",
        "    result = n + 1\n",
        "\n",
        "n_plus_1(3)\n",
        "print (result)\n",
        "\n",
        "#에러 발생"
      ]
    },
    {
      "cell_type": "code",
      "source": [
        "#232\n",
        "\n",
        "def make_url(string) :\n",
        "    url = \"www.\" + string + \".com\"\n",
        "    return url\n",
        "\n",
        "result = make_url(\"naver\")\n",
        "print(result)"
      ],
      "metadata": {
        "colab": {
          "base_uri": "https://localhost:8080/"
        },
        "id": "UkAVfCE6usJP",
        "outputId": "6586e5e1-accc-4a1f-9303-c0b5a09b81f4"
      },
      "execution_count": 14,
      "outputs": [
        {
          "output_type": "stream",
          "name": "stdout",
          "text": [
            "www.naver.com\n"
          ]
        }
      ]
    },
    {
      "cell_type": "code",
      "source": [
        "#233\n",
        "a = make_list(\"abcd\")\n",
        "def make_list (string) :\n",
        "    return list(string)\n",
        "\n",
        "print(a)"
      ],
      "metadata": {
        "colab": {
          "base_uri": "https://localhost:8080/"
        },
        "id": "u--6Hix6u13M",
        "outputId": "53f9f47d-1e2b-44d0-cb8b-e48e96d107e3"
      },
      "execution_count": 15,
      "outputs": [
        {
          "output_type": "stream",
          "name": "stdout",
          "text": [
            "['a', 'b', 'c', 'd']\n"
          ]
        }
      ]
    },
    {
      "cell_type": "code",
      "source": [
        "#234\n",
        "\n",
        "ret = pickup_even([3, 4, 5, 6, 7, 8])\n",
        "def pickup_even(items):\n",
        "    result = []\n",
        "    for item in items:\n",
        "        if item % 2 == 0:\n",
        "            result.append(item)\n",
        "    return result\n",
        "print(ret)"
      ],
      "metadata": {
        "colab": {
          "base_uri": "https://localhost:8080/"
        },
        "id": "oESYCZLbu2DR",
        "outputId": "587d4aee-ef1b-42b7-ed77-652b8f42d1be"
      },
      "execution_count": 21,
      "outputs": [
        {
          "output_type": "stream",
          "name": "stdout",
          "text": [
            "[4, 6, 8]\n"
          ]
        }
      ]
    },
    {
      "cell_type": "code",
      "source": [
        "#235   잘 모르겠습니다 ㅠㅠ\n",
        "\n",
        "a = convert_int(\"1,234,567\")\n",
        "\n",
        "def convert_int \n",
        "\n",
        "print(a)"
      ],
      "metadata": {
        "colab": {
          "base_uri": "https://localhost:8080/",
          "height": 137
        },
        "id": "XGbbmF38u2Nd",
        "outputId": "975ef2dd-b9bb-434b-acea-029a0ee41b46"
      },
      "execution_count": 23,
      "outputs": [
        {
          "output_type": "error",
          "ename": "SyntaxError",
          "evalue": "ignored",
          "traceback": [
            "\u001b[0;36m  File \u001b[0;32m\"<ipython-input-23-11878e11fd2c>\"\u001b[0;36m, line \u001b[0;32m5\u001b[0m\n\u001b[0;31m    def convert_int\u001b[0m\n\u001b[0m                    ^\u001b[0m\n\u001b[0;31mSyntaxError\u001b[0m\u001b[0;31m:\u001b[0m invalid syntax\n"
          ]
        }
      ]
    },
    {
      "cell_type": "code",
      "source": [
        "#236\n",
        "\n",
        "def 함수(num) :\n",
        "    return num + 4\n",
        "\n",
        "a = 함수(10)\n",
        "b = 함수(a)\n",
        "c = 함수(b)\n",
        "print(c)"
      ],
      "metadata": {
        "colab": {
          "base_uri": "https://localhost:8080/"
        },
        "id": "LEt2OjVFu2TX",
        "outputId": "58ef9d37-cf60-4dc4-84b0-73cd66cc9c5b"
      },
      "execution_count": 24,
      "outputs": [
        {
          "output_type": "stream",
          "name": "stdout",
          "text": [
            "22\n"
          ]
        }
      ]
    },
    {
      "cell_type": "code",
      "source": [
        "#237\n",
        "def 함수(num) :\n",
        "    return num + 4\n",
        "\n",
        "c = 함수(함수(함수(10)))\n",
        "print(c)"
      ],
      "metadata": {
        "colab": {
          "base_uri": "https://localhost:8080/"
        },
        "id": "duUJP5JVu2Ww",
        "outputId": "b8f4bdef-9a8a-4b14-98ed-c80397950e82"
      },
      "execution_count": 25,
      "outputs": [
        {
          "output_type": "stream",
          "name": "stdout",
          "text": [
            "22\n"
          ]
        }
      ]
    },
    {
      "cell_type": "code",
      "source": [
        "#238\n",
        "def 함수1(num) :\n",
        "    return num + 4\n",
        "\n",
        "def 함수2(num) :\n",
        "    return num * 10\n",
        "\n",
        "a = 함수1(10)\n",
        "c = 함수2(a)\n",
        "print(c)"
      ],
      "metadata": {
        "colab": {
          "base_uri": "https://localhost:8080/"
        },
        "id": "UcMn4I7yu2Zf",
        "outputId": "61269a44-4f18-45f6-bcef-04453e546045"
      },
      "execution_count": 26,
      "outputs": [
        {
          "output_type": "stream",
          "name": "stdout",
          "text": [
            "140\n"
          ]
        }
      ]
    },
    {
      "cell_type": "code",
      "source": [
        "#239\n",
        "def 함수1(num) :\n",
        "    return num + 4\n",
        "\n",
        "def 함수2(num) :\n",
        "    num = num + 2\n",
        "    return 함수1(num)\n",
        "\n",
        "c = 함수2(10)\n",
        "print(c)"
      ],
      "metadata": {
        "colab": {
          "base_uri": "https://localhost:8080/"
        },
        "id": "a_oJLpopvHaL",
        "outputId": "1b207847-f200-429f-ee7f-f6d599f62e67"
      },
      "execution_count": 27,
      "outputs": [
        {
          "output_type": "stream",
          "name": "stdout",
          "text": [
            "16\n"
          ]
        }
      ]
    },
    {
      "cell_type": "code",
      "source": [
        "#240\n",
        "def 함수0(num) :\n",
        "    return num * 2\n",
        "\n",
        "def 함수1(num) :\n",
        "    return 함수0(num + 2)\n",
        "\n",
        "def 함수2(num) :\n",
        "    num = num + 10\n",
        "    return 함수1(num)\n",
        "\n",
        "c = 함수2(2)\n",
        "print(c)"
      ],
      "metadata": {
        "colab": {
          "base_uri": "https://localhost:8080/"
        },
        "id": "GbLJaVmDvHhi",
        "outputId": "b4f5e7db-7287-44c3-d2f0-6d5a7d8f7976"
      },
      "execution_count": 28,
      "outputs": [
        {
          "output_type": "stream",
          "name": "stdout",
          "text": [
            "28\n"
          ]
        }
      ]
    },
    {
      "cell_type": "code",
      "source": [
        "#291\n",
        "\n"
      ],
      "metadata": {
        "id": "V2FSb_B-y5VK"
      },
      "execution_count": null,
      "outputs": []
    },
    {
      "cell_type": "code",
      "source": [
        "#292"
      ],
      "metadata": {
        "id": "p-KT-0dBy5Zg"
      },
      "execution_count": null,
      "outputs": []
    },
    {
      "cell_type": "code",
      "source": [
        "#293"
      ],
      "metadata": {
        "id": "-AZIwNvBy5d8"
      },
      "execution_count": null,
      "outputs": []
    },
    {
      "cell_type": "code",
      "source": [
        "#294"
      ],
      "metadata": {
        "id": "ptZyoXNgy5in"
      },
      "execution_count": null,
      "outputs": []
    },
    {
      "cell_type": "code",
      "source": [
        "#295"
      ],
      "metadata": {
        "id": "lsdwAzmoy5nc"
      },
      "execution_count": null,
      "outputs": []
    },
    {
      "cell_type": "code",
      "source": [
        "#296\n",
        "\n",
        "per = [\"10.31\", \"\", \"8.00\"]\n",
        "\n",
        "for i in per:\n",
        "    try:\n",
        "        print(float(i))\n",
        "    except:\n",
        "        print(0)"
      ],
      "metadata": {
        "colab": {
          "base_uri": "https://localhost:8080/"
        },
        "id": "UMtKjk5ey5ro",
        "outputId": "276ae9c1-05da-4b24-cb25-5f3288ed5239"
      },
      "execution_count": 30,
      "outputs": [
        {
          "output_type": "stream",
          "name": "stdout",
          "text": [
            "10.31\n",
            "0\n",
            "8.0\n"
          ]
        }
      ]
    },
    {
      "cell_type": "code",
      "source": [
        "#297\n",
        "\n",
        "per = [\"10.31\", \"\", \"8.00\"]\n",
        "new_per = []\n",
        "\n",
        "for i in per:\n",
        "    try:\n",
        "        v = float(i)\n",
        "    except:\n",
        "        v = 0\n",
        "    new_per.append(v)\n",
        "\n",
        "print(new_per)\n",
        "\n"
      ],
      "metadata": {
        "colab": {
          "base_uri": "https://localhost:8080/"
        },
        "id": "bCPA79U1y5wT",
        "outputId": "f6bc79c1-d8bb-4392-de6f-f656d25cedc4"
      },
      "execution_count": 31,
      "outputs": [
        {
          "output_type": "stream",
          "name": "stdout",
          "text": [
            "[10.31, 0, 8.0]\n"
          ]
        }
      ]
    },
    {
      "cell_type": "code",
      "source": [
        ""
      ],
      "metadata": {
        "id": "8yBCb-Eo02N2"
      },
      "execution_count": null,
      "outputs": []
    },
    {
      "cell_type": "code",
      "source": [
        "#298 \n"
      ],
      "metadata": {
        "id": "fJK-qz9Py50r"
      },
      "execution_count": 32,
      "outputs": []
    },
    {
      "cell_type": "code",
      "source": [
        "#299\n",
        "\n",
        "data = [1, 2, 3]\n",
        "\n",
        "for i in range(5):\n",
        "    try:\n",
        "        print(data[i])\n",
        "    except IndexError as e:\n",
        "        print(e)"
      ],
      "metadata": {
        "colab": {
          "base_uri": "https://localhost:8080/"
        },
        "id": "Pv_o76Fsy55K",
        "outputId": "a232559b-8307-457f-baa7-332e8346e251"
      },
      "execution_count": 33,
      "outputs": [
        {
          "output_type": "stream",
          "name": "stdout",
          "text": [
            "1\n",
            "2\n",
            "3\n",
            "list index out of range\n",
            "list index out of range\n"
          ]
        }
      ]
    },
    {
      "cell_type": "code",
      "source": [
        "#300\n",
        "\n",
        "per = [\"10.31\", \"\", \"8.00\"]\n",
        "\n",
        "for i in per:\n",
        "    try:\n",
        "        print(float(i))\n",
        "    except:\n",
        "        print(0)\n",
        "    else:\n",
        "        print(\"clean data\")\n",
        "    finally:\n",
        "        print(\"변환 완료\")\n"
      ],
      "metadata": {
        "colab": {
          "base_uri": "https://localhost:8080/"
        },
        "id": "FHneeUIKy597",
        "outputId": "8ecfdebb-79dc-488e-b001-2069c89367d7"
      },
      "execution_count": 34,
      "outputs": [
        {
          "output_type": "stream",
          "name": "stdout",
          "text": [
            "10.31\n",
            "clean data\n",
            "변환 완료\n",
            "0\n",
            "변환 완료\n",
            "8.0\n",
            "clean data\n",
            "변환 완료\n"
          ]
        }
      ]
    }
  ]
}