{
  "nbformat": 4,
  "nbformat_minor": 0,
  "metadata": {
    "colab": {
      "name": "Day2.ipynb",
      "provenance": [],
      "authorship_tag": "ABX9TyOjbgD6luii8LDYUr+S23EH",
      "include_colab_link": true
    },
    "kernelspec": {
      "name": "python3",
      "display_name": "Python 3"
    },
    "language_info": {
      "name": "python"
    }
  },
  "cells": [
    {
      "cell_type": "markdown",
      "metadata": {
        "id": "view-in-github",
        "colab_type": "text"
      },
      "source": [
        "<a href=\"https://colab.research.google.com/github/reve0022/ai/blob/main/Day2.ipynb\" target=\"_parent\"><img src=\"https://colab.research.google.com/assets/colab-badge.svg\" alt=\"Open In Colab\"/></a>"
      ]
    },
    {
      "cell_type": "code",
      "execution_count": 1,
      "metadata": {
        "colab": {
          "base_uri": "https://localhost:8080/"
        },
        "id": "ysMIA-hJrwGL",
        "outputId": "3e5f7823-1806-4649-da47-f8725b9d2699"
      },
      "outputs": [
        {
          "output_type": "stream",
          "name": "stdout",
          "text": [
            "Hello World\n"
          ]
        }
      ],
      "source": [
        "#########################\n",
        "# Review\n",
        "#########################\n",
        "# Comment 주석 - 코드에 대한 설명, 컴퓨터는 읽지 않고\n",
        "#                 사람만 읽는 내용,\n",
        "#              - 일정 코드를 임시로 실행하지 않고 감추고 에러를 확인하는 용도로도 사용된다.\n",
        "#              - 본인이 기록한 내용을 나중에 확인할 때 또는 다른 팀원이 작성한 내용을 파악하기 용이하게 만든다.\n",
        "\n",
        "# #을 사용하여 주석을 표시한다. (ctrl + /)\n",
        "\n",
        "# doc string (주석의 용도로도 쓰임, ''또는 \"\" 두가지로 씀 = 같은 뜻/ 단 컴퓨터가 읽음)\n",
        "'''\n",
        "작성일 : 2022/01/26\n",
        "담당자 : 홍길동\n",
        "비고 : austiny@gatech.edu\n",
        "'''\n",
        "\"\"\"\n",
        "작성일 : 2022/01/26\n",
        "담당자 : 홍길동\n",
        "비고 : austiny@gatech.edu\n",
        "\"\"\"\n",
        "# 코드의 윗쪽 또는 오른쪽에 주석을 붙인다.\n",
        "print('Hello World') # 코드의 우측 또는 코드의 윗줄에 적는다."
      ]
    },
    {
      "cell_type": "code",
      "source": [
        "# 변수 Variable\n",
        "# 어떤 값을 저장하는 저장소 (a-)\n",
        "a = 100\n",
        "print(a)\n",
        "stumathsum = 350\n",
        "stu_math_sum = 350      # _를 이용 = 스네이크 케이스 snake_case\n",
        "StuMathSum = 350        # 대문자를 이용 = 캐멀 케이스 CamelCase\n"
      ],
      "metadata": {
        "colab": {
          "base_uri": "https://localhost:8080/"
        },
        "id": "-g1sD7emw-yC",
        "outputId": "2228da52-b219-4cd9-f11d-193b93d98615"
      },
      "execution_count": 2,
      "outputs": [
        {
          "output_type": "stream",
          "name": "stdout",
          "text": [
            "100\n"
          ]
        }
      ]
    },
    {
      "cell_type": "code",
      "source": [
        "a1 = 100\n",
        "#1a = 100  #숫자가 먼저 올수 없다."
      ],
      "metadata": {
        "id": "_7QXgETLy2ne"
      },
      "execution_count": 3,
      "outputs": []
    },
    {
      "cell_type": "code",
      "source": [
        "#_a = 100\n",
        "# @a = 100  과 같이 언더바_를 제외한 특수기호는 쓸수없다"
      ],
      "metadata": {
        "id": "q_Y5n3rJzEey"
      },
      "execution_count": 4,
      "outputs": []
    },
    {
      "cell_type": "code",
      "source": [
        "홍길동 = 55\n",
        "# 한글 변수명 사용이 가능하지만  쓰지 말자"
      ],
      "metadata": {
        "id": "r9noS5b9zSvB"
      },
      "execution_count": 5,
      "outputs": []
    },
    {
      "cell_type": "code",
      "source": [
        "# 인덱싱 (슬라이싱)\n",
        "\n",
        "s = 'world'\n",
        "print(s[2]) #파이썬은 인덱스 시작이 0이다. _문법 설명 : s의 2번째 자리 w=0, o= 1, r= 2, l= 3 등등\n",
        "print(s[-1])#-1은 마지막 인덱스를 가리킨다.\n",
        "print(s[4])\n",
        "\n",
        "ss = '900101-2547389'\n",
        "print(ss[7])      #하나만 추출할때는 indexing\n",
        "addr = '서울시 강남구 역삼동 1번지' #띄어쓰기도 몇번째인지 인지\n",
        "print(addr[4:6])      #여러개를 추출할때는 slicing\n",
        "print(addr[4:7])"
      ],
      "metadata": {
        "colab": {
          "base_uri": "https://localhost:8080/"
        },
        "id": "WlA5Up12zaJu",
        "outputId": "6ebda63e-d279-4fb2-8dc1-520eed4c7d43"
      },
      "execution_count": 6,
      "outputs": [
        {
          "output_type": "stream",
          "name": "stdout",
          "text": [
            "r\n",
            "d\n",
            "d\n",
            "2\n",
            "강남\n",
            "강남구\n"
          ]
        }
      ]
    },
    {
      "cell_type": "code",
      "source": [
        "# print() \n",
        "\n",
        "print( '좋은 아침입니다.')"
      ],
      "metadata": {
        "colab": {
          "base_uri": "https://localhost:8080/"
        },
        "id": "lzxlrBSx1Vjb",
        "outputId": "384eebaa-dcdb-48e7-a9fe-0b1722c37545"
      },
      "execution_count": 7,
      "outputs": [
        {
          "output_type": "stream",
          "name": "stdout",
          "text": [
            "좋은 아침입니다.\n"
          ]
        }
      ]
    },
    {
      "cell_type": "code",
      "source": [
        "when = '아침'\n",
        "print( '좋은',when,'입니다.')\n",
        "print( '좋은 %s입니다.' % when)\n",
        "print( '좋은 {}입니다.'.format(when))\n",
        "print(f'좋은 {when}입니다.') #******* 제일 중요"
      ],
      "metadata": {
        "colab": {
          "base_uri": "https://localhost:8080/"
        },
        "id": "1f83DYaX1j2n",
        "outputId": "64ba9e07-03b1-4a72-d467-6d619b9e05d9"
      },
      "execution_count": 8,
      "outputs": [
        {
          "output_type": "stream",
          "name": "stdout",
          "text": [
            "좋은 아침 입니다.\n",
            "좋은 아침입니다.\n",
            "좋은 아침입니다.\n",
            "좋은 아침입니다.\n"
          ]
        }
      ]
    },
    {
      "cell_type": "code",
      "source": [
        "############################################################\n",
        "# 리스트 list   튜플 Tuple   딕셔너리 Dict  셋 Set (자료형)\n",
        "#############################################################\n",
        "\n",
        "# 리스트 list\n",
        "# 지금까지 사용한 숫자1, 문자1 등 개별적, 독립적인 자료가 아닌\n",
        "# 리스트는 이러한 자료들 여러개를 모아서 사용할 수 있게 해준다.\n",
        "# 리스트에 넣는 자료를 요소 element 라고 한다.\n",
        "\n",
        "# 리스트는 []로 구성한다.\n",
        "list = [1,2,3,4,5]\n",
        "print(list)\n",
        "#리스트는 다양한 자료형의 데이터를 한번에 담을 수 있다.\n",
        "# (but, 하나의 리스트에는 한가지 자료형만 저장하는 것이 오히려 바람직하다.)\n",
        "list = [1,2,3,'대한','민국', True, False]\n",
        "print(list)\n",
        "score = [ 80,90,70,60]\n",
        "print(score)\n",
        "# 리스트는 인덱싱indexing과 슬라이싱slicing이 가능하다.\n",
        "print(score[0]) #파이썬은 0부터 시작한다.\n",
        "print(score[0:2]) # 슬라이싱은 0부터 2미만.. 처럼 끝은 미만을 나타낸다.\n",
        "\n",
        "#리스트는 수정/삭제 가 가능하다.(mutable, 튜플은 immutable)\n",
        "score[0] = 100\n",
        "print(score)\n",
        "score[-1] = 100\n",
        "print(score)\n",
        "# score[4]- indexerror 아주 많이 접하게 될 에러(예외)\n",
        "\n",
        "# 리스트는 연산이 가능하다.\n",
        "list_a = [1,2,3]\n",
        "list_b = [4,5,6]\n",
        "\n",
        "print('list_a = ', list_a)\n",
        "print('list_b = ', list_b)\n",
        "print(list_a + list_b)\n",
        "print(list_a*3)\n",
        "print(len(list_a)) # len = 갯수 계산\n"
      ],
      "metadata": {
        "colab": {
          "base_uri": "https://localhost:8080/"
        },
        "id": "TT3cZeyF1j7l",
        "outputId": "4b6e770d-c99d-451f-8ab6-4c5de536d471"
      },
      "execution_count": 9,
      "outputs": [
        {
          "output_type": "stream",
          "name": "stdout",
          "text": [
            "[1, 2, 3, 4, 5]\n",
            "[1, 2, 3, '대한', '민국', True, False]\n",
            "[80, 90, 70, 60]\n",
            "80\n",
            "[80, 90]\n",
            "[100, 90, 70, 60]\n",
            "[100, 90, 70, 100]\n",
            "list_a =  [1, 2, 3]\n",
            "list_b =  [4, 5, 6]\n",
            "[1, 2, 3, 4, 5, 6]\n",
            "[1, 2, 3, 1, 2, 3, 1, 2, 3]\n",
            "3\n"
          ]
        }
      ]
    },
    {
      "cell_type": "code",
      "source": [
        "# 리스트에 많이 사용되는 함수들...\n",
        "# append() 리스트에 요소를 추가할 때 사용, 끝에만 추가\n",
        "\n",
        "print(score)\n",
        "score.append(60)\n",
        "print(score)\n",
        "score.append(70)\n",
        "print(score)"
      ],
      "metadata": {
        "colab": {
          "base_uri": "https://localhost:8080/"
        },
        "id": "VZGtUCZq1j-s",
        "outputId": "ae722ca2-ce05-4968-fd50-0e8db4aa4a63"
      },
      "execution_count": 10,
      "outputs": [
        {
          "output_type": "stream",
          "name": "stdout",
          "text": [
            "[100, 90, 70, 100]\n",
            "[100, 90, 70, 100, 60]\n",
            "[100, 90, 70, 100, 60, 70]\n"
          ]
        }
      ]
    },
    {
      "cell_type": "code",
      "source": [
        "# insert() 리스트에 요소를 추가할 때 사용, 특정 위치를 지정하여 추가\n",
        "\n",
        "list = []\n",
        "list.insert(0,10)\n",
        "print(list)\n",
        "\n",
        "list.insert(1,50)\n",
        "print(list)\n",
        "list.insert(-1,90)\n",
        "print(list)"
      ],
      "metadata": {
        "colab": {
          "base_uri": "https://localhost:8080/"
        },
        "id": "9w1lDyQuJSz8",
        "outputId": "1fc0edb9-098d-4e2a-e9a7-2bf77d9f57b5"
      },
      "execution_count": 16,
      "outputs": [
        {
          "output_type": "stream",
          "name": "stdout",
          "text": [
            "[10]\n",
            "[10, 50]\n",
            "[10, 90, 50]\n"
          ]
        }
      ]
    },
    {
      "cell_type": "code",
      "source": [
        "list_a = [1,2,3]\n",
        "list_a.extend([4,5,6])\n",
        "list_a #파괴적 처리방식"
      ],
      "metadata": {
        "colab": {
          "base_uri": "https://localhost:8080/"
        },
        "id": "zkQPQE4qKMeC",
        "outputId": "6482159e-a7ea-4681-ea13-7d1644826840"
      },
      "execution_count": 18,
      "outputs": [
        {
          "output_type": "execute_result",
          "data": {
            "text/plain": [
              "[1, 2, 3, 4, 5, 6]"
            ]
          },
          "metadata": {},
          "execution_count": 18
        }
      ]
    },
    {
      "cell_type": "code",
      "source": [
        "list_a = [1,2,3]\n",
        "list_b = [4,5,6]\n",
        "list_a + list_b     #미묘한 차이...a반이 그대로 살아 있음\n",
        "print(list_a)         # 비파괴적 처리방식\n",
        "\n",
        "# 리스트 연결만으로는 list_A에 어떠한 영향도 주지 않는다.(비파괴적 처리)\n",
        "# 하지만 extend() 를 사용하면 list_a에 직접적으로 영향을 주게 된다.(파괴적 처리)\n",
        "\n",
        "# 기본적으로 자료를 사용할 때는 비파괴적으로 사용하는 것이 바람직하다.\n",
        "# 가능하면 원본 데이터는 그대로 유지하고 사용하는 것이 선택지가 더 넓다.\n"
      ],
      "metadata": {
        "colab": {
          "base_uri": "https://localhost:8080/"
        },
        "id": "0Pt3oqRzKMgw",
        "outputId": "d3ceaaf6-ae34-4525-87ef-4221b6445afc"
      },
      "execution_count": 20,
      "outputs": [
        {
          "output_type": "stream",
          "name": "stdout",
          "text": [
            "[1, 2, 3]\n"
          ]
        }
      ]
    },
    {
      "cell_type": "code",
      "source": [
        "# del() 리스트에서 위치 데이터 삭제\n",
        "\n",
        "list_a = [0,1,2,3,4,5]\n",
        "del list_a[1]  #index 값으로 위치값을 삭제\n",
        "print(list_a)\n",
        "\n",
        "del list_a[1:3]  #1부터 3미만 즉 2까지\n",
        "print(list_a)\n",
        "\n",
        "del list_a[:]  #생략하면 처음부터 끝\n",
        "print(list_a)\n",
        "\n",
        "# list_a.clear() 리스트 요소를 전부 한번에 삭제 = del list_a[:]\n",
        "    "
      ],
      "metadata": {
        "colab": {
          "base_uri": "https://localhost:8080/"
        },
        "id": "4IVRXmS6MjUp",
        "outputId": "4686385f-4f65-4b1a-8249-ddd0df5f1e2a"
      },
      "execution_count": 45,
      "outputs": [
        {
          "output_type": "stream",
          "name": "stdout",
          "text": [
            "[0, 2, 3, 4, 5]\n",
            "[0, 4, 5]\n",
            "[]\n"
          ]
        }
      ]
    },
    {
      "cell_type": "code",
      "source": [
        "# pop() 리스트에서 마지막 위치 데이터 삭제\n",
        "list_a.pop()\n",
        "list_a"
      ],
      "metadata": {
        "colab": {
          "base_uri": "https://localhost:8080/"
        },
        "id": "h8t88noYMjXT",
        "outputId": "63d1f9d1-e2a5-4bb6-a703-e5b4039513e9"
      },
      "execution_count": 41,
      "outputs": [
        {
          "output_type": "execute_result",
          "data": {
            "text/plain": [
              "[0, 2, 3, 4]"
            ]
          },
          "metadata": {},
          "execution_count": 41
        }
      ]
    },
    {
      "cell_type": "code",
      "source": [
        "list_a.pop(2)\n",
        "list_a"
      ],
      "metadata": {
        "colab": {
          "base_uri": "https://localhost:8080/"
        },
        "id": "NXKVGKUgNG86",
        "outputId": "1b152cd3-f79b-4c6d-8b96-944c9ea852b1"
      },
      "execution_count": 42,
      "outputs": [
        {
          "output_type": "execute_result",
          "data": {
            "text/plain": [
              "[0, 2, 4]"
            ]
          },
          "metadata": {},
          "execution_count": 42
        }
      ]
    },
    {
      "cell_type": "code",
      "source": [
        "# remove 값으로 삭제\n",
        "\n",
        "list_c = [1,2,1,2]\n",
        "list_c.remove(2) # remove 는 요소의 값을 찾아 삭제한다.\n",
        "                # 동일한 값이 여러개 있을때는 하나씩 순차적으로 삭제한다.\n",
        "                # 리스트에서 중복된 여러개의 값을 제거하려면 반복문을 사용한다.\n",
        "print(list_c)\n",
        "list_c.remove(2) \n",
        "print(list_c)\n"
      ],
      "metadata": {
        "colab": {
          "base_uri": "https://localhost:8080/"
        },
        "id": "O_xCr6I9NG_m",
        "outputId": "bb27fa94-bf1b-4f28-9c46-cfdc700c2311"
      },
      "execution_count": 46,
      "outputs": [
        {
          "output_type": "stream",
          "name": "stdout",
          "text": [
            "[1, 1, 2]\n",
            "[1, 1]\n"
          ]
        }
      ]
    },
    {
      "cell_type": "code",
      "source": [
        "list = [1,2,3,4,5]\n",
        "print(list[0])  # indexing  비파괴적으로 동작한다.\n",
        "print(list)\n",
        "\n",
        "print(list.pop())  # pop은  파괴적으로 동작한다.\n",
        "print(list)"
      ],
      "metadata": {
        "colab": {
          "base_uri": "https://localhost:8080/"
        },
        "id": "5rmwkRt2Pz0A",
        "outputId": "e8543909-7c80-4171-90db-659c73fdc462"
      },
      "execution_count": 47,
      "outputs": [
        {
          "output_type": "stream",
          "name": "stdout",
          "text": [
            "1\n",
            "[1, 2, 3, 4, 5]\n",
            "5\n",
            "[1, 2, 3, 4]\n"
          ]
        }
      ]
    },
    {
      "cell_type": "code",
      "source": [
        "# in/ not in 리스트에 존재하는 요소인지를 확인\n",
        "\n",
        "list = [222,434,65,123,547,876]\n",
        "print(222 in list)\n",
        "\n",
        "print(221 in list)\n",
        "\n",
        "print(221 not in list)\n"
      ],
      "metadata": {
        "colab": {
          "base_uri": "https://localhost:8080/"
        },
        "id": "7nwtGUsxQkJO",
        "outputId": "acdc2215-8a9a-474f-bb77-59999c9e953b"
      },
      "execution_count": 50,
      "outputs": [
        {
          "output_type": "stream",
          "name": "stdout",
          "text": [
            "True\n",
            "False\n",
            "True\n"
          ]
        }
      ]
    },
    {
      "cell_type": "code",
      "source": [
        "# 딕셔너리"
      ],
      "metadata": {
        "id": "li2Ey5fpRl6d"
      },
      "execution_count": null,
      "outputs": []
    }
  ]
}