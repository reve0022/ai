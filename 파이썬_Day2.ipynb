{
  "nbformat": 4,
  "nbformat_minor": 0,
  "metadata": {
    "colab": {
      "name": "파이썬_Day2.ipynb",
      "provenance": [],
      "authorship_tag": "ABX9TyNsTxIdNYVrToAh5rkhH5Kb",
      "include_colab_link": true
    },
    "kernelspec": {
      "name": "python3",
      "display_name": "Python 3"
    },
    "language_info": {
      "name": "python"
    }
  },
  "cells": [
    {
      "cell_type": "markdown",
      "metadata": {
        "id": "view-in-github",
        "colab_type": "text"
      },
      "source": [
        "<a href=\"https://colab.research.google.com/github/reve0022/ai/blob/main/%ED%8C%8C%EC%9D%B4%EC%8D%AC_Day2.ipynb\" target=\"_parent\"><img src=\"https://colab.research.google.com/assets/colab-badge.svg\" alt=\"Open In Colab\"/></a>"
      ]
    },
    {
      "cell_type": "code",
      "execution_count": 1,
      "metadata": {
        "colab": {
          "base_uri": "https://localhost:8080/"
        },
        "id": "ysMIA-hJrwGL",
        "outputId": "6b2b7b8e-d192-44b9-b034-421741281ca7"
      },
      "outputs": [
        {
          "output_type": "stream",
          "name": "stdout",
          "text": [
            "Hello World\n"
          ]
        }
      ],
      "source": [
        "#########################\n",
        "# Review\n",
        "#########################\n",
        "# Comment 주석 - 코드에 대한 설명, 컴퓨터는 읽지 않고\n",
        "#                 사람만 읽는 내용,\n",
        "#              - 일정 코드를 임시로 실행하지 않고 감추고 에러를 확인하는 용도로도 사용된다.\n",
        "#              - 본인이 기록한 내용을 나중에 확인할 때 또는 다른 팀원이 작성한 내용을 파악하기 용이하게 만든다.\n",
        "\n",
        "# #을 사용하여 주석을 표시한다. (ctrl + /)\n",
        "\n",
        "# doc string (주석의 용도로도 쓰임, ''또는 \"\" 두가지로 씀 = 같은 뜻/ 단 컴퓨터가 읽음)\n",
        "'''\n",
        "작성일 : 2022/01/26\n",
        "담당자 : 홍길동\n",
        "비고 : austiny@gatech.edu\n",
        "'''\n",
        "\"\"\"\n",
        "작성일 : 2022/01/26\n",
        "담당자 : 홍길동\n",
        "비고 : austiny@gatech.edu\n",
        "\"\"\"\n",
        "# 코드의 윗쪽 또는 오른쪽에 주석을 붙인다.\n",
        "print('Hello World') # 코드의 우측 또는 코드의 윗줄에 적는다."
      ]
    },
    {
      "cell_type": "code",
      "source": [
        "# 변수 Variable\n",
        "# 어떤 값을 저장하는 저장소 (a-)\n",
        "a = 100\n",
        "print(a)\n",
        "stumathsum = 350\n",
        "stu_math_sum = 350      # _를 이용 = 스네이크 케이스 snake_case\n",
        "StuMathSum = 350        # 대문자를 이용 = 캐멀 케이스 CamelCase\n"
      ],
      "metadata": {
        "colab": {
          "base_uri": "https://localhost:8080/"
        },
        "id": "-g1sD7emw-yC",
        "outputId": "edb1d105-af61-4e1d-bbc6-5e1e15a81ce7"
      },
      "execution_count": 2,
      "outputs": [
        {
          "output_type": "stream",
          "name": "stdout",
          "text": [
            "100\n"
          ]
        }
      ]
    },
    {
      "cell_type": "code",
      "source": [
        "a1 = 100\n",
        "#1a = 100  #숫자가 먼저 올수 없다."
      ],
      "metadata": {
        "id": "_7QXgETLy2ne"
      },
      "execution_count": 3,
      "outputs": []
    },
    {
      "cell_type": "code",
      "source": [
        "#_a = 100\n",
        "# @a = 100  과 같이 언더바_를 제외한 특수기호는 쓸수없다"
      ],
      "metadata": {
        "id": "q_Y5n3rJzEey"
      },
      "execution_count": 4,
      "outputs": []
    },
    {
      "cell_type": "code",
      "source": [
        "홍길동 = 55\n",
        "# 한글 변수명 사용이 가능하지만  쓰지 말자"
      ],
      "metadata": {
        "id": "r9noS5b9zSvB"
      },
      "execution_count": 5,
      "outputs": []
    },
    {
      "cell_type": "code",
      "source": [
        "# 인덱싱 (슬라이싱)\n",
        "\n",
        "s = 'world'\n",
        "print(s[2]) #파이썬은 인덱스 시작이 0이다. _문법 설명 : s의 2번째 자리 w=0, o= 1, r= 2, l= 3 등등\n",
        "print(s[-1])#-1은 마지막 인덱스를 가리킨다.\n",
        "print(s[4])\n",
        "\n",
        "ss = '900101-2547389'\n",
        "print(ss[7])      #하나만 추출할때는 indexing\n",
        "addr = '서울시 강남구 역삼동 1번지' #띄어쓰기도 몇번째인지 인지\n",
        "print(addr[4:6])      #여러개를 추출할때는 slicing\n",
        "print(addr[4:7])"
      ],
      "metadata": {
        "colab": {
          "base_uri": "https://localhost:8080/"
        },
        "id": "WlA5Up12zaJu",
        "outputId": "8a129817-bd54-4339-d2bf-f168c197ea97"
      },
      "execution_count": 6,
      "outputs": [
        {
          "output_type": "stream",
          "name": "stdout",
          "text": [
            "r\n",
            "d\n",
            "d\n",
            "2\n",
            "강남\n",
            "강남구\n"
          ]
        }
      ]
    },
    {
      "cell_type": "code",
      "source": [
        "# print() \n",
        "\n",
        "print( '좋은 아침입니다.')"
      ],
      "metadata": {
        "colab": {
          "base_uri": "https://localhost:8080/"
        },
        "id": "lzxlrBSx1Vjb",
        "outputId": "ce4705d3-91ed-411d-93f1-f5094e3f14f6"
      },
      "execution_count": 7,
      "outputs": [
        {
          "output_type": "stream",
          "name": "stdout",
          "text": [
            "좋은 아침입니다.\n"
          ]
        }
      ]
    },
    {
      "cell_type": "code",
      "source": [
        "when = '아침'\n",
        "print( '좋은',when,'입니다.')\n",
        "print( '좋은 %s입니다.' % when)\n",
        "print( '좋은 {}입니다.'.format(when))\n",
        "print(f'좋은 {when}입니다.') #******* 제일 중요"
      ],
      "metadata": {
        "colab": {
          "base_uri": "https://localhost:8080/"
        },
        "id": "1f83DYaX1j2n",
        "outputId": "8063a9a6-aca2-496f-bdaf-e0c82ef06bd5"
      },
      "execution_count": 8,
      "outputs": [
        {
          "output_type": "stream",
          "name": "stdout",
          "text": [
            "좋은 아침 입니다.\n",
            "좋은 아침입니다.\n",
            "좋은 아침입니다.\n",
            "좋은 아침입니다.\n"
          ]
        }
      ]
    },
    {
      "cell_type": "code",
      "source": [
        "############################################################\n",
        "# 리스트 list   튜플 Tuple   딕셔너리 Dict  셋 Set (자료형)\n",
        "#############################################################\n",
        "\n",
        "# 리스트 list\n",
        "# 지금까지 사용한 숫자1, 문자1 등 개별적, 독립적인 자료가 아닌\n",
        "# 리스트는 이러한 자료들 여러개를 모아서 사용할 수 있게 해준다.\n",
        "# 리스트에 넣는 자료를 요소 element 라고 한다.\n",
        "\n",
        "# 리스트는 []로 구성한다.\n",
        "list = [1,2,3,4,5]\n",
        "print(list)\n",
        "#리스트는 다양한 자료형의 데이터를 한번에 담을 수 있다.\n",
        "# (but, 하나의 리스트에는 한가지 자료형만 저장하는 것이 오히려 바람직하다.)\n",
        "list = [1,2,3,'대한','민국', True, False]\n",
        "print(list)\n",
        "score = [ 80,90,70,60]\n",
        "print(score)\n",
        "# 리스트는 인덱싱indexing과 슬라이싱slicing이 가능하다.\n",
        "print(score[0]) #파이썬은 0부터 시작한다.\n",
        "print(score[0:2]) # 슬라이싱은 0부터 2미만.. 처럼 끝은 미만을 나타낸다.\n",
        "\n",
        "#리스트는 수정/삭제 가 가능하다.(mutable, 튜플은 immutable)\n",
        "score[0] = 100\n",
        "print(score)\n",
        "score[-1] = 100\n",
        "print(score)\n",
        "# score[4]- indexerror 아주 많이 접하게 될 에러(예외)\n",
        "\n",
        "# 리스트는 연산이 가능하다.\n",
        "list_a = [1,2,3]\n",
        "list_b = [4,5,6]\n",
        "\n",
        "print('list_a = ', list_a)\n",
        "print('list_b = ', list_b)\n",
        "print(list_a + list_b)\n",
        "print(list_a*3)\n",
        "print(len(list_a)) # len = 갯수 계산\n"
      ],
      "metadata": {
        "colab": {
          "base_uri": "https://localhost:8080/"
        },
        "id": "TT3cZeyF1j7l",
        "outputId": "1a64f611-7d67-47aa-cb58-c1581bd31a37"
      },
      "execution_count": 9,
      "outputs": [
        {
          "output_type": "stream",
          "name": "stdout",
          "text": [
            "[1, 2, 3, 4, 5]\n",
            "[1, 2, 3, '대한', '민국', True, False]\n",
            "[80, 90, 70, 60]\n",
            "80\n",
            "[80, 90]\n",
            "[100, 90, 70, 60]\n",
            "[100, 90, 70, 100]\n",
            "list_a =  [1, 2, 3]\n",
            "list_b =  [4, 5, 6]\n",
            "[1, 2, 3, 4, 5, 6]\n",
            "[1, 2, 3, 1, 2, 3, 1, 2, 3]\n",
            "3\n"
          ]
        }
      ]
    },
    {
      "cell_type": "code",
      "source": [
        "# 리스트에 많이 사용되는 함수들...\n",
        "# append() 리스트에 요소를 추가할 때 사용, 끝에만 추가\n",
        "\n",
        "print(score)\n",
        "score.append(60)\n",
        "print(score)\n",
        "score.append(70)\n",
        "print(score)"
      ],
      "metadata": {
        "colab": {
          "base_uri": "https://localhost:8080/"
        },
        "id": "VZGtUCZq1j-s",
        "outputId": "85fa3ab1-7aab-44b9-fa8a-2e53b8167a35"
      },
      "execution_count": 10,
      "outputs": [
        {
          "output_type": "stream",
          "name": "stdout",
          "text": [
            "[100, 90, 70, 100]\n",
            "[100, 90, 70, 100, 60]\n",
            "[100, 90, 70, 100, 60, 70]\n"
          ]
        }
      ]
    },
    {
      "cell_type": "code",
      "source": [
        "# insert() 리스트에 요소를 추가할 때 사용, 특정 위치를 지정하여 추가\n",
        "\n",
        "list = []\n",
        "list.insert(0,10)\n",
        "print(list)\n",
        "\n",
        "list.insert(1,50)\n",
        "print(list)\n",
        "list.insert(-1,90)\n",
        "print(list)"
      ],
      "metadata": {
        "colab": {
          "base_uri": "https://localhost:8080/"
        },
        "id": "9w1lDyQuJSz8",
        "outputId": "9ea48ee3-a000-4630-f07a-bb787a44a3c9"
      },
      "execution_count": 11,
      "outputs": [
        {
          "output_type": "stream",
          "name": "stdout",
          "text": [
            "[10]\n",
            "[10, 50]\n",
            "[10, 90, 50]\n"
          ]
        }
      ]
    },
    {
      "cell_type": "code",
      "source": [
        "list_a = [1,2,3]\n",
        "list_a.extend([4,5,6])\n",
        "list_a #파괴적 처리방식"
      ],
      "metadata": {
        "colab": {
          "base_uri": "https://localhost:8080/"
        },
        "id": "zkQPQE4qKMeC",
        "outputId": "bbea531f-147c-41b7-b215-f4e02255cefc"
      },
      "execution_count": 12,
      "outputs": [
        {
          "output_type": "execute_result",
          "data": {
            "text/plain": [
              "[1, 2, 3, 4, 5, 6]"
            ]
          },
          "metadata": {},
          "execution_count": 12
        }
      ]
    },
    {
      "cell_type": "code",
      "source": [
        "list_a = [1,2,3]\n",
        "list_b = [4,5,6]\n",
        "list_a + list_b     #미묘한 차이...a반이 그대로 살아 있음\n",
        "print(list_a)         # 비파괴적 처리방식\n",
        "\n",
        "# 리스트 연결만으로는 list_A에 어떠한 영향도 주지 않는다.(비파괴적 처리)\n",
        "# 하지만 extend() 를 사용하면 list_a에 직접적으로 영향을 주게 된다.(파괴적 처리)\n",
        "\n",
        "# 기본적으로 자료를 사용할 때는 비파괴적으로 사용하는 것이 바람직하다.\n",
        "# 가능하면 원본 데이터는 그대로 유지하고 사용하는 것이 선택지가 더 넓다.\n"
      ],
      "metadata": {
        "colab": {
          "base_uri": "https://localhost:8080/"
        },
        "id": "0Pt3oqRzKMgw",
        "outputId": "3cc857d6-47a3-4202-83fb-9397d18b6296"
      },
      "execution_count": 13,
      "outputs": [
        {
          "output_type": "stream",
          "name": "stdout",
          "text": [
            "[1, 2, 3]\n"
          ]
        }
      ]
    },
    {
      "cell_type": "code",
      "source": [
        "# del() 리스트에서 위치 데이터 삭제\n",
        "\n",
        "list_a = [0,1,2,3,4,5]\n",
        "del list_a[1]  #index 값으로 위치값을 삭제\n",
        "print(list_a)\n",
        "\n",
        "del list_a[1:3]  #1부터 3미만 즉 2까지\n",
        "print(list_a)\n",
        "\n",
        "del list_a[:]  #생략하면 처음부터 끝\n",
        "print(list_a)\n",
        "\n",
        "# list_a.clear() 리스트 요소를 전부 한번에 삭제 = del list_a[:]\n",
        "    "
      ],
      "metadata": {
        "colab": {
          "base_uri": "https://localhost:8080/"
        },
        "id": "4IVRXmS6MjUp",
        "outputId": "7bed93f4-e3bb-42ef-f8a4-1c3223613795"
      },
      "execution_count": 14,
      "outputs": [
        {
          "output_type": "stream",
          "name": "stdout",
          "text": [
            "[0, 2, 3, 4, 5]\n",
            "[0, 4, 5]\n",
            "[]\n"
          ]
        }
      ]
    },
    {
      "cell_type": "code",
      "source": [
        "# pop() 리스트에서 마지막 위치 데이터 삭제\n",
        "list_a.pop()\n",
        "list_a"
      ],
      "metadata": {
        "id": "h8t88noYMjXT"
      },
      "execution_count": null,
      "outputs": []
    },
    {
      "cell_type": "code",
      "source": [
        "list_a.pop(2)\n",
        "list_a"
      ],
      "metadata": {
        "id": "NXKVGKUgNG86"
      },
      "execution_count": null,
      "outputs": []
    },
    {
      "cell_type": "code",
      "source": [
        "# remove 값으로 삭제\n",
        "\n",
        "list_c = [1,2,1,2]\n",
        "list_c.remove(2) # remove 는 요소의 값을 찾아 삭제한다.\n",
        "                # 동일한 값이 여러개 있을때는 하나씩 순차적으로 삭제한다.\n",
        "                # 리스트에서 중복된 여러개의 값을 제거하려면 반복문을 사용한다.\n",
        "print(list_c)\n",
        "list_c.remove(2) \n",
        "print(list_c)\n"
      ],
      "metadata": {
        "id": "O_xCr6I9NG_m"
      },
      "execution_count": null,
      "outputs": []
    },
    {
      "cell_type": "code",
      "source": [
        "list = [1,2,3,4,5]\n",
        "print(list[0])  # indexing  비파괴적으로 동작한다.\n",
        "print(list)\n",
        "\n",
        "print(list.pop())  # pop은  파괴적으로 동작한다.\n",
        "print(list)"
      ],
      "metadata": {
        "id": "5rmwkRt2Pz0A"
      },
      "execution_count": null,
      "outputs": []
    },
    {
      "cell_type": "code",
      "source": [
        "# in/ not in 리스트에 존재하는 요소인지를 확인\n",
        "\n",
        "list = [222,434,65,123,547,876]\n",
        "print(222 in list)\n",
        "\n",
        "print(221 in list)\n",
        "\n",
        "print(221 not in list)\n"
      ],
      "metadata": {
        "id": "7nwtGUsxQkJO"
      },
      "execution_count": null,
      "outputs": []
    },
    {
      "cell_type": "code",
      "source": [
        "# Dict 딕셔너리 (java 의 map, JS 에서는 json 과 유사한 자료구조)\n",
        "# 리스트가 인덱스를 기반으로 값을 저장한다면 딕셔너리는 키값을 기반으로 값을 저장한다.\n",
        "\n",
        "# {}를 사용하여 데이터들을 저장한다.\n",
        "# 삽입/삭제가 가능하다. mutable \n",
        "# 순서가 없으므로 인덱싱과 슬라이싱이 불가능하다.\n",
        "\n",
        "dict = {\n",
        "     \"name\": \"엔드 게임\",\n",
        "     \"no\": 1,\n",
        "     \"type\": \"히어로 무비\",\n",
        "    \"price\": 14000\n",
        "}\n",
        "print(dict)\n",
        "dict['name']"
      ],
      "metadata": {
        "id": "li2Ey5fpRl6d"
      },
      "execution_count": null,
      "outputs": []
    },
    {
      "cell_type": "code",
      "source": [
        "dict = {\n",
        "      \"감독\":[\"안소니\",\"루소\"],\n",
        "      \"배우\":[\"타노스\",\"토르\",\"헐크\"]\n",
        "}\n",
        "\n",
        "dict[\"감독\"]"
      ],
      "metadata": {
        "colab": {
          "base_uri": "https://localhost:8080/"
        },
        "id": "SfHwQZDtlQxv",
        "outputId": "6574566d-071e-4e37-a9bf-1b3d0d56b936"
      },
      "execution_count": 20,
      "outputs": [
        {
          "output_type": "execute_result",
          "data": {
            "text/plain": [
              "['안소니', '루소']"
            ]
          },
          "metadata": {},
          "execution_count": 20
        }
      ]
    },
    {
      "cell_type": "code",
      "source": [
        "dict = {\n",
        "     'name':'건조 망고',\n",
        "     'type':'절임 과일',\n",
        "    'ingredient':['망고','설탕','색소'],\n",
        "    'origin':'필리핀'\n",
        "}\n",
        "\n",
        "print('name:', dict['name'])\n",
        "print('type:', dict['type'])\n",
        "print('ingredient:', dict['ingredient'])\n",
        "print('origin:', dict['origin'])\n",
        "\n",
        "\n",
        "#수정가능\n",
        "dict['namne']= '망고'\n",
        "print('name:', dict['name'])\n",
        "\n",
        "print(dict['ingredient'][0])\n",
        "\n",
        "#추가\n",
        "dict['price'] = 5000\n",
        "\n",
        "print(dict)\n",
        "\n",
        "dict['price'] = 4000\n",
        "\n",
        "print(dict)\n",
        "\n",
        "#삭제\n",
        "\n",
        "del dict['price']\n",
        "\n",
        "print(dict)"
      ],
      "metadata": {
        "colab": {
          "base_uri": "https://localhost:8080/"
        },
        "id": "1r8A0JYTmSO9",
        "outputId": "4f6039a7-1c2b-4649-c0be-7a4d9bc9b1a3"
      },
      "execution_count": 26,
      "outputs": [
        {
          "output_type": "stream",
          "name": "stdout",
          "text": [
            "name: 건조 망고\n",
            "type: 절임 과일\n",
            "ingredient: ['망고', '설탕', '색소']\n",
            "origin: 필리핀\n",
            "name: 건조 망고\n",
            "망고\n",
            "{'name': '건조 망고', 'type': '절임 과일', 'ingredient': ['망고', '설탕', '색소'], 'origin': '필리핀', 'namne': '망고', 'price': 5000}\n",
            "{'name': '건조 망고', 'type': '절임 과일', 'ingredient': ['망고', '설탕', '색소'], 'origin': '필리핀', 'namne': '망고', 'price': 4000}\n",
            "{'name': '건조 망고', 'type': '절임 과일', 'ingredient': ['망고', '설탕', '색소'], 'origin': '필리핀', 'namne': '망고'}\n"
          ]
        }
      ]
    },
    {
      "cell_type": "code",
      "source": [
        "dict = {}\n",
        "\n",
        "dict['name'] = '새이름'\n",
        "dict['height'] = 185\n",
        "dict['weight'] = 75\n",
        "\n",
        "print(dict)\n",
        "#삭제\n",
        "del dict['weight']\n",
        "print(dict)"
      ],
      "metadata": {
        "colab": {
          "base_uri": "https://localhost:8080/"
        },
        "id": "sSn3XiHxmYTH",
        "outputId": "b9f1a6b3-b7cc-49f9-b1df-ec4676f84730"
      },
      "execution_count": 28,
      "outputs": [
        {
          "output_type": "stream",
          "name": "stdout",
          "text": [
            "{'name': '새이름', 'height': 185, 'weight': 75}\n",
            "{'name': '새이름', 'height': 185}\n"
          ]
        }
      ]
    },
    {
      "cell_type": "code",
      "source": [
        "#dict 자주 등장하는 에러(예외)\n",
        "\n",
        "#KeyError 리스트에서 없는 인덱스에 접근하려고 하면 indexError가 발생되는 것처럼\n",
        "#         딕에서도 존재하지 않는 키값을 사용하면 예외 또는 에러를 발생시킨다\n",
        "\n",
        "dict = {\n",
        "     'name':'건조 망고',\n",
        "     'type':'절임 과일',\n",
        "    'ingredient':['망고','설탕','색소'],\n",
        "    'origin':'필리핀'\n",
        "}\n",
        "\n",
        "del dict['nane']"
      ],
      "metadata": {
        "colab": {
          "base_uri": "https://localhost:8080/",
          "height": 208
        },
        "id": "lpnavprToJdj",
        "outputId": "33213079-3486-437a-b308-1286de5f0edb"
      },
      "execution_count": 29,
      "outputs": [
        {
          "output_type": "error",
          "ename": "KeyError",
          "evalue": "ignored",
          "traceback": [
            "\u001b[0;31m---------------------------------------------------------------------------\u001b[0m",
            "\u001b[0;31mKeyError\u001b[0m                                  Traceback (most recent call last)",
            "\u001b[0;32m<ipython-input-29-dd4b02161173>\u001b[0m in \u001b[0;36m<module>\u001b[0;34m()\u001b[0m\n\u001b[1;32m     11\u001b[0m }\n\u001b[1;32m     12\u001b[0m \u001b[0;34m\u001b[0m\u001b[0m\n\u001b[0;32m---> 13\u001b[0;31m \u001b[0;32mdel\u001b[0m \u001b[0mdict\u001b[0m\u001b[0;34m[\u001b[0m\u001b[0;34m'nane'\u001b[0m\u001b[0;34m]\u001b[0m\u001b[0;34m\u001b[0m\u001b[0;34m\u001b[0m\u001b[0m\n\u001b[0m",
            "\u001b[0;31mKeyError\u001b[0m: 'nane'"
          ]
        }
      ]
    },
    {
      "cell_type": "code",
      "source": [
        "dict = {\n",
        "     'name':'건조 망고',\n",
        "     'type':'절임 과일',\n",
        "    'ingredient':['망고','설탕','색소'],\n",
        "    'origin':'필리핀'\n",
        "}\n",
        "\n",
        "key = input('>삭제를 원하는 데이터의 키값을 입력하세요 : ')\n",
        "\n",
        "if key in dict:\n",
        " print(dict[key])\n",
        "else:\n",
        "  print('존재하지 않은 키에 접근하고 있습니다..')"
      ],
      "metadata": {
        "colab": {
          "base_uri": "https://localhost:8080/"
        },
        "id": "DGIrR7sTpmxg",
        "outputId": "eeafb1c6-369b-4077-bd4a-29e73936b89c"
      },
      "execution_count": 31,
      "outputs": [
        {
          "output_type": "stream",
          "name": "stdout",
          "text": [
            ">삭제를 원하는 데이터의 키값을 입력하세요 : zjzk\n",
            "존재하지 않은 키에 접근하고 있습니다..\n"
          ]
        }
      ]
    },
    {
      "cell_type": "code",
      "source": [
        "# 튜플 tuple\n",
        "# ()를 사용하여 작성한다.\n",
        "# 리스트와 거의 대부분 유사하나, 튜플은 삽입, 수정등이 불가능하다 immutable\n",
        "# 튜플은 1개의 원소로 작성할 때는 ,를 삽입한다. (1,)\n",
        "# 튜플은 괄호를 생략할 수 있다.\n",
        "\n",
        "t = (1,2)\n",
        "print(t)\n",
        "print(type(t))\n",
        "\n",
        "t2 = 3,4\n",
        "print(t2)\n",
        "print(type(t2))\n",
        "\n",
        "t3 = (5)     # (5)   ==  5\n",
        "print(t3)\n",
        "print(type(3))\n",
        "\n",
        "t4 = 5     \n",
        "print(t4)\n",
        "print(type(t4))\n",
        "\n",
        "t5 = (5,)     \n",
        "print(t5)\n",
        "print(type(t5))"
      ],
      "metadata": {
        "id": "avtJT8fTtdBk",
        "outputId": "038f6589-b67b-4f68-895f-7871ec12c970",
        "colab": {
          "base_uri": "https://localhost:8080/"
        }
      },
      "execution_count": 35,
      "outputs": [
        {
          "output_type": "stream",
          "name": "stdout",
          "text": [
            "(1, 2)\n",
            "<class 'tuple'>\n",
            "(3, 4)\n",
            "<class 'tuple'>\n",
            "5\n",
            "<class 'int'>\n",
            "5\n",
            "<class 'int'>\n",
            "(5,)\n",
            "<class 'tuple'>\n"
          ]
        }
      ]
    },
    {
      "cell_type": "code",
      "source": [
        "t = (1,2,3,4,5)\n",
        "# t[0] = 8 튜플은 수정이 불가능하다 immutable\n",
        "del t[0] # 튜플은 삭제는 가능 하다"
      ],
      "metadata": {
        "id": "w_ZphUddybAv",
        "outputId": "387e39e2-6aa3-401a-db01-b2a55cad035a",
        "colab": {
          "base_uri": "https://localhost:8080/",
          "height": 208
        }
      },
      "execution_count": 38,
      "outputs": [
        {
          "output_type": "error",
          "ename": "TypeError",
          "evalue": "ignored",
          "traceback": [
            "\u001b[0;31m---------------------------------------------------------------------------\u001b[0m",
            "\u001b[0;31mTypeError\u001b[0m                                 Traceback (most recent call last)",
            "\u001b[0;32m<ipython-input-38-76fb24321c21>\u001b[0m in \u001b[0;36m<module>\u001b[0;34m()\u001b[0m\n\u001b[1;32m      1\u001b[0m \u001b[0mt\u001b[0m \u001b[0;34m=\u001b[0m \u001b[0;34m(\u001b[0m\u001b[0;36m1\u001b[0m\u001b[0;34m,\u001b[0m\u001b[0;36m2\u001b[0m\u001b[0;34m,\u001b[0m\u001b[0;36m3\u001b[0m\u001b[0;34m,\u001b[0m\u001b[0;36m4\u001b[0m\u001b[0;34m,\u001b[0m\u001b[0;36m5\u001b[0m\u001b[0;34m)\u001b[0m\u001b[0;34m\u001b[0m\u001b[0;34m\u001b[0m\u001b[0m\n\u001b[1;32m      2\u001b[0m \u001b[0;31m# t[0] = 8 튜플은 수정이 불가능하다 immutable\u001b[0m\u001b[0;34m\u001b[0m\u001b[0;34m\u001b[0m\u001b[0;34m\u001b[0m\u001b[0m\n\u001b[0;32m----> 3\u001b[0;31m \u001b[0;32mdel\u001b[0m \u001b[0mt\u001b[0m\u001b[0;34m[\u001b[0m\u001b[0;36m0\u001b[0m\u001b[0;34m]\u001b[0m \u001b[0;31m# 튜플은 삭제는 가능 하다\u001b[0m\u001b[0;34m\u001b[0m\u001b[0;34m\u001b[0m\u001b[0m\n\u001b[0m",
            "\u001b[0;31mTypeError\u001b[0m: 'tuple' object doesn't support item deletion"
          ]
        }
      ]
    },
    {
      "cell_type": "code",
      "source": [
        "t = (1,2,3,4,5)\n",
        "\n",
        "print(t[1]) #튜플은 인덱싱이 가능하다,\n",
        "\n",
        "print(t[2:]) #튜플은 슬라이싱이 가능하다,\n"
      ],
      "metadata": {
        "id": "02ZAHRBtzXlQ",
        "outputId": "03e3c81d-f9d4-4acc-ea4e-d023f36fe1fe",
        "colab": {
          "base_uri": "https://localhost:8080/"
        }
      },
      "execution_count": 40,
      "outputs": [
        {
          "output_type": "stream",
          "name": "stdout",
          "text": [
            "2\n",
            "(3, 4, 5)\n"
          ]
        }
      ]
    },
    {
      "cell_type": "code",
      "source": [
        "t1 = (1,2,3,4,5)\n",
        "t2 = (6,7,8,9)\n",
        "\n",
        "print(t1 + t2)\n",
        "print(t1)\n",
        "print(t2)\n",
        "\n",
        "print(t1 * 3)\n",
        "\n",
        "# 비 파괴적 연산은 가능하다."
      ],
      "metadata": {
        "id": "BbVlAoCrz59x",
        "outputId": "2cd75200-6a27-43ce-acff-7cbf2944991b",
        "colab": {
          "base_uri": "https://localhost:8080/"
        }
      },
      "execution_count": 41,
      "outputs": [
        {
          "output_type": "stream",
          "name": "stdout",
          "text": [
            "(1, 2, 3, 4, 5, 6, 7, 8, 9)\n",
            "(1, 2, 3, 4, 5)\n",
            "(6, 7, 8, 9)\n",
            "(1, 2, 3, 4, 5, 1, 2, 3, 4, 5, 1, 2, 3, 4, 5)\n"
          ]
        }
      ]
    },
    {
      "cell_type": "code",
      "source": [
        "# Set 집합\n",
        "# {} 를 사용하여 작성한다.\n",
        "#중복을 허용하지 않는다\n",
        "# 순서가 없다. unordered 리스트나 튜플은 순서가 있기 때문에 ordered 인덱싱과 슬라이싱을 통해\n",
        "#값을 꺼낼수 있지만 딕셔너리와 셋은 순서가 없어 불가능하다.\n",
        "# 중복을 허용하지 않는다는 특성을 활용하여 중복 제거 필터용으로 많이 사용한다.\n",
        "# set자료형에 저장된 값을 꺼내려면 리스트나 튜플로 변환하여 사용한다.\n",
        "# mutable 수정/삭제가 가능하다\n",
        "set = {1,1,2,2,2,3,4}\n",
        "print(set)  \n",
        "\n",
        "print(li[0])  "
      ],
      "metadata": {
        "id": "u0LbFxEr0Upk",
        "outputId": "a93dc922-bf3d-4c93-e768-de820074e0c7",
        "colab": {
          "base_uri": "https://localhost:8080/",
          "height": 244
        }
      },
      "execution_count": 44,
      "outputs": [
        {
          "output_type": "stream",
          "name": "stdout",
          "text": [
            "{1, 2, 3, 4}\n"
          ]
        },
        {
          "output_type": "error",
          "ename": "TypeError",
          "evalue": "ignored",
          "traceback": [
            "\u001b[0;31m---------------------------------------------------------------------------\u001b[0m",
            "\u001b[0;31mTypeError\u001b[0m                                 Traceback (most recent call last)",
            "\u001b[0;32m<ipython-input-44-339a345f00be>\u001b[0m in \u001b[0;36m<module>\u001b[0;34m()\u001b[0m\n\u001b[1;32m      8\u001b[0m \u001b[0mset\u001b[0m \u001b[0;34m=\u001b[0m \u001b[0;34m{\u001b[0m\u001b[0;36m1\u001b[0m\u001b[0;34m,\u001b[0m\u001b[0;36m1\u001b[0m\u001b[0;34m,\u001b[0m\u001b[0;36m2\u001b[0m\u001b[0;34m,\u001b[0m\u001b[0;36m2\u001b[0m\u001b[0;34m,\u001b[0m\u001b[0;36m2\u001b[0m\u001b[0;34m,\u001b[0m\u001b[0;36m3\u001b[0m\u001b[0;34m,\u001b[0m\u001b[0;36m4\u001b[0m\u001b[0;34m}\u001b[0m\u001b[0;34m\u001b[0m\u001b[0;34m\u001b[0m\u001b[0m\n\u001b[1;32m      9\u001b[0m \u001b[0mprint\u001b[0m\u001b[0;34m(\u001b[0m\u001b[0mset\u001b[0m\u001b[0;34m)\u001b[0m\u001b[0;34m\u001b[0m\u001b[0;34m\u001b[0m\u001b[0m\n\u001b[0;32m---> 10\u001b[0;31m \u001b[0mli\u001b[0m\u001b[0;34m=\u001b[0m\u001b[0mlist\u001b[0m\u001b[0;34m(\u001b[0m\u001b[0mset\u001b[0m\u001b[0;34m)\u001b[0m\u001b[0;34m\u001b[0m\u001b[0;34m\u001b[0m\u001b[0m\n\u001b[0m\u001b[1;32m     11\u001b[0m \u001b[0mprint\u001b[0m\u001b[0;34m(\u001b[0m\u001b[0mli\u001b[0m\u001b[0;34m[\u001b[0m\u001b[0;36m0\u001b[0m\u001b[0;34m]\u001b[0m\u001b[0;34m)\u001b[0m\u001b[0;34m\u001b[0m\u001b[0;34m\u001b[0m\u001b[0m\n",
            "\u001b[0;31mTypeError\u001b[0m: 'list' object is not callable"
          ]
        }
      ]
    },
    {
      "cell_type": "code",
      "source": [
        "s1 = set([1,2,3])\n",
        "print(type(s1))\n",
        "print(s1)\n",
        "#print(s1[0])\n",
        "\n",
        "li = list(s1)\n",
        "print(type(li))\n",
        "print(li)\n",
        "li[0]"
      ],
      "metadata": {
        "id": "ivDc0S8B2qGc",
        "outputId": "2f176323-ca2c-4a49-e866-8f9b21e75868",
        "colab": {
          "base_uri": "https://localhost:8080/"
        }
      },
      "execution_count": 3,
      "outputs": [
        {
          "output_type": "stream",
          "name": "stdout",
          "text": [
            "<class 'set'>\n",
            "{1, 2, 3}\n",
            "<class 'list'>\n",
            "[1, 2, 3]\n"
          ]
        },
        {
          "output_type": "execute_result",
          "data": {
            "text/plain": [
              "1"
            ]
          },
          "metadata": {},
          "execution_count": 3
        }
      ]
    },
    {
      "cell_type": "code",
      "source": [
        "# 집합계산\n",
        "\n",
        "set1 = {1,2,3}\n",
        "set2 = {2,3,4}\n",
        "\n",
        "print(type(set1))\n",
        "print(type(set2))\n",
        "\n",
        "#양쪽 집합에 모두 공통적으로 포함되는 원소 -> 교집합\n",
        "print(set1 & set2) \n",
        "print(set1.intersection(set2)) \n",
        "\n",
        "#양쪽 집합의 모든 원소 -> 합집합\n",
        "print(set1 | set2) \n",
        "print(set1.union(set2))\n",
        "\n",
        "# 두개 집합의 차 -> 차집합\n",
        "print(set1 - set2)\n",
        "print(s1.difference(set2))\n",
        "\n"
      ],
      "metadata": {
        "id": "ggzvTaT23N6q",
        "outputId": "f37408be-fd91-4a88-ebc5-4ef0a712c7af",
        "colab": {
          "base_uri": "https://localhost:8080/"
        }
      },
      "execution_count": 10,
      "outputs": [
        {
          "output_type": "stream",
          "name": "stdout",
          "text": [
            "<class 'set'>\n",
            "<class 'set'>\n",
            "{2, 3}\n",
            "{2, 3}\n",
            "{1, 2, 3, 4}\n",
            "{1, 2, 3, 4}\n",
            "{1}\n",
            "{1}\n"
          ]
        }
      ]
    },
    {
      "cell_type": "code",
      "source": [
        "# 집합은 삽입 가능 mutable\n",
        "\n",
        "set1 = {1,2,3}\n",
        "print(set1)\n",
        "set1.add(4)\n",
        "print(set1)\n",
        "\n",
        "set1.update([5,6,7,8])\n",
        "print(set1)\n",
        "\n",
        "#집합은 삭제가 가능하다. mutable\n",
        "#집합은 인덱스 개념이 존재하지 않는다. 따라서 값을 지정하여 직접 삭제한다.\n",
        "set1.remove(4)\n",
        "print(set1)"
      ],
      "metadata": {
        "id": "eF9ixaAk3OLl",
        "outputId": "f9818b4e-3d4b-4891-d816-cacae808afd6",
        "colab": {
          "base_uri": "https://localhost:8080/"
        }
      },
      "execution_count": 16,
      "outputs": [
        {
          "output_type": "stream",
          "name": "stdout",
          "text": [
            "{1, 2, 3}\n",
            "{1, 2, 3, 4}\n",
            "{1, 2, 3, 4, 5, 6, 7, 8}\n",
            "{1, 2, 3, 5, 6, 7, 8}\n"
          ]
        }
      ]
    },
    {
      "cell_type": "code",
      "source": [
        "# Q1\n",
        "# 예) 학번을 입력하세요(항상5자리) >> 31025\n",
        "#         출력) 3학년 10반 25번\n",
        "stu_num = input('당신의 학번을 입력하세요 >>')\n",
        "\n",
        "print(f'{stu_num[0]}학년 {stu_num[1:3]}반 {stu_num[3:]}번입니다.')"
      ],
      "metadata": {
        "id": "uoTiZJtM_mK3",
        "outputId": "a34d7787-9153-4db5-d146-21cf2ae1d926",
        "colab": {
          "base_uri": "https://localhost:8080/"
        }
      },
      "execution_count": 19,
      "outputs": [
        {
          "output_type": "stream",
          "name": "stdout",
          "text": [
            "당신의 학번을 입력하세요 >>31025\n",
            "3학년 10반 25번입니다.\n"
          ]
        }
      ]
    },
    {
      "cell_type": "code",
      "source": [
        "#Q2 입력) 차량 번호를 입력하세요.>> 서울2가 1234\n",
        "    #                            >> 288가 1234\n",
        "# 출력) 서울2가1234의 차량번호 끝 4자리는 1234 입니다.\n",
        "\n",
        "car_n = input('차량 번호를 입력하세요') \n",
        "print(f'{car_n}의 차량번호 끝 4자리는 {car_n[-4:]}입니다.')"
      ],
      "metadata": {
        "id": "s_NtYy8u7DJ9",
        "outputId": "d625c9da-9f30-479a-cdc6-d268e76210e3",
        "colab": {
          "base_uri": "https://localhost:8080/"
        }
      },
      "execution_count": 28,
      "outputs": [
        {
          "output_type": "stream",
          "name": "stdout",
          "text": [
            "차량 번호를 입력하세요서울2가 1234\n",
            "서울2가 1234의 차량번호 끝 4자리는 1234입니다.\n"
          ]
        }
      ]
    },
    {
      "cell_type": "code",
      "source": [
        "# 홀수 갯수의 문자열을 입력받아\n",
        "# 가운데 글자를 추출하는 프로그램을 구현하시오.\n",
        "# 입력) 문자열을 홀수로 입력하세요 >> austins  7 3\n",
        "# 입력) 문자열을 홀수로 입력하세요 >> abc      3 1\n",
        "\n",
        "# 출력) 문자열의 가운데 글자는 t입니다.\n",
        "# 출력) 문자열의 가운데 글자는 b입니다.\n",
        "\n",
        "ctx = input('문자열을 홀수로 입력하세요 >>') \n",
        "print(int(len(ctx)/2))\n",
        "print(len(ctx)//2)#몫만 추출\n",
        "print(len(ctx)%2)  #나머지만 추출 (홀수 짝수 배수)\n",
        "nm=len(ctx)//2\n",
        "anser=(int(len(ctx)/2))\n",
        "print(f'해당문자열의 가운데 글자는 {ctx[int(len(ctx)/2)]}입니다')"
      ],
      "metadata": {
        "id": "395uUQdbD9dP",
        "outputId": "1c31fcb5-9d7d-4e5e-8b0f-b2519815467f",
        "colab": {
          "base_uri": "https://localhost:8080/"
        }
      },
      "execution_count": 10,
      "outputs": [
        {
          "output_type": "stream",
          "name": "stdout",
          "text": [
            "문자열을 홀수로 입력하세요 >>aystib\n",
            "3\n",
            "3\n",
            "0\n",
            "해당문자열의 가운데 글자는 t입니다\n"
          ]
        }
      ]
    },
    {
      "cell_type": "code",
      "source": [
        "# [1,2,3,4,5,6,7,8,9] 의 3번째 요소 부터 7번째 요소만 추출한 결과에서\n",
        "#2번째 요소를 출력하는 프로그램을 구현하세요 (한줄로)\n",
        "\n",
        "li = [1,2,3,4,5,6,7,8,9]\n",
        "print(li[2:7][1])"
      ],
      "metadata": {
        "id": "EAE6Z4DKGcNY",
        "outputId": "346483c8-2852-48ef-c5f1-23d1abad5563",
        "colab": {
          "base_uri": "https://localhost:8080/"
        }
      },
      "execution_count": 6,
      "outputs": [
        {
          "output_type": "stream",
          "name": "stdout",
          "text": [
            "4\n"
          ]
        }
      ]
    },
    {
      "cell_type": "code",
      "source": [
        "######################################\n",
        "#  if\n",
        "######################################\n",
        "\n",
        "#- 에이다 러브레이스 세계최초의 프로그래이머\n",
        "#특정 조건을 만족하는지 여부에 따라 실행되는 코드가 달라져야할 때 사용한다.\n",
        "# 날씨가 맑으면 소풍을 가고 아니면 공부를 한다.\n",
        "\n",
        "# if 조건식:\n",
        "#   만족할때 실행코드\n",
        "# else:\n",
        "#    만족하지 못 할때 실행코드\n",
        "# if 맑으면:\n",
        "#      소풍을 간다.\n",
        "# else: \n",
        "#     공부를 한다\n",
        "\n",
        "if False:\n",
        "   print('만족')\n",
        "else:\n",
        "  print('불만족')"
      ],
      "metadata": {
        "id": "QN_uOv-YMr7l",
        "outputId": "4a8fadce-0d5e-4c85-de75-c869478bf5a2",
        "colab": {
          "base_uri": "https://localhost:8080/"
        }
      },
      "execution_count": 11,
      "outputs": [
        {
          "output_type": "stream",
          "name": "stdout",
          "text": [
            "불만족\n"
          ]
        }
      ]
    },
    {
      "cell_type": "code",
      "source": [
        "age = int(input('당신의 나이를 입력하세요 >>'))\n",
        "\n",
        "if age >= 18:\n",
        "  print('당신은 성인입니다.')\n",
        "else:\n",
        "  print('당신은 성인이 아닙니다.')"
      ],
      "metadata": {
        "id": "BrO9hilEO20l",
        "outputId": "266d4758-6165-451a-c163-0bcf2211bd2f",
        "colab": {
          "base_uri": "https://localhost:8080/"
        }
      },
      "execution_count": 12,
      "outputs": [
        {
          "output_type": "stream",
          "name": "stdout",
          "text": [
            "당신의 나이를 입력하세요 >>13\n",
            "당신은 성인이 아닙니다.\n"
          ]
        }
      ]
    },
    {
      "cell_type": "code",
      "source": [
        "age = int(input('당신의 나이를 입력하세요 >>'))\n",
        "\n",
        "if age < 10:\n",
        "  print('당신은 유아입니다.')\n",
        "elif age < 20:\n",
        "  print('당신은 10대입니다.')\n",
        "elif age < 30:\n",
        "  print('당신은 20대입니다.')\n",
        "elif age < 40:\n",
        "  print('당신은 30대입니다.')\n",
        "elif age < 50:\n",
        "  print('당신은 40대입니다.')\n",
        "elif age < 60:\n",
        "  print('당신은 50대입니다.')\n",
        "elif age < 70:\n",
        "  print('당신은 60대입니다.')\n",
        "else:\n",
        "  print('당신은 노인입니다.')"
      ],
      "metadata": {
        "id": "kyjdGQ86PwM8",
        "outputId": "4f9bf0f0-0746-4992-96d0-80af4c0ca605",
        "colab": {
          "base_uri": "https://localhost:8080/"
        }
      },
      "execution_count": 16,
      "outputs": [
        {
          "output_type": "stream",
          "name": "stdout",
          "text": [
            "당신의 나이를 입력하세요 >>14\n",
            "당신은 10대입니다.\n"
          ]
        }
      ]
    },
    {
      "cell_type": "code",
      "source": [
        "# 입력) 당신의 점수를 입력하세요 >>> 95\n",
        "# 출력) 당신의 점수는 95점이고 학점은 A학점입니다.\n",
        "#100~90 A / 80~89 B / 70~ 79 C/ 60~ 69 D / 나머지 F\n",
        "\n",
        "점수 = int(input('당신의 점수를 입력하세요 >>'))\n",
        "\n",
        "if 점수<= 100:\n",
        "  print(f'당신의 {점수}점이고 학점은 A학점입니다.')\n",
        "elif 점수< 90:\n",
        "  print(f'당신의 {점수}점이고 학점은 B학점입니다.')\n",
        "elif 점수< 80:\n",
        "  print(f'당신의 {점수}점이고 학점은 C학점입니다.')\n",
        "elif 점수< 70:\n",
        "  print(f'당신의 {점수}점이고 학점은 D학점입니다.')\n",
        "else:\n",
        "  print(f'당신의 {점수}점이고 학점은 F학점입니다.')"
      ],
      "metadata": {
        "id": "H2_MNmtPPwTA",
        "outputId": "870332ed-2d00-4dfb-d63d-ba9be649bfce",
        "colab": {
          "base_uri": "https://localhost:8080/"
        }
      },
      "execution_count": 22,
      "outputs": [
        {
          "output_type": "stream",
          "name": "stdout",
          "text": [
            "당신의 점수를 입력하세요 >>95\n",
            "당신의 95점이고 학점은 A학점입니다.\n"
          ]
        }
      ]
    },
    {
      "cell_type": "code",
      "source": [
        "# 진짜답\n",
        "score = int(input('당신의 점수를 입력하세요 >>'))\n",
        "gr = ''\n",
        "if score >=90:\n",
        "   gr = 'A'\n",
        "elif score >=80:\n",
        "   gr = 'B'\n",
        "elif score >=70:\n",
        "   gr = 'C'\n",
        "elif score >=60:\n",
        "   gr = 'D'\n",
        "else:\n",
        "  gr = 'F'\n",
        "print(f'당신의 {score}점이고 학점은 {gr}학점입니다.')"
      ],
      "metadata": {
        "id": "kFekQG--TXo7",
        "outputId": "17b7a8fe-2345-4eb4-b37f-96ba8c8912ee",
        "colab": {
          "base_uri": "https://localhost:8080/"
        }
      },
      "execution_count": 23,
      "outputs": [
        {
          "output_type": "stream",
          "name": "stdout",
          "text": [
            "당신의 점수를 입력하세요 >>88\n",
            "당신의 88점이고 학점은 B학점입니다.\n"
          ]
        }
      ]
    },
    {
      "cell_type": "code",
      "source": [
        "# 임의의 정수를 입력받아서 그 수가 3의 배수인지를 확인하는\n",
        "# 프로그램을 작성하시오 % 홀수 짝수 배수\n",
        "# (입력) 정수를 입력하세요 >>> 14\n",
        "# (출력) 14는 3의 배수가 아닙니다.\n",
        "# (입력) 정수를 입력하세요 >>> 15\n",
        "# (출력) 15는 3의 배수가 입니다.\n",
        "n= int(input('정수를 입력하세요 >>'))\n",
        "r = ''\n",
        "if n%3 !=0:\n",
        "   r = '가 아닙니다'\n",
        "else:\n",
        "   r = '입니다.'\n",
        "print(f'{n}는 3의 배수가 {r}.')\n",
        "\n"
      ],
      "metadata": {
        "id": "boVmj0AdUF1G",
        "outputId": "4a0b3067-13d2-4e3b-8843-f5afc1dfd269",
        "colab": {
          "base_uri": "https://localhost:8080/"
        }
      },
      "execution_count": 24,
      "outputs": [
        {
          "output_type": "stream",
          "name": "stdout",
          "text": [
            "정수를 입력하세요 >>14\n",
            "14는 3의 배수가 가 아닙니다.\n"
          ]
        }
      ]
    },
    {
      "cell_type": "code",
      "source": [
        "# 정수3개를 입력 받아서 그 중에서 큰수를 찾아 출력하는 프로그램\n",
        "#if를 꼭 사용할것\n",
        "#정수1입력>3\n",
        "#정수2입력>1\n",
        "#정수3입력>2\n",
        "#가장 큰 수는 3입니다.\n",
        "\n",
        "n1 = int(input('정수를 입력하세요 >>'))\n",
        "n2 = int(input('정수를 입력하세요 >>'))\n",
        "n3 = int(input('정수를 입력하세요 >>'))\n",
        "\n",
        "if  n1 > n2 & n1 > n3 :\n",
        "   best = n1\n",
        "elif n2 > n3 :\n",
        "  best = n2\n",
        "else:\n",
        "  best = n3 \n",
        "print(f' 가장 큰 수는 {best}입니다.')"
      ],
      "metadata": {
        "id": "F4a7te4lVEJr",
        "outputId": "53d61b0a-d11c-413a-e6c0-ebfae3758494",
        "colab": {
          "base_uri": "https://localhost:8080/"
        }
      },
      "execution_count": 27,
      "outputs": [
        {
          "output_type": "stream",
          "name": "stdout",
          "text": [
            "정수를 입력하세요 >>5\n",
            "정수를 입력하세요 >>6\n",
            "정수를 입력하세요 >>5\n",
            " 가장 큰 수는 6입니다.\n"
          ]
        }
      ]
    }
  ]
}