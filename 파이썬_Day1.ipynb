{
  "nbformat": 4,
  "nbformat_minor": 0,
  "metadata": {
    "colab": {
      "name": "파이썬 Day1.ipynb",
      "provenance": [],
      "authorship_tag": "ABX9TyNJGuCtbESOaKW8LrvXRiMR",
      "include_colab_link": true
    },
    "kernelspec": {
      "name": "python3",
      "display_name": "Python 3"
    },
    "language_info": {
      "name": "python"
    }
  },
  "cells": [
    {
      "cell_type": "markdown",
      "metadata": {
        "id": "view-in-github",
        "colab_type": "text"
      },
      "source": [
        "<a href=\"https://colab.research.google.com/github/reve0022/ai/blob/main/%ED%8C%8C%EC%9D%B4%EC%8D%AC_Day1.ipynb\" target=\"_parent\"><img src=\"https://colab.research.google.com/assets/colab-badge.svg\" alt=\"Open In Colab\"/></a>"
      ]
    },
    {
      "cell_type": "code",
      "source": [
        "###############\n",
        "#  주석 comment\n",
        "###############\n",
        "\n",
        "'''\n",
        "작성자 : 홍길동\n",
        "작성일 : 2022-01-25\n",
        "버전 : 0.1\n",
        "'''\n",
        "\n",
        "\n",
        "'''\n",
        "작성자 : 홍길동\n",
        "작성일 : 2022-01-25\n",
        "버전 : 0.1\n",
        "Doc String\n",
        "'''\n",
        "\n",
        "\n",
        "# 보통 삼중 따옴표 주석은 \n",
        "# 여러줄을 주석으로 \n",
        "# 사용할때 사용한다\n",
        "\n",
        "\n",
        "\n",
        "# 주석 붙이는 위치\n",
        "\n",
        "print('Hello World') # 보통 행의 우측 또는 위에 주석을 붙인다.\n"
      ],
      "metadata": {
        "colab": {
          "base_uri": "https://localhost:8080/"
        },
        "id": "eiB2j45hxoOm",
        "outputId": "3f003af9-323f-4979-b693-6aae51fb1a96"
      },
      "execution_count": 9,
      "outputs": [
        {
          "output_type": "stream",
          "name": "stdout",
          "text": [
            "Hello World\n"
          ]
        }
      ]
    },
    {
      "cell_type": "code",
      "source": [
        "\n",
        "##############\n",
        "# 변수 Variable\n",
        "###############\n",
        "\n",
        "score = 200\n",
        "\n",
        "print(score)\n",
        "\n",
        "score = 300\n",
        "\n",
        "print(score)\n",
        "\n"
      ],
      "metadata": {
        "colab": {
          "base_uri": "https://localhost:8080/"
        },
        "id": "dMaCWWbT_aW8",
        "outputId": "7cafea33-fccc-4933-d61d-460f3bd94a51"
      },
      "execution_count": 10,
      "outputs": [
        {
          "output_type": "stream",
          "name": "stdout",
          "text": [
            "200\n",
            "300\n"
          ]
        }
      ]
    },
    {
      "cell_type": "code",
      "source": [
        "a = 1\n",
        "A = 2\n",
        "\n",
        "print(a)\n",
        "print(A)"
      ],
      "metadata": {
        "colab": {
          "base_uri": "https://localhost:8080/"
        },
        "id": "Qi-KN2KFAfmS",
        "outputId": "4f0141c3-57dd-4ee6-e012-e1591a31e840"
      },
      "execution_count": 11,
      "outputs": [
        {
          "output_type": "stream",
          "name": "stdout",
          "text": [
            "1\n",
            "2\n"
          ]
        }
      ]
    },
    {
      "cell_type": "code",
      "source": [
        "a1= 'hi'\n",
        "print(1a)"
      ],
      "metadata": {
        "colab": {
          "base_uri": "https://localhost:8080/",
          "height": 136
        },
        "id": "WnZMkPpxAyeD",
        "outputId": "ea06648c-f6e6-4d77-a0fc-684691e395f2"
      },
      "execution_count": 12,
      "outputs": [
        {
          "output_type": "error",
          "ename": "SyntaxError",
          "evalue": "ignored",
          "traceback": [
            "\u001b[0;36m  File \u001b[0;32m\"<ipython-input-12-dbf2fca46913>\"\u001b[0;36m, line \u001b[0;32m2\u001b[0m\n\u001b[0;31m    print(1a)\u001b[0m\n\u001b[0m           ^\u001b[0m\n\u001b[0;31mSyntaxError\u001b[0m\u001b[0;31m:\u001b[0m invalid syntax\n"
          ]
        }
      ]
    },
    {
      "cell_type": "code",
      "source": [
        "a = 20\n",
        "b = 1500\n",
        "\n",
        "student_avg = 20\n",
        "math_sum = 1500\n",
        "\n",
        "(a)\n",
        "(b)"
      ],
      "metadata": {
        "colab": {
          "base_uri": "https://localhost:8080/"
        },
        "id": "iwYmHWFeBgnQ",
        "outputId": "bb48e34e-4a33-4d15-aa43-e005156ed9ef"
      },
      "execution_count": 18,
      "outputs": [
        {
          "output_type": "execute_result",
          "data": {
            "text/plain": [
              "1500"
            ]
          },
          "metadata": {},
          "execution_count": 18
        }
      ]
    },
    {
      "cell_type": "code",
      "source": [
        "name = 'Alice'\n",
        "age = 25\n",
        "address = '''우편번호 12345\n",
        "서울시 영등포구 여의도동\n",
        "서울빌딩 501호'''\n",
        "boyfriend = None\n",
        "height = 168.5\n",
        "\n",
        "print(name)\n",
        "print(age)\n",
        "print(address)\n",
        "print(boyfriend)\n",
        "print(height)"
      ],
      "metadata": {
        "colab": {
          "base_uri": "https://localhost:8080/"
        },
        "id": "jTBjepL_Cqle",
        "outputId": "995fcc9e-5c41-4265-92c2-77bbe528a321"
      },
      "execution_count": 19,
      "outputs": [
        {
          "output_type": "stream",
          "name": "stdout",
          "text": [
            "Alice\n",
            "25\n",
            "우편번호 12345\n",
            "서울시 영등포구 여의도동\n",
            "서울빌딩 501호\n",
            "None\n",
            "168.5\n"
          ]
        }
      ]
    },
    {
      "cell_type": "code",
      "source": [
        "################\n",
        "# 기본 자료형 type\n",
        "################\n",
        "\n",
        "\n",
        "a = int(1.9)\n",
        "print(a)\n",
        "\n",
        "b = int(True)\n",
        "print(b)\n",
        "\n",
        "c = int(False)\n",
        "print(c)"
      ],
      "metadata": {
        "colab": {
          "base_uri": "https://localhost:8080/"
        },
        "id": "UWJAa92DDtzy",
        "outputId": "2e62b4b1-e743-4074-bfac-b45dceb12f1b"
      },
      "execution_count": 23,
      "outputs": [
        {
          "output_type": "stream",
          "name": "stdout",
          "text": [
            "1\n",
            "1\n",
            "0\n"
          ]
        }
      ]
    },
    {
      "cell_type": "code",
      "source": [
        "a = 100\n",
        "b = '100'\n",
        "print(type(a))\n",
        "print(type(b))\n",
        "\n",
        "print(a)\n",
        "print(b)\n",
        "print(a==b)\n",
        "\n",
        "\n",
        "c = int(b)\n",
        "print(type(c))\n",
        "print(a==c)"
      ],
      "metadata": {
        "colab": {
          "base_uri": "https://localhost:8080/"
        },
        "id": "WYeHRZ6tE76w",
        "outputId": "aed09477-0154-421f-c943-6e6dcb82c52f"
      },
      "execution_count": 29,
      "outputs": [
        {
          "output_type": "stream",
          "name": "stdout",
          "text": [
            "<class 'int'>\n",
            "<class 'str'>\n",
            "100\n",
            "100\n",
            "False\n",
            "<class 'int'>\n",
            "True\n"
          ]
        }
      ]
    },
    {
      "cell_type": "code",
      "source": [
        "# 실수  float \n",
        "\n",
        "a = float(1)\n",
        "print(a)\n",
        "\n",
        "b = float(True)\n",
        "print(b)\n",
        "\n",
        "c = float('3.14')\n",
        "print(c)\n",
        "\n",
        "d = float('100')\n",
        "print(d)"
      ],
      "metadata": {
        "colab": {
          "base_uri": "https://localhost:8080/"
        },
        "id": "iScAGnK4Fwcm",
        "outputId": "66dccd18-81d1-4448-cee5-7f2c7a0a9323"
      },
      "execution_count": 33,
      "outputs": [
        {
          "output_type": "stream",
          "name": "stdout",
          "text": [
            "1.0\n",
            "1.0\n",
            "3.14\n",
            "100.0\n"
          ]
        }
      ]
    },
    {
      "cell_type": "code",
      "source": [
        "a = 100      # int a = 100 > Java\n"
      ],
      "metadata": {
        "id": "y6RW5WepaScA"
      },
      "execution_count": 34,
      "outputs": []
    },
    {
      "cell_type": "code",
      "source": [
        "# bool 논리 True or False\n",
        "\n",
        "a = bool(0)\n",
        "print(a)\n",
        "\n",
        "b = bool()\n",
        "print(b)\n",
        "\n",
        "c = bool([])\n",
        "print(c)\n",
        "\n",
        "d = bool([100])\n",
        "print(d)\n"
      ],
      "metadata": {
        "colab": {
          "base_uri": "https://localhost:8080/"
        },
        "id": "qiIK-Ga-adGl",
        "outputId": "9759e22c-b55c-444e-9cdc-4987b74880b8"
      },
      "execution_count": 36,
      "outputs": [
        {
          "output_type": "stream",
          "name": "stdout",
          "text": [
            "False\n",
            "False\n",
            "False\n",
            "True\n"
          ]
        }
      ]
    },
    {
      "cell_type": "code",
      "source": [
        "####################\n",
        "# 문자열 String\n",
        "######################\n",
        "\n",
        "a = '대한민국'\n",
        "a = \"대한민국\"\n",
        "\n",
        "b = str(100)\n",
        "print(b)\n",
        "print(type(b))\n",
        "\n",
        "c = str(True)\n",
        "print(c)\n",
        "print(type(c))\n"
      ],
      "metadata": {
        "colab": {
          "base_uri": "https://localhost:8080/"
        },
        "id": "VSVJUpSGbOXt",
        "outputId": "b66fc490-3686-43ee-a984-f5527d0eb45d"
      },
      "execution_count": 40,
      "outputs": [
        {
          "output_type": "stream",
          "name": "stdout",
          "text": [
            "100\n",
            "<class 'str'>\n",
            "True\n",
            "<class 'str'>\n"
          ]
        }
      ]
    },
    {
      "cell_type": "code",
      "source": [
        "# 문자열 인덱싱\n",
        "\n",
        "\n",
        "# hello 파이썬은 0에서 시작한다.\n",
        "\n",
        "s = 'Hello'\n",
        "print(s[4])\n",
        "\n",
        "print(s[-3])\n",
        "print(s[-5]==s[0])\n",
        "\n",
        "ss = \"990211-1005432\"\n",
        "print(ss[7])\n",
        "\n"
      ],
      "metadata": {
        "colab": {
          "base_uri": "https://localhost:8080/"
        },
        "id": "Djnc_lM5bjQq",
        "outputId": "82c332b2-d851-441e-8b0f-4d08d5783682"
      },
      "execution_count": 52,
      "outputs": [
        {
          "output_type": "stream",
          "name": "stdout",
          "text": [
            "o\n",
            "l\n",
            "True\n",
            "1\n"
          ]
        }
      ]
    },
    {
      "cell_type": "code",
      "source": [
        "ss = \"990211-1005432\"\n",
        "print(ss[0:2])    # 0 번때 부터 2번째 미만까지..[start:stop:step] =미만!!!!\n",
        "print(ss[0:2])    # step 은 생략 가능..\n",
        "print(ss[0:10:2])   # step 은 생략 가능.."
      ],
      "metadata": {
        "colab": {
          "base_uri": "https://localhost:8080/"
        },
        "id": "iTtwDc79fJhr",
        "outputId": "687c0bbb-aa03-4429-8f66-17a3cb42a07a"
      },
      "execution_count": 57,
      "outputs": [
        {
          "output_type": "stream",
          "name": "stdout",
          "text": [
            "99\n",
            "99\n",
            "901-0\n"
          ]
        }
      ]
    },
    {
      "cell_type": "code",
      "source": [
        "##### print\n",
        "\n",
        "\n",
        "print('Hello World')\n",
        "print('Hello 'World'')\n"
      ],
      "metadata": {
        "colab": {
          "base_uri": "https://localhost:8080/",
          "height": 136
        },
        "id": "z4_68YyzgSQS",
        "outputId": "4adfe3d6-4f5b-4e7d-8597-309f0c9e8202"
      },
      "execution_count": 60,
      "outputs": [
        {
          "output_type": "error",
          "ename": "SyntaxError",
          "evalue": "ignored",
          "traceback": [
            "\u001b[0;36m  File \u001b[0;32m\"<ipython-input-60-05ac69038359>\"\u001b[0;36m, line \u001b[0;32m5\u001b[0m\n\u001b[0;31m    print('Hello 'World'')\u001b[0m\n\u001b[0m                      ^\u001b[0m\n\u001b[0;31mSyntaxError\u001b[0m\u001b[0;31m:\u001b[0m invalid syntax\n"
          ]
        }
      ]
    },
    {
      "cell_type": "code",
      "source": [
        "print(\"Hello 'World'\")"
      ],
      "metadata": {
        "colab": {
          "base_uri": "https://localhost:8080/"
        },
        "id": "mSBg8E_thDTN",
        "outputId": "a73b9974-5e06-450e-9df8-9de9c20bdfab"
      },
      "execution_count": 59,
      "outputs": [
        {
          "output_type": "stream",
          "name": "stdout",
          "text": [
            "Hello 'World'\n"
          ]
        }
      ]
    },
    {
      "cell_type": "code",
      "source": [
        "print('Hello \\'World\\'')                  #\\뒤에 붙는 문자(따옴표)는 문자로 인식된다\n",
        "print('Hello \\\"World\\\"')   \n",
        "print(\"Hello \\\"World\\\"\")   \n",
        "\n"
      ],
      "metadata": {
        "colab": {
          "base_uri": "https://localhost:8080/"
        },
        "id": "M_evrUJVhNqL",
        "outputId": "bf476224-ccd9-4636-9866-ead4e8a88ac5"
      },
      "execution_count": 63,
      "outputs": [
        {
          "output_type": "stream",
          "name": "stdout",
          "text": [
            "Hello 'World'\n",
            "Hello \"World\"\n",
            "Hello \"World\"\n"
          ]
        }
      ]
    },
    {
      "cell_type": "code",
      "source": [
        "print('Hello \\n\"World\"')                   # Hello와 World  줄을 바꿀때 \\n을 중간에 붙이면 바꿔짐\n",
        "\n",
        "\n",
        "print('이름 \\n전화')   "
      ],
      "metadata": {
        "colab": {
          "base_uri": "https://localhost:8080/"
        },
        "id": "pY7NZ-kShvtd",
        "outputId": "97f28e94-a93b-4764-e08a-76ee08faa3d2"
      },
      "execution_count": 68,
      "outputs": [
        {
          "output_type": "stream",
          "name": "stdout",
          "text": [
            "Hello \n",
            "\"World\"\n",
            "이름 \n",
            "전화\n"
          ]
        }
      ]
    },
    {
      "cell_type": "code",
      "source": [
        "print(' 이름\\t연락처')                         # \\t는 일정 크기?로 띄어쓰기가 된다\n",
        "print('홍길동\\t010-2020-2903')"
      ],
      "metadata": {
        "colab": {
          "base_uri": "https://localhost:8080/"
        },
        "id": "SyS--w4Uitui",
        "outputId": "d98b9e82-9252-4f42-9c52-573bc91647b2"
      },
      "execution_count": 72,
      "outputs": [
        {
          "output_type": "stream",
          "name": "stdout",
          "text": [
            " 이름\t연락처\n",
            "홍길동\t010-2020-2903\n"
          ]
        }
      ]
    },
    {
      "cell_type": "code",
      "source": [
        "print('재미있는','파이썬')                        #,자르기만 해도 띄어쓰기가 된다"
      ],
      "metadata": {
        "colab": {
          "base_uri": "https://localhost:8080/"
        },
        "id": "wolgKqymjSV9",
        "outputId": "0302cbc1-5383-4254-a1af-ee44537c0dff"
      },
      "execution_count": 74,
      "outputs": [
        {
          "output_type": "stream",
          "name": "stdout",
          "text": [
            "재미있는 파이썬\n"
          ]
        }
      ]
    },
    {
      "cell_type": "code",
      "source": [
        "print('평점')\n",
        "print('5점')\n",
        "\n",
        "print('평점','5점')\n",
        "\n",
        "print('평점', end=':')                       # ,end='' 내리지 않고 옆으로 출력된다\n",
        "print('5점')\n",
        "\n",
        "print('평점', end='  ')                   \n",
        "print('5점')"
      ],
      "metadata": {
        "colab": {
          "base_uri": "https://localhost:8080/"
        },
        "id": "uFhl8wt2jkOY",
        "outputId": "90251b5e-cfa2-4844-bfdd-c4a4ca9c24fc"
      },
      "execution_count": 81,
      "outputs": [
        {
          "output_type": "stream",
          "name": "stdout",
          "text": [
            "평점\n",
            "5점\n",
            "평점 5점\n",
            "평점:5점\n",
            "평점  5점\n"
          ]
        }
      ]
    },
    {
      "cell_type": "code",
      "source": [
        "print('국어','영어','수학')\n",
        "print('국어','영어','수학', sep = '/')            #sep = 을 입력하면 문자 중간에 추가할수 있다\n",
        "print('국어','영어','수학', sep = ',') \n",
        "print('국어','영어','수학', sep = '2')      \n",
        "print('국어','영어','수학', sep = '\\n')   \n",
        "print('국어','영어','수학', sep = '\\t')            \n",
        "print('\\n국어\\n영어\\n수학') \n",
        "print('국어\\n영어\\n수학') "
      ],
      "metadata": {
        "colab": {
          "base_uri": "https://localhost:8080/"
        },
        "id": "LQGsQwGNkbqE",
        "outputId": "54998ac8-26e3-49b7-8454-d998b9c04a27"
      },
      "execution_count": 89,
      "outputs": [
        {
          "output_type": "stream",
          "name": "stdout",
          "text": [
            "국어 영어 수학\n",
            "국어/영어/수학\n",
            "국어,영어,수학\n",
            "국어2영어2수학\n",
            "국어\n",
            "영어\n",
            "수학\n",
            "국어\t영어\t수학\n",
            "\n",
            "국어\n",
            "영어\n",
            "수학\n",
            "국어\n",
            "영어\n",
            "수학\n"
          ]
        }
      ]
    },
    {
      "cell_type": "code",
      "source": [
        "# %연산자\n",
        "\n",
        "print(10)\n",
        "print('%d' % 10)                    # %d decimal 정수\n",
        "print('%f' % 3.14)                  # %f float 실수\n",
        "print('%s' % '학생')                # %s string 문자열\n",
        "\n",
        "# **EX\n",
        "print('%d 을 입력하세요' % 10)                    # %d decimal 정수\n",
        "print('%s 을 입력하세요' % 10) \n",
        "\n",
        "print('\\n원주율은 %f 입니다.' % 3.14)                  # %f float 실수\n",
        "print('원주율은 %s 입니다.' % 3.14)         \n",
        "\n",
        "print('\\n저는 %s 입니다.' % '학생')                # %s string 문자열\n",
        "\n",
        "std= \"학생\"\n",
        "print('저는 %s 입니다.' % std)                # %s string 문자열\n",
        "std= \"대학생\"\n",
        "print('저는 %s 입니다.' % std) \n",
        "\n",
        "std= \"취준생\"\n",
        "print('\\n저는 %s 입니다.' % std) \n",
        "print('저는', std, '입니다.')\n"
      ],
      "metadata": {
        "colab": {
          "base_uri": "https://localhost:8080/"
        },
        "id": "Y3IhPzUMplOA",
        "outputId": "f1ccd6f5-d810-4ca3-e5ea-14816c357029"
      },
      "execution_count": 105,
      "outputs": [
        {
          "output_type": "stream",
          "name": "stdout",
          "text": [
            "10\n",
            "10\n",
            "3.140000\n",
            "학생\n",
            "10 을 입력하세요\n",
            "10 을 입력하세요\n",
            "\n",
            "원주율은 3.140000 입니다.\n",
            "원주율은 3.14 입니다.\n",
            "\n",
            "저는 학생 입니다.\n",
            "저는 학생 입니다.\n",
            "저는 대학생 입니다.\n",
            "\n",
            "저는 취준생 입니다.\n",
            "저는 취준생 입니다.\n"
          ]
        }
      ]
    },
    {
      "cell_type": "code",
      "source": [
        "print(\"%d\" % 1)\n",
        "print(\"%5d\" % 1)              # 연산자인 %와 정수인 d  사이에 인덱싱을 쓰면 자리 확보하여 띄어쓰기가 된다\n",
        "print(\"%-5d\" % 1)\n",
        "print(\"%3d\" % 31)"
      ],
      "metadata": {
        "colab": {
          "base_uri": "https://localhost:8080/"
        },
        "id": "kjqfBzuxtNeY",
        "outputId": "1769df59-7f15-43ee-f19b-9e5045181c5b"
      },
      "execution_count": 109,
      "outputs": [
        {
          "output_type": "stream",
          "name": "stdout",
          "text": [
            "1\n",
            "    1\n",
            "1    \n",
            " 31\n"
          ]
        }
      ]
    },
    {
      "cell_type": "code",
      "source": [
        "# 소숫점 조절\n",
        "\n",
        "print('원주율은 %f 입니다.' % 3.14)                  \n",
        "print('원주율은 %5f 입니다.' % 3.14) \n",
        "print('원주율은 %5.2f 입니다.' % 3.14) \n",
        "print('원주율은 %5.1f 입니다.' % 3.14)\n",
        "print('원주율은 %5.9f 입니다.' % 3.14)\n",
        "print('원주율은 %3f 입니다.' % 3.14)\n",
        "print('원주율은 %3.1f 입니다.' % 3.14)\n",
        "print('원주율은 %0.8f 입니다.' % 3.14)\n",
        "print('원주율은 %-7.3f 입니다.' % 3.14)"
      ],
      "metadata": {
        "colab": {
          "base_uri": "https://localhost:8080/"
        },
        "id": "cPJR7jkYt6pM",
        "outputId": "6ee17118-bff6-4dc5-c90c-dca76c04c127"
      },
      "execution_count": 122,
      "outputs": [
        {
          "output_type": "stream",
          "name": "stdout",
          "text": [
            "원주율은 3.140000 입니다.\n",
            "원주율은 3.140000 입니다.\n",
            "원주율은  3.14 입니다.\n",
            "원주율은   3.1 입니다.\n",
            "원주율은 3.140000000 입니다.\n",
            "원주율은 3.140000 입니다.\n",
            "원주율은 3.1 입니다.\n",
            "원주율은 3.14000000 입니다.\n",
            "원주율은 3.140   입니다.\n"
          ]
        }
      ]
    },
    {
      "cell_type": "code",
      "source": [
        "name =  'kai'\n",
        "name =  'da'\n",
        "print('내 이름은 %s입니다.' % name)"
      ],
      "metadata": {
        "colab": {
          "base_uri": "https://localhost:8080/"
        },
        "id": "DcC1L_R7vLZb",
        "outputId": "aa734d92-51f5-414b-fef6-346ff8c8c07b"
      },
      "execution_count": 124,
      "outputs": [
        {
          "output_type": "stream",
          "name": "stdout",
          "text": [
            "내 이름은 da입니다.\n"
          ]
        }
      ]
    },
    {
      "cell_type": "code",
      "source": [
        "height = 185.5\n",
        "print( '내 키는 %f 입니다' % height)\n",
        "print( '내 키는 %.1f 입니다' % height)\n",
        "print( '내 키는 %s 입니다' % height)\n",
        "print( '내 키는 %s이고 이름은 %s 입니다' % (height, name))"
      ],
      "metadata": {
        "colab": {
          "base_uri": "https://localhost:8080/"
        },
        "id": "sk4VRzL5vcuu",
        "outputId": "f14bcff1-38d8-4d40-c267-2c4263378b5a"
      },
      "execution_count": 132,
      "outputs": [
        {
          "output_type": "stream",
          "name": "stdout",
          "text": [
            "내 키는 185.500000 입니다\n",
            "내 키는 185.5 입니다\n",
            "내 키는 185.5 입니다\n",
            "내 키는 185.5이고 이름은 da 입니다\n"
          ]
        }
      ]
    },
    {
      "cell_type": "code",
      "source": [
        "year.month.day = 22.01.25\n",
        "print(%d)"
      ],
      "metadata": {
        "colab": {
          "base_uri": "https://localhost:8080/",
          "height": 136
        },
        "id": "xzByN6aEv4h2",
        "outputId": "3a776249-c39c-40ce-d096-da8817b9c27c"
      },
      "execution_count": 129,
      "outputs": [
        {
          "output_type": "error",
          "ename": "SyntaxError",
          "evalue": "ignored",
          "traceback": [
            "\u001b[0;36m  File \u001b[0;32m\"<ipython-input-129-498bde3e515b>\"\u001b[0;36m, line \u001b[0;32m1\u001b[0m\n\u001b[0;31m    year.month.day = 22.01.25\u001b[0m\n\u001b[0m                            ^\u001b[0m\n\u001b[0;31mSyntaxError\u001b[0m\u001b[0;31m:\u001b[0m invalid syntax\n"
          ]
        }
      ]
    },
    {
      "cell_type": "code",
      "source": [
        "# format()\n",
        "\n",
        "zipcode = '06236'\n",
        "print('우편번호 : %s' % zipcode)\n",
        "print('우편번호 : {}'.format(zipcode))\n",
        "\n",
        "print( '내 키는 {}이고 이름은 {} 입니다'.format(height, name))\n"
      ],
      "metadata": {
        "colab": {
          "base_uri": "https://localhost:8080/"
        },
        "id": "cl8s5s-kwIeE",
        "outputId": "eab26933-ec9a-4d42-bc6f-0b11d0d93c03"
      },
      "execution_count": 133,
      "outputs": [
        {
          "output_type": "stream",
          "name": "stdout",
          "text": [
            "우편번호 : 06236\n",
            "우편번호 : 06236\n",
            "내 키는 185.5이고 이름은 da 입니다\n"
          ]
        }
      ]
    },
    {
      "cell_type": "code",
      "source": [
        ""
      ],
      "metadata": {
        "id": "MxA-5Htrx7H1"
      },
      "execution_count": null,
      "outputs": []
    },
    {
      "cell_type": "code",
      "source": [
        "print('My name is {}. I\\'m {} years old.' . format('James', 25))\n",
        "print('My name is {}. I\\'m {} years old.' . format(25, 'James'))\n",
        "print('My name is {1}. I\\'m {0} years old.' . format(25, 'James'))\n",
        "print('My name is {name}. I\\'m {age} years old.' . format(age=25, name='James'))"
      ],
      "metadata": {
        "colab": {
          "base_uri": "https://localhost:8080/"
        },
        "id": "DcP9bZCG1_mv",
        "outputId": "86db40bf-c78c-4dfa-a084-e6c5d0dba69e"
      },
      "execution_count": 137,
      "outputs": [
        {
          "output_type": "stream",
          "name": "stdout",
          "text": [
            "My name is James. I'm 25 years old.\n",
            "My name is 25. I'm James years old.\n",
            "My name is James. I'm 25 years old.\n",
            "My name is James. I'm 25 years old.\n"
          ]
        }
      ]
    },
    {
      "cell_type": "code",
      "source": [
        "# f-strings   (많이 씀! 정답)\n",
        "# 파이썬 3.6 이후 부터 사용 가능\n",
        "\n",
        "who = 'you'\n",
        "how = 'happy'\n",
        "print(f'{who} make me {how}')\n"
      ],
      "metadata": {
        "colab": {
          "base_uri": "https://localhost:8080/"
        },
        "id": "Eex8yvDu20uN",
        "outputId": "5291568b-1698-4086-ab69-7da4be813a24"
      },
      "execution_count": 140,
      "outputs": [
        {
          "output_type": "stream",
          "name": "stdout",
          "text": [
            "you make me happy\n"
          ]
        }
      ]
    },
    {
      "cell_type": "code",
      "source": [
        "# f-strings   (많이 씀! 정답)\n",
        "# 파이썬 3.6 이후 부터 사용 가능\n",
        "# 계산도 할수 있다.\n",
        "\n",
        "age = 25\n",
        "print(f'내년에는 {age+1} 입니다.')"
      ],
      "metadata": {
        "colab": {
          "base_uri": "https://localhost:8080/"
        },
        "id": "HcRXBXhe3qyb",
        "outputId": "53ea4cfe-8156-41c6-8fa6-eda2e9fc4511"
      },
      "execution_count": 144,
      "outputs": [
        {
          "output_type": "stream",
          "name": "stdout",
          "text": [
            "내년에는 26 입니다.\n"
          ]
        }
      ]
    },
    {
      "cell_type": "code",
      "source": [
        "################\n",
        "# 입력 input()\n",
        "################\n",
        "\n",
        "n = input()\n",
        "print(f'당신이 입력한 내용은 {n} 입니다.')\n",
        "print('당신이 입력한 내용은', n , '입니다.')\n",
        "\n",
        "\n",
        "\n"
      ],
      "metadata": {
        "colab": {
          "base_uri": "https://localhost:8080/"
        },
        "id": "FYsjjO0J4c67",
        "outputId": "a3ff4557-d3c9-4d6e-886d-e663d07acb72"
      },
      "execution_count": 148,
      "outputs": [
        {
          "output_type": "stream",
          "name": "stdout",
          "text": [
            "미미\n",
            "당신이 입력한 내용은 미미 입니다.\n",
            "당신이 입력한 내용은 미미 입니다.\n"
          ]
        }
      ]
    },
    {
      "cell_type": "code",
      "source": [
        "n = input('당신의 나이를 입력하세요')\n",
        "print(f'당신이 입력한 내용은 {n} 입니다.')\n",
        "print('당신이 입력한 내용은', n ,'입니다.')\n",
        "\n",
        "\n"
      ],
      "metadata": {
        "colab": {
          "base_uri": "https://localhost:8080/"
        },
        "id": "We_TvFIq5NNa",
        "outputId": "b901746b-8c5d-4e19-d792-e4d11d5665f0"
      },
      "execution_count": 149,
      "outputs": [
        {
          "output_type": "stream",
          "name": "stdout",
          "text": [
            "당신의 나이를 입력하세요30\n",
            "당신이 입력한 내용은 30 입니다.\n",
            "당신이 입력한 내용은 30 입니다.\n"
          ]
        }
      ]
    },
    {
      "cell_type": "code",
      "source": [
        "n = input('이름을 입력하세요?')\n",
        "print(f'당신의 이름은 {n} 이고.')\n",
        "n = input('나이를 입력하세요?')\n",
        "print('나이는', n , '입니다.')\n",
        "\n",
        "\n",
        "n = input('이름을 입력하세요?')\n",
        "n = input('나이를 입력하세요?')\n",
        "print(f'당신의 이름은 {n} 이고.')\n",
        "print('나이는', n , '입니다.')\n",
        "\n",
        "\n",
        "\n"
      ],
      "metadata": {
        "colab": {
          "base_uri": "https://localhost:8080/"
        },
        "id": "VjXOAA0N5cM6",
        "outputId": "f4aa8323-fb42-4334-95e6-344c37fb5fe1"
      },
      "execution_count": 155,
      "outputs": [
        {
          "output_type": "stream",
          "name": "stdout",
          "text": [
            "이름을 입력하세요?30\n",
            "당신의 이름은 30 이고.\n",
            "나이를 입력하세요?30\n",
            "나이는 30 입니다.\n",
            "이름을 입력하세요?30\n",
            "나이를 입력하세요?30\n",
            "당신의 이름은 30 이고.\n",
            "\n",
            "나이는 30 입니다.\n"
          ]
        }
      ]
    },
    {
      "cell_type": "code",
      "source": [
        "n = input('이름을 입력하세요?')\n",
        "b = input('나이를 입력하세요?')\n",
        "print(f'당신의 이름은 {n} 이고.','나이는', b , '입니다.')"
      ],
      "metadata": {
        "colab": {
          "base_uri": "https://localhost:8080/"
        },
        "id": "2H6SPrpF6nbb",
        "outputId": "256fa575-98c5-4987-85d8-771f24259d87"
      },
      "execution_count": 156,
      "outputs": [
        {
          "output_type": "stream",
          "name": "stdout",
          "text": [
            "이름을 입력하세요?김지나\n",
            "나이를 입력하세요?30\n",
            "당신의 이름은 김지나 이고. 나이는 30 입니다.\n"
          ]
        }
      ]
    },
    {
      "cell_type": "markdown",
      "source": [
        ""
      ],
      "metadata": {
        "id": "9T8Nid356DCl"
      }
    },
    {
      "cell_type": "code",
      "source": [
        "name = input('당신의 이름을 입력하세요')\n",
        "age = input('당신의 나이를 입력하세요')\n",
        "\n",
        "# 기본\n",
        "print('당신의 이름은', name, '이고.','나이는', age, '입니다.')"
      ],
      "metadata": {
        "colab": {
          "base_uri": "https://localhost:8080/"
        },
        "id": "BRZLp53A4yGD",
        "outputId": "252ce9b1-e62f-462f-f168-ea8af0e85eb5"
      },
      "execution_count": 159,
      "outputs": [
        {
          "output_type": "stream",
          "name": "stdout",
          "text": [
            "당신의 이름을 입력하세요김지나\n",
            "당신의 나이를 입력하세요30\n",
            "당신의 이름은 김지나 이고. 나이는 30 입니다.\n"
          ]
        }
      ]
    },
    {
      "cell_type": "code",
      "source": [
        "name = input('당신의 이름을 입력하세요')\n",
        "age = input('당신의 나이를 입력하세요')\n",
        "\n",
        "# 2 f-string\n",
        "print(f'당신의 이름은 {name} 이고 나이는 {age} 살입니다.')"
      ],
      "metadata": {
        "colab": {
          "base_uri": "https://localhost:8080/"
        },
        "id": "MprUwxey7XQZ",
        "outputId": "a38b0fae-f4bc-4c45-f7ee-b232d42cbc9c"
      },
      "execution_count": 160,
      "outputs": [
        {
          "output_type": "stream",
          "name": "stdout",
          "text": [
            "당신의 이름을 입력하세요김지나\n",
            "당신의 나이를 입력하세요30\n",
            "당신의 이름은 김지나 이고 나이는 30입니다.\n"
          ]
        }
      ]
    },
    {
      "cell_type": "code",
      "source": [
        "name = input('당신의 이름을 입력하세요')\n",
        "age = input('당신의 나이를 입력하세요')\n",
        "\n",
        "# 3 format()\n",
        "print('당신의 이름은 {} 이고 나이는 {} 살입니다.'.format(name, age))"
      ],
      "metadata": {
        "colab": {
          "base_uri": "https://localhost:8080/"
        },
        "id": "qHIPJim07nhk",
        "outputId": "1b7018f9-65f6-41f1-a6dd-2cc624b2c651"
      },
      "execution_count": 163,
      "outputs": [
        {
          "output_type": "stream",
          "name": "stdout",
          "text": [
            "당신의 이름을 입력하세요김지나\n",
            "당신의 나이를 입력하세요30\n",
            "당신의 이름은 김지나 이고 나이는 30 살입니다.\n"
          ]
        }
      ]
    },
    {
      "cell_type": "code",
      "source": [
        "name = input('당신의 이름을 입력하세요')\n",
        "age = input('당신의 나이를 입력하세요')\n",
        "\n",
        "# 4 % 연산자\n",
        "print('당신의 이름은 %s 이고 나이는 %s 살입니다.'%(name, age))\n",
        "                                                        #> 나이에 %d를 넣으면 에러남\n",
        "print('당신의 이름은 %s 이고 나이는 %d 살입니다.'%(name, age))"
      ],
      "metadata": {
        "colab": {
          "base_uri": "https://localhost:8080/",
          "height": 262
        },
        "id": "6X-qlja68DSB",
        "outputId": "db3868af-4834-4843-aadc-4fecbba29bb1"
      },
      "execution_count": 166,
      "outputs": [
        {
          "output_type": "stream",
          "name": "stdout",
          "text": [
            "당신의 이름을 입력하세요김지나\n",
            "당신의 나이를 입력하세요30\n",
            "당신의 이름은 김지나 이고 나이는 30 살입니다.\n"
          ]
        },
        {
          "output_type": "error",
          "ename": "TypeError",
          "evalue": "ignored",
          "traceback": [
            "\u001b[0;31m---------------------------------------------------------------------------\u001b[0m",
            "\u001b[0;31mTypeError\u001b[0m                                 Traceback (most recent call last)",
            "\u001b[0;32m<ipython-input-166-dcb1c38dd4b7>\u001b[0m in \u001b[0;36m<module>\u001b[0;34m()\u001b[0m\n\u001b[1;32m      5\u001b[0m \u001b[0mprint\u001b[0m\u001b[0;34m(\u001b[0m\u001b[0;34m'당신의 이름은 %s 이고 나이는 %s 살입니다.'\u001b[0m\u001b[0;34m%\u001b[0m\u001b[0;34m(\u001b[0m\u001b[0mname\u001b[0m\u001b[0;34m,\u001b[0m \u001b[0mage\u001b[0m\u001b[0;34m)\u001b[0m\u001b[0;34m)\u001b[0m\u001b[0;34m\u001b[0m\u001b[0;34m\u001b[0m\u001b[0m\n\u001b[1;32m      6\u001b[0m                                                         \u001b[0;31m#> 나이에 %d를 넣으면 에러남\u001b[0m\u001b[0;34m\u001b[0m\u001b[0;34m\u001b[0m\u001b[0;34m\u001b[0m\u001b[0m\n\u001b[0;32m----> 7\u001b[0;31m \u001b[0mprint\u001b[0m\u001b[0;34m(\u001b[0m\u001b[0;34m'당신의 이름은 %s 이고 나이는 %d 살입니다.'\u001b[0m\u001b[0;34m%\u001b[0m\u001b[0;34m(\u001b[0m\u001b[0mname\u001b[0m\u001b[0;34m,\u001b[0m \u001b[0mage\u001b[0m\u001b[0;34m)\u001b[0m\u001b[0;34m)\u001b[0m\u001b[0;34m\u001b[0m\u001b[0;34m\u001b[0m\u001b[0m\n\u001b[0m",
            "\u001b[0;31mTypeError\u001b[0m: %d format: a number is required, not str"
          ]
        }
      ]
    },
    {
      "cell_type": "code",
      "source": [
        "name = input('당신의 이름을 입력하세요')\n",
        "age = int(input('당신의 나이를 입력하세요'))\n",
        "print('당신의 이름은 %s 이고 나이는 %d 살입니다.'%(name, age))\n",
        "\n",
        "print(name, type(name))\n",
        "print(age, type(age))"
      ],
      "metadata": {
        "colab": {
          "base_uri": "https://localhost:8080/"
        },
        "id": "9v9pYC1081Il",
        "outputId": "7ce58224-443d-4caa-eaf9-bb97eb87a34c"
      },
      "execution_count": 167,
      "outputs": [
        {
          "output_type": "stream",
          "name": "stdout",
          "text": [
            "당신의 이름을 입력하세요김지나\n",
            "당신의 나이를 입력하세요30\n",
            "당신의 이름은 김지나 이고 나이는 30 살입니다.\n",
            "김지나 <class 'str'>\n",
            "30 <class 'int'>\n"
          ]
        }
      ]
    },
    {
      "cell_type": "code",
      "source": [
        "#50000원짜리 물건을 할부로 구입하고 매달 내는 금액을 계산하는 프로그램을 작성해보자\n",
        "#할부 개월은 입력을 받아서 계산한다.\n",
        "#할부 개월 입력:\n",
        "# ? 개월 동안 매달 내는 금액은 ? 입니다.\n",
        "\n",
        "month = int(input('할부 개월 입력: '))\n",
        "sum = 50000\n",
        "monthly = sum / month \n",
        "\n",
        "#기본\n",
        "print(month, '개월 동안 매달 내는 금액은', monthly '입니다.')\n",
        "# 2 f-string\n",
        "print(f'{month}개월 동안 매달 내는 금액은 {monthly} 입니다.')\n",
        "# 3 format()\n",
        "print('{}개월 동안 매달 내는 금액은 {}입니다.'.format(month, monthly))\n",
        "# 4 % 연산자\n",
        "print('%d개월 동안 매달 내는 금액은 %f 입니다.'% (month, monthly))"
      ],
      "metadata": {
        "colab": {
          "base_uri": "https://localhost:8080/",
          "height": 136
        },
        "id": "5z_C3PPg923r",
        "outputId": "f61da57b-ec68-44db-ba8d-6e804619eada"
      },
      "execution_count": 190,
      "outputs": [
        {
          "output_type": "error",
          "ename": "SyntaxError",
          "evalue": "ignored",
          "traceback": [
            "\u001b[0;36m  File \u001b[0;32m\"<ipython-input-190-c25c402de39a>\"\u001b[0;36m, line \u001b[0;32m11\u001b[0m\n\u001b[0;31m    print(month, '개월 동안 매달 내는 금액은', monthly '입니다.')\u001b[0m\n\u001b[0m                                                 ^\u001b[0m\n\u001b[0;31mSyntaxError\u001b[0m\u001b[0;31m:\u001b[0m invalid syntax\n"
          ]
        }
      ]
    },
    {
      "cell_type": "code",
      "source": [
        "#사용자로 부터 2개의 실수를 입력받아 합계를 구하는 프로그램을 작성하세요\n",
        "#실수 1:\n",
        "# 실수 2:\n",
        "#?과 ?의 합계는 ? 입니다.\n",
        "m1 = input('실수1 : ')\n",
        "m2 = input('실수2 : ')\n",
        "sum = int(m1+m2)\n",
        "print(m1, '과', m2, '의 합계는', sum, '입니다.' )\n"
      ],
      "metadata": {
        "colab": {
          "base_uri": "https://localhost:8080/"
        },
        "id": "aNurs72wFOfz",
        "outputId": "ee2b27ea-3a68-44db-b1ab-a9809c318cff"
      },
      "execution_count": 195,
      "outputs": [
        {
          "output_type": "stream",
          "name": "stdout",
          "text": [
            "실수1 : 10\n",
            "실수2 : 20\n",
            "10 과 20 의 합계는 1020 입니다.\n"
          ]
        }
      ]
    },
    {
      "cell_type": "code",
      "source": [
        "()"
      ],
      "metadata": {
        "id": "Q0SDVlAw_aYb"
      },
      "execution_count": null,
      "outputs": []
    }
  ]
}