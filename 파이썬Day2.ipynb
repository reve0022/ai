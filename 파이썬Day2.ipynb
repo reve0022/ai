{
  "nbformat": 4,
  "nbformat_minor": 0,
  "metadata": {
    "colab": {
      "name": "Day2.ipynb",
      "provenance": [],
      "include_colab_link": true
    },
    "kernelspec": {
      "name": "python3",
      "display_name": "Python 3"
    },
    "language_info": {
      "name": "python"
    }
  },
  "cells": [
    {
      "cell_type": "markdown",
      "metadata": {
        "id": "view-in-github",
        "colab_type": "text"
      },
      "source": [
        "<a href=\"https://colab.research.google.com/github/reve0022/ai/blob/main/Day2.ipynb\" target=\"_parent\"><img src=\"https://colab.research.google.com/assets/colab-badge.svg\" alt=\"Open In Colab\"/></a>"
      ]
    },
    {
      "cell_type": "code",
      "execution_count": null,
      "metadata": {
        "colab": {
          "base_uri": "https://localhost:8080/"
        },
        "id": "OyXfRcG2rbs3",
        "outputId": "61bfd013-7a07-482c-f2fe-67b3d99acbca"
      },
      "outputs": [
        {
          "output_type": "stream",
          "name": "stdout",
          "text": [
            "Hello World\n"
          ]
        }
      ],
      "source": [
        "####################################################\n",
        "# Review\n",
        "####################################################\n",
        "\n",
        "# Comment 주석 - 코드에 대한 설명, 컴퓨터는 읽지 않고 사람만\n",
        "#         읽는 내용, 또 다른 용법으로는 코드를 임시로 \n",
        "#         실행하지 않고 감추고 에러를 확인하는 용도로도 사용된다. \n",
        "#         본인이 기록한 내용을 나중에 확인할 때 또는 다른 팀원이\n",
        "#         작성한 내용을 파악하기 용이하게 만든다. \n",
        "\n",
        "\n",
        "# #을 사용하여 주석을 표시한다. ('ctrl - /')\n",
        "\n",
        "# doc string (주석의 용도로도 쓰이는...)\n",
        "'''\n",
        "작성일 : 2022/01/26\n",
        "담당자 : 홍길동\n",
        "비고 : austiny@gatech.edu\n",
        "'''\n",
        "\"\"\" \n",
        "작성일 : 2022/01/26\n",
        "담당자 : 홍길동\n",
        "비고 : austiny@gatech.edu\n",
        "\"\"\"\n",
        "# 코드의 윗쪽 또는 오른쪽에 주석을 붙인다. \n",
        "print('Hello World')  # 코드의 우측 또는 코드의 윗줄에 적는다."
      ]
    },
    {
      "cell_type": "code",
      "source": [
        "# 변수 Variable \n",
        "# 어떤 값을 저장하는 저장소 (a-)\n",
        "a = 100  \n",
        "print(a)\n",
        "\n",
        "stumathsum = 350\n",
        "stu_math_sum = 350 # 스네이크 케이스 snake_case\n",
        "StuMathSum = 350   # 캐멀 케이스 CamelCase"
      ],
      "metadata": {
        "colab": {
          "base_uri": "https://localhost:8080/"
        },
        "id": "-etJoqmXw7GW",
        "outputId": "9ff35ffe-d587-44af-b658-a33d791ca2a6"
      },
      "execution_count": null,
      "outputs": [
        {
          "output_type": "stream",
          "name": "stdout",
          "text": [
            "100\n"
          ]
        }
      ]
    },
    {
      "cell_type": "code",
      "source": [
        "# 1a = 100 숫자가 먼저 올수 없다. \n",
        "a1 = 100 \n",
        "\n"
      ],
      "metadata": {
        "id": "pPm9OH8VyyZK"
      },
      "execution_count": null,
      "outputs": []
    },
    {
      "cell_type": "code",
      "source": [
        "_a = 100\n",
        "# @a = 100"
      ],
      "metadata": {
        "id": "eUtYUlEKy7uQ"
      },
      "execution_count": null,
      "outputs": []
    },
    {
      "cell_type": "code",
      "source": [
        "홍길동 = 55\n",
        "# 한글 변수명 사용이 가능하지만 쓰지 말자 "
      ],
      "metadata": {
        "id": "fZmcnb0FzJS7"
      },
      "execution_count": null,
      "outputs": []
    },
    {
      "cell_type": "code",
      "source": [
        "# 인덱싱 (슬라이싱)\n",
        "\n",
        "s = 'world'\n",
        "print(s[2]) #파이썬은 인덱스 시작이 0이다. \n",
        "print(s[-1])#-1은 마지막 인덱스를 가리킨다. \n",
        "print(s[4])\n",
        "\n",
        "ss = '900101-2547389'\n",
        "print(ss[7]) # 하나만 추출할때는  indexing\n",
        "addr = '서울시 강남구 역삼동 1번지'\n",
        "print(addr[4:7]) # 여러개를 추출할때는 slicing"
      ],
      "metadata": {
        "colab": {
          "base_uri": "https://localhost:8080/"
        },
        "id": "5-rOJxm9zRyw",
        "outputId": "b72501e4-cd97-485d-8a8c-dfd715873db4"
      },
      "execution_count": null,
      "outputs": [
        {
          "output_type": "stream",
          "name": "stdout",
          "text": [
            "r\n",
            "d\n",
            "d\n",
            "2\n",
            "강남구\n"
          ]
        }
      ]
    },
    {
      "cell_type": "code",
      "source": [
        "# print() \n",
        "\n",
        "print('좋은 아침입니다.')"
      ],
      "metadata": {
        "colab": {
          "base_uri": "https://localhost:8080/"
        },
        "id": "AMSqib_q1TrB",
        "outputId": "a6d2a9b1-ada2-4d00-f37a-797a63cac823"
      },
      "execution_count": null,
      "outputs": [
        {
          "output_type": "stream",
          "name": "stdout",
          "text": [
            "좋은 아침입니다.\n"
          ]
        }
      ]
    },
    {
      "cell_type": "code",
      "source": [
        "when = '저녁'\n",
        "print('좋은',when,'입니다.')\n",
        "\n",
        "print('좋은 %s입니다' % when)\n",
        "print('좋은 {}입니다.'.format(when))\n",
        "\n",
        "print(f'좋은 {when}입니다.') # *****"
      ],
      "metadata": {
        "colab": {
          "base_uri": "https://localhost:8080/"
        },
        "id": "5X4iJDcl1h3S",
        "outputId": "04527be2-5117-496a-8693-e5425a5c0eae"
      },
      "execution_count": null,
      "outputs": [
        {
          "output_type": "stream",
          "name": "stdout",
          "text": [
            "좋은 저녁 입니다.\n",
            "좋은 저녁입니다\n",
            "좋은 저녁입니다.\n",
            "좋은 저녁입니다.\n"
          ]
        }
      ]
    },
    {
      "cell_type": "code",
      "source": [
        "# Homework \n",
        "\n",
        "print(\"C:\\Windows\")\n",
        "\n",
        "시가총액 = \"298조\"\n",
        "현재가 = '50,000원'\n",
        "PER = 15.79\n",
        "\n",
        "type(시가총액)"
      ],
      "metadata": {
        "colab": {
          "base_uri": "https://localhost:8080/"
        },
        "id": "G604gfGO1Tx4",
        "outputId": "b11b3f3b-3f0b-4006-94d3-6463f448d668"
      },
      "execution_count": null,
      "outputs": [
        {
          "output_type": "stream",
          "name": "stdout",
          "text": [
            "C:\\Windows\n"
          ]
        },
        {
          "output_type": "execute_result",
          "data": {
            "text/plain": [
              "str"
            ]
          },
          "metadata": {},
          "execution_count": 9
        }
      ]
    },
    {
      "cell_type": "code",
      "source": [
        "#####################################################\n",
        "# 리스트 List  튜플 Tuple  딕셔너리 DIct  셋  Set\n",
        "#####################################################\n",
        "# 여러개의 값을 한번에 저장하는 자료형이 필요하다.  \n",
        "\n",
        "# 리스트 List \n",
        "# 지금까지 사용한 숫자 1, 문자1 등 개별적, 독립적인 자료가 아닌\n",
        "# 리스트는 이러한 자료들 여러개를 모아서 사용할 수 있게 해준다. \n",
        "# 리스트에 넣는 자료를 요소element 라고한다. \n",
        "\n",
        "# 리스트는 []로 구성한다. \n",
        "list = [1,2,3,4,5]\n",
        "print(list)\n",
        "# 리스트는 다양한 자료형의 데이터를 한번에 담을 수 있다. \n",
        "# (but, 하나의 리스트에는 한가지 자료형만 저장하는 것이 오히려 바람직하다. )\n",
        "list = [1,2,3,'대한','민국', True, False]\n",
        "print(list)\n",
        "score = [80,90,70,60]\n",
        "print(score)\n",
        "# 리스트는 인덱싱indexing과 슬라이싱slicing이 가능하다. \n",
        "print(score[0])   #파이썬은 0부터 시작한다. \n",
        "print(score[0:2]) # 슬라이싱은 0부터 2미만...처럼    끝은 미만을 나타낸다.  \n",
        "\n",
        "#리스트는 수정/삭제 가 가능하다. (mutable, 튜플은 immutable)\n",
        "score[0] = 100\n",
        "print(score)\n",
        "score[-1] = 100\n",
        "print(score)\n",
        "# score[4]  # indexerror 아주 많이 접하게 될 에러(예외)\n",
        "\n",
        "# 리스트는 연산이 가능하다. \n",
        "list_a = [1,2,3]\n",
        "list_b = [4,5,6]\n",
        "\n",
        "print('list_a = ', list_a)\n",
        "print('list_b = ', list_b)\n",
        "print(list_a + list_b)\n",
        "print(list_a * 3)\n",
        "print(len(list_a))"
      ],
      "metadata": {
        "colab": {
          "base_uri": "https://localhost:8080/"
        },
        "id": "n3uSb-bH95Kd",
        "outputId": "bf59f42c-9088-4029-f868-f7e43496470f"
      },
      "execution_count": null,
      "outputs": [
        {
          "output_type": "stream",
          "name": "stdout",
          "text": [
            "[1, 2, 3, 4, 5]\n",
            "[1, 2, 3, '대한', '민국', True, False]\n",
            "[80, 90, 70, 60]\n",
            "80\n",
            "[80, 90]\n",
            "[100, 90, 70, 60]\n",
            "[100, 90, 70, 100]\n",
            "list_a =  [1, 2, 3]\n",
            "list_b =  [4, 5, 6]\n",
            "[1, 2, 3, 4, 5, 6]\n",
            "[1, 2, 3, 1, 2, 3, 1, 2, 3]\n",
            "3\n"
          ]
        }
      ]
    },
    {
      "cell_type": "code",
      "source": [
        ""
      ],
      "metadata": {
        "id": "E73I05YwRhKj"
      },
      "execution_count": null,
      "outputs": []
    },
    {
      "cell_type": "code",
      "source": [
        "# 리스트에 많이 사용되는 함수들...\n",
        "# append() 리스트에 요소를 추가할 때 사용, 끝에만 추가\n",
        "\n",
        "print(score)\n",
        "score.append(60)\n",
        "print(score)\n",
        "score.append(70)\n",
        "print(score)"
      ],
      "metadata": {
        "colab": {
          "base_uri": "https://localhost:8080/"
        },
        "id": "Vigk67iJBovu",
        "outputId": "aadd6814-891b-4916-ad1d-a51738d8159d"
      },
      "execution_count": null,
      "outputs": [
        {
          "output_type": "stream",
          "name": "stdout",
          "text": [
            "[100, 90, 70, 100]\n",
            "[100, 90, 70, 100, 60]\n",
            "[100, 90, 70, 100, 60, 70]\n"
          ]
        }
      ]
    },
    {
      "cell_type": "code",
      "source": [
        "# insert() 리스트에 요소를 추가할 때 사용, 특정 위치를 지정하여 추가\n",
        "\n",
        "list = []\n",
        "list.insert(0, 10)\n",
        "print(list)\n",
        "\n",
        "list.insert(1, 50)\n",
        "print(list)"
      ],
      "metadata": {
        "colab": {
          "base_uri": "https://localhost:8080/"
        },
        "id": "SOnKBqECJFXP",
        "outputId": "ca7f165d-4890-4682-9009-fbe4aabd0d5f"
      },
      "execution_count": null,
      "outputs": [
        {
          "output_type": "stream",
          "name": "stdout",
          "text": [
            "[10]\n",
            "[10, 50]\n"
          ]
        }
      ]
    },
    {
      "cell_type": "code",
      "source": [
        "list_a = [1,2,3]\n",
        "list_a.extend([4,5,6])\n",
        "list_a  # 파괴적 처리"
      ],
      "metadata": {
        "colab": {
          "base_uri": "https://localhost:8080/"
        },
        "id": "jSDn5s1VKO4r",
        "outputId": "7fd72a4e-f6c1-416d-bda6-e5fe7daa4ce1"
      },
      "execution_count": null,
      "outputs": [
        {
          "output_type": "execute_result",
          "data": {
            "text/plain": [
              "[1, 2, 3, 4, 5, 6]"
            ]
          },
          "metadata": {},
          "execution_count": 13
        }
      ]
    },
    {
      "cell_type": "code",
      "source": [
        "list_a = [1,2,3]\n",
        "list_b = [4,5,6]\n",
        "print(list_a + list_b)\n",
        "print(list_a) # 비파괴적 처리\n",
        "\n",
        "# 리스트 연결만으로는 list_a에 어떠한 영향도 주지 않는다. (비파괴적 처리)\n",
        "# 하지만 extend() 를 사용하면 list_a에 직접적으로 영향을 주게된다. (파괴적 처리)\n",
        "\n",
        "# 기본적으로 자료를 사용할 떄는 비파괴적으로 사용하는 것이 바람직하다. \n",
        "# 가능하면 원본 데이터는 그대로 유지하고 사용하는 것이 선택지가 더 넓다."
      ],
      "metadata": {
        "colab": {
          "base_uri": "https://localhost:8080/"
        },
        "id": "IGccI1sUKmfd",
        "outputId": "e08571eb-d9fa-49df-8b44-50fc79b6f7bf"
      },
      "execution_count": null,
      "outputs": [
        {
          "output_type": "stream",
          "name": "stdout",
          "text": [
            "[1, 2, 3, 4, 5, 6]\n",
            "[1, 2, 3]\n"
          ]
        }
      ]
    },
    {
      "cell_type": "code",
      "source": [
        "# del() 리스트에서 인덱스 위치 데이터 삭제\n",
        "\n",
        "list_a = [0,1,2,3,4,5]\n",
        "del list_a[1] # index 값으로 위치값을 삭제\n",
        "print(list_a)\n",
        "\n",
        "del list_a[1:3]  # 1부터 3미만 즉 2까지\n",
        "print(list_a)\n",
        "\n",
        "del list_a[:]  #  생략하면 처음 : 생략하면 끝\n",
        "print(list_a)\n",
        "\n",
        "# list_a.clear() 리스트 요소를 전부 한번에 삭제 "
      ],
      "metadata": {
        "colab": {
          "base_uri": "https://localhost:8080/"
        },
        "id": "_sCn6KZqMWB0",
        "outputId": "a7862bf8-7511-496f-9880-a25edb061d8a"
      },
      "execution_count": null,
      "outputs": [
        {
          "output_type": "stream",
          "name": "stdout",
          "text": [
            "[0, 2, 3, 4, 5]\n",
            "[0, 4, 5]\n",
            "[]\n"
          ]
        }
      ]
    },
    {
      "cell_type": "code",
      "source": [
        "# pop() 리스트에서 마지막 위치 데이터 삭제\n",
        "list_a.pop()\n",
        "list_a"
      ],
      "metadata": {
        "colab": {
          "base_uri": "https://localhost:8080/",
          "height": 206
        },
        "id": "Z_chLRi2M_5K",
        "outputId": "4546e738-8d5d-485a-9852-2c1b801b6e69"
      },
      "execution_count": null,
      "outputs": [
        {
          "output_type": "error",
          "ename": "IndexError",
          "evalue": "ignored",
          "traceback": [
            "\u001b[0;31m---------------------------------------------------------------------------\u001b[0m",
            "\u001b[0;31mIndexError\u001b[0m                                Traceback (most recent call last)",
            "\u001b[0;32m<ipython-input-16-1fc49c72cc4d>\u001b[0m in \u001b[0;36m<module>\u001b[0;34m()\u001b[0m\n\u001b[1;32m      1\u001b[0m \u001b[0;31m# pop() 리스트에서 마지막 위치 데이터 삭제\u001b[0m\u001b[0;34m\u001b[0m\u001b[0;34m\u001b[0m\u001b[0;34m\u001b[0m\u001b[0m\n\u001b[0;32m----> 2\u001b[0;31m \u001b[0mlist_a\u001b[0m\u001b[0;34m.\u001b[0m\u001b[0mpop\u001b[0m\u001b[0;34m(\u001b[0m\u001b[0;34m)\u001b[0m\u001b[0;34m\u001b[0m\u001b[0;34m\u001b[0m\u001b[0m\n\u001b[0m\u001b[1;32m      3\u001b[0m \u001b[0mlist_a\u001b[0m\u001b[0;34m\u001b[0m\u001b[0;34m\u001b[0m\u001b[0m\n",
            "\u001b[0;31mIndexError\u001b[0m: pop from empty list"
          ]
        }
      ]
    },
    {
      "cell_type": "code",
      "source": [
        "list_a.pop(1)\n",
        "list_a"
      ],
      "metadata": {
        "id": "ubNfdc9BNZ59"
      },
      "execution_count": null,
      "outputs": []
    },
    {
      "cell_type": "code",
      "source": [
        "# remove 값으로 삭제 \n",
        "\n",
        "list_c = [1,2,1,2]\n",
        "list_c.remove(2) # remove 는 요소의 값을 찾아 삭제한다. \n",
        "                 # 동일한 값이 여러개 있을때는 하나씩 순차적으로 삭제한다. \n",
        "                 # 리스트에서 중복된 여러개의 값을 제거하려면 반복문을 사용한다. \n",
        "print(list_c)\n",
        "list_c.remove(2)\n",
        "print(list_c)"
      ],
      "metadata": {
        "id": "HzXdkqrTOVR5",
        "outputId": "963c57e1-ca3d-4417-929f-0f17b17a1613",
        "colab": {
          "base_uri": "https://localhost:8080/"
        }
      },
      "execution_count": 1,
      "outputs": [
        {
          "output_type": "stream",
          "name": "stdout",
          "text": [
            "[1, 1, 2]\n",
            "[1, 1]\n"
          ]
        }
      ]
    },
    {
      "cell_type": "code",
      "source": [
        "list = [1,2,3,4,5]\n",
        "print(list[0])  # indexing 비파괴적으로 동작한다. \n",
        "print(list)\n",
        "\n",
        "print(list.pop()) #pop은 파괴적으로 동작한다. \n",
        "print(list)"
      ],
      "metadata": {
        "id": "NbN5CWJTPmFk"
      },
      "execution_count": null,
      "outputs": []
    },
    {
      "cell_type": "code",
      "source": [
        "# in / not in  리스트에 존재하는 요소인지를 확인\n",
        "\n",
        "list = [222,434,65,123,547,876]\n",
        "print(222 in list)\n",
        "\n",
        "print(221 in list)\n",
        "\n",
        "print(221 not in list)"
      ],
      "metadata": {
        "id": "Ug_NBq_KQUqc"
      },
      "execution_count": null,
      "outputs": []
    },
    {
      "cell_type": "code",
      "source": [
        "# Dict 딕셔너리 (java 의 map, JS 의 json 과 유사한 자료구조)\n",
        "# 리스트가 인덱스를 기반으로 값을 저장한다면 딕셔너리는 키값을 기반으로 값을 저장한다. \n",
        "\n",
        "# {} 를 사용하여 데이터들을 저장한다. \n",
        "# 삽입/삭제 가 가능하다. mutable\n",
        "# 순서가 없으므로 인덱싱과 슬라이싱이 불가능하다. \n",
        "\n",
        "dict = {\n",
        "    \"name\": \"엔드 게임\",\n",
        "    \"no\":1,\n",
        "    \"type\": \"히어로 무비\",\n",
        "    \"price\": 10000\n",
        "}\n",
        "print(dict)\n",
        "dict['name']"
      ],
      "metadata": {
        "id": "cOFTdX8wRiVK"
      },
      "execution_count": null,
      "outputs": []
    },
    {
      "cell_type": "code",
      "source": [
        "dict = {\n",
        "    \"감독\":[\"안소니\",\"루소\"],\n",
        "    \"배우\":[\"타노스\",\"토르\",\"헐크\"]\n",
        "}\n",
        "dict[\"감독\"]"
      ],
      "metadata": {
        "id": "I8pQdxcLkDcN"
      },
      "execution_count": null,
      "outputs": []
    },
    {
      "cell_type": "code",
      "source": [
        "dict = {\n",
        "    'name':'건조 망고',\n",
        "    'type':'절임 과일',\n",
        "    'ingredient':['망고','설탕','색소'],\n",
        "    'origin':'필리핀'\n",
        "}\n",
        "\n",
        "print('name:', dict['name'])\n",
        "print('type:', dict['type'])\n",
        "print('ingredient:', dict['ingredient'])\n",
        "print('origin:', dict['origin'])\n",
        "\n",
        "\n",
        "dict['name'] = '망고'\n",
        "print('name:', dict['name'])\n",
        "\n",
        "print(dict['ingredient'][0])\n",
        "\n",
        "dict['price'] = 5000\n",
        "\n",
        "print(dict)\n",
        "\n",
        "dict['price'] = 4000\n",
        "\n",
        "print(dict)\n",
        "\n",
        "del dict['price']\n",
        "print(dict)\n"
      ],
      "metadata": {
        "id": "U94ztWnHl89r"
      },
      "execution_count": null,
      "outputs": []
    },
    {
      "cell_type": "code",
      "source": [
        "dict = {}\n",
        "\n",
        "dict['name'] = '새이름'\n",
        "dict['height'] = 185\n",
        "dict['weight'] = 75\n",
        "\n",
        "print(dict)\n",
        "del dict['weight']\n",
        "print(dict)\n"
      ],
      "metadata": {
        "id": "-U-1Fb46ocDb"
      },
      "execution_count": null,
      "outputs": []
    },
    {
      "cell_type": "code",
      "source": [
        "# dict 자주 등장하는 에러(예외)\n",
        "\n",
        "# KeyError 리스트에서 없는 인덱스에 접근하려고 하면 IndexError 가 발생되는 것처럼 \n",
        "#          딕에서도 존재하지 않는 키값을 사용하면  예외 또는 에러를 발생시킨다.  \n",
        "dict = {\n",
        "    'name':'건조 망고',\n",
        "    'type':'절임 과일',\n",
        "    'ingredient':['망고','설탕','색소'],\n",
        "    'origin':'필리핀'\n",
        "}\n",
        "\n",
        "del dict['nane']"
      ],
      "metadata": {
        "id": "n2oPr4VNpAxc"
      },
      "execution_count": null,
      "outputs": []
    },
    {
      "cell_type": "code",
      "source": [
        "dict = {\n",
        "    'name':'건조 망고',\n",
        "    'type':'절임 과일',\n",
        "    'ingredient':['망고','설탕','색소'],\n",
        "    'origin':'필리핀'\n",
        "}\n",
        "\n",
        "key = input('>삭제를 원하는 데이터의 키값을 입력하세요 : ')\n",
        "\n",
        "if key in dict:\n",
        "  del dict[key]\n",
        "else:\n",
        "  print('존재하지 않은 키에 접근하고 있습니다.. ')\n",
        "\n",
        "print(dict)"
      ],
      "metadata": {
        "id": "qHzeNOVtqHAY"
      },
      "execution_count": null,
      "outputs": []
    },
    {
      "cell_type": "code",
      "source": [
        "# 이용욱 님 질문\n",
        "\n",
        "dict = {\n",
        "    'name':'건조 망고',\n",
        "    'type':'절임 과일',\n",
        "    'ingredient':['망고','설탕','색소'],\n",
        "    'origin':'필리핀',\n",
        "    'name':'말린 망고'\n",
        "}\n",
        "print(dict)"
      ],
      "metadata": {
        "id": "RS7Bt42Cwr_9"
      },
      "execution_count": null,
      "outputs": []
    },
    {
      "cell_type": "code",
      "source": [
        "# 튜플 tuple \n",
        "# () 를 사용하여 작성한다. 튜플은 괄호를 생략할수 있다. \n",
        "# 리스트와 거의 대부분 유사하나, 튜플은 삽입,수정 등이 불가능하다 immutable\n",
        "# 튜플은 1개의 원소로 작성할 때는 ,를 삽입한다. (1,)  (1,2)    [1]\n",
        "# \n",
        "\n",
        "t = (1, 2)\n",
        "print(t)\n",
        "print(type(t))\n",
        "\n",
        "t2 = 3, 4\n",
        "print(t2)\n",
        "print(type(t2))\n",
        "\n",
        "t3 = (5)   # (5)  ==   5\n",
        "print(t3)\n",
        "print(type(3))\n",
        "\n",
        "t4 = 5\n",
        "print(t4)\n",
        "print(type(t4))\n",
        "\n",
        "t5 = (5,)\n",
        "print(t5)\n",
        "print(type(t5))"
      ],
      "metadata": {
        "id": "847904HPqtzC"
      },
      "execution_count": null,
      "outputs": []
    },
    {
      "cell_type": "code",
      "source": [
        ""
      ],
      "metadata": {
        "id": "mFOKF0Re0k3m"
      },
      "execution_count": null,
      "outputs": []
    },
    {
      "cell_type": "code",
      "source": [
        ""
      ],
      "metadata": {
        "id": "eM1uvAQ60kU0"
      },
      "execution_count": null,
      "outputs": []
    },
    {
      "cell_type": "code",
      "source": [
        "t = (1,2,3,4,5)\n",
        "# t[0] = 8  튜플은 수정이 불가능하다. immutable\n",
        "del t[0] # 튜플은 삭제가 불가능하다. immutable"
      ],
      "metadata": {
        "id": "hbE3rvR0yp1F"
      },
      "execution_count": null,
      "outputs": []
    },
    {
      "cell_type": "code",
      "source": [
        "t = (1,2,3,4,5)\n",
        "\n",
        "print(t[1]) # 튜플은 인덱싱이 가능하다. \n",
        "print(t[2:])# 튜플은 슬라이싱이 가능하다. \n"
      ],
      "metadata": {
        "id": "gyFYX3FozMV4"
      },
      "execution_count": null,
      "outputs": []
    },
    {
      "cell_type": "code",
      "source": [
        "t1 = (1,2,3,4,5)\n",
        "t2 = (6,7,8,9)\n",
        "\n",
        "print(t1 + t2)\n",
        "print(t1)\n",
        "print(t2)\n",
        "\n",
        "print(t1 * 3)\n",
        "\n",
        "# 비 파괴적 연산은 가능하다. "
      ],
      "metadata": {
        "id": "s715s_vFzoDS"
      },
      "execution_count": null,
      "outputs": []
    },
    {
      "cell_type": "code",
      "source": [
        "# Set 집합\n",
        "# {} 를 사용하여 작성한다. \n",
        "# 중복을 허용하지 않는다. \n",
        "# 순서가 없다. unordered 리스트나 튜플은 순서가 있기때문에 ordered  인덱싱과 슬라이싱을 통해\n",
        "# 값을 꺼낼수 있지만 딕셔너리와 셋은 순서가 없어 불가능하다. \n",
        "# 중복을 허용하지 않는다는 특성을 활용하여 중복 제거 필터용으로 많이 사용된다. \n",
        "# set자료형에 저장된 값을 꺼내려면 리스트나 튜플로 변환하여 사용한다.\n",
        "# mutable 수정/삭제가 가능하다. \n",
        "set = {1,1,2,2,2,3,4}\n",
        "print(set)\n",
        "\n",
        "print(set[0])"
      ],
      "metadata": {
        "id": "hhs9IfUj0lzr"
      },
      "execution_count": null,
      "outputs": []
    },
    {
      "cell_type": "code",
      "source": [
        "s1 = set([1,1,1,2,2,3])\n",
        "print(type(s1))\n",
        "print(s1)\n",
        "#print(s1[0])\n",
        "\n",
        "li = list(s1)\n",
        "print(type(li))\n",
        "print(li)\n",
        "li[0]"
      ],
      "metadata": {
        "colab": {
          "base_uri": "https://localhost:8080/"
        },
        "id": "eC-As-iV2nzB",
        "outputId": "f12a40dd-86ff-4bed-d0e2-ad6da8be03b1"
      },
      "execution_count": null,
      "outputs": [
        {
          "output_type": "stream",
          "name": "stdout",
          "text": [
            "<class 'set'>\n",
            "{1, 2, 3}\n",
            "<class 'list'>\n",
            "[1, 2, 3]\n"
          ]
        },
        {
          "output_type": "execute_result",
          "data": {
            "text/plain": [
              "1"
            ]
          },
          "metadata": {},
          "execution_count": 7
        }
      ]
    },
    {
      "cell_type": "code",
      "source": [
        "# 집합 계산\n",
        "\n",
        "set1 = {1,2,3}\n",
        "set2 = {2,3,4}\n",
        "\n",
        "print(type(set1))\n",
        "print(type(set2))\n",
        "\n",
        "# 양쪽 집합에 모두 공통적으로 포함되는 원소 -> 교집합\n",
        "print(set1 & set2)  \n",
        "print(set1.intersection(set2))\n",
        "\n",
        "# 양쪽 집합의 모든 원소 -> 합집합\n",
        "print(set1 | set2)\n",
        "print(set1.union(set2))\n",
        "\n",
        "# 두개 집합의 차 -> 차집합\n",
        "print(set1 - set2)\n",
        "print(set1.difference(set2))  "
      ],
      "metadata": {
        "colab": {
          "base_uri": "https://localhost:8080/"
        },
        "id": "sLs6s6Ht3bXl",
        "outputId": "15db7ccc-be78-493a-923a-a6925d00ab0f"
      },
      "execution_count": null,
      "outputs": [
        {
          "output_type": "stream",
          "name": "stdout",
          "text": [
            "<class 'set'>\n",
            "<class 'set'>\n",
            "{2, 3}\n",
            "{2, 3}\n",
            "{1, 2, 3, 4}\n",
            "{1, 2, 3, 4}\n",
            "{1}\n",
            "{1}\n"
          ]
        }
      ]
    },
    {
      "cell_type": "code",
      "source": [
        "# 집합은 삽입 가능 mutable\n",
        "\n",
        "set1 = {1,2,3}\n",
        "print(set1)\n",
        "set1.add(4)\n",
        "print(set1)\n",
        "\n",
        "set1.update([5,6,7,8])\n",
        "print(set1)\n",
        "\n",
        "#집합은 삭제가 가능하다.  mutable\n",
        "#집합은 인덱스 개념이 존재하지 않는다. 따라서 값을 지정하여 직접 삭제 한다. \n",
        "set1.remove(4)\n",
        "print(set1)\n"
      ],
      "metadata": {
        "colab": {
          "base_uri": "https://localhost:8080/"
        },
        "id": "Lqs_sN3t6aQf",
        "outputId": "40ea98f0-3027-46be-c836-3d5729ea4d1c"
      },
      "execution_count": null,
      "outputs": [
        {
          "output_type": "stream",
          "name": "stdout",
          "text": [
            "{1, 2, 3}\n",
            "{1, 2, 3, 4}\n",
            "{1, 2, 3, 4, 5, 6, 7, 8}\n",
            "{1, 2, 3, 5, 6, 7, 8}\n"
          ]
        }
      ]
    },
    {
      "cell_type": "code",
      "source": [
        "# Q1.  입력) 학번을 입력하세요 >> 31025\n",
        "#      출력) 3학년 10반 25번\n",
        "\n",
        "sn = input('학번을 입력하세요 >>')\n",
        "\n",
        "print(f'{sn[0]}학년 {sn[1:3]}반 {sn[3:]}번')"
      ],
      "metadata": {
        "colab": {
          "base_uri": "https://localhost:8080/"
        },
        "id": "aPvk6o8m_NFc",
        "outputId": "7a549a7f-8228-4ffd-8453-5320f377f53a"
      },
      "execution_count": null,
      "outputs": [
        {
          "output_type": "stream",
          "name": "stdout",
          "text": [
            "학번을 입력하세요 >>31025\n",
            "3학년 10반 25번\n"
          ]
        }
      ]
    },
    {
      "cell_type": "code",
      "source": [
        "# Q2. 입력) 차량 번호를 입력하세요 >> 서울2가1234\n",
        "#           차량 번호를 입력하세요 >> 288가1233\n",
        "\n",
        "#     출력) 서울2가1234 의 차량번호 끝 4자리는 1234 입니다.\n",
        "#           288가1233 의 차량번호 끝 4자리는 1233 입니다.  \n",
        "\n",
        "sn = input('차량 번호를 입력하세요 >>')\n",
        "\n",
        "print(f'{sn}의 차량번호 끝 4자리는 {sn[-4:]}입니다. ')"
      ],
      "metadata": {
        "colab": {
          "base_uri": "https://localhost:8080/"
        },
        "id": "kLMLtAK_B80o",
        "outputId": "d2f83b30-f53c-4aa9-82ba-305c0590bb52"
      },
      "execution_count": null,
      "outputs": [
        {
          "output_type": "stream",
          "name": "stdout",
          "text": [
            "차량 번호를 입력하세요 >>서울2가1234\n",
            "서울2가1234의 차량번호 끝 4자리는 1234입니다. \n"
          ]
        }
      ]
    },
    {
      "cell_type": "code",
      "source": [
        "# 홀수 갯수의 문자열을 입력 받아\n",
        "# 가운데 글자를 추출하는 프로그램을 구현하시오 \n",
        "# 입력) 문자열을 홀수로 입력하세요 >> austins   7 3\n",
        "# 입력) 문자열을 홀수로 입력하세요 >> abc       3 1\n",
        "\n",
        "# 출력) 문자열의 가운데 글자는 t입니다.\n",
        "# 출력) 문자열의 가운데 글자는 b입니다.\n",
        "\n",
        "# ctx = 'austins'\n",
        "\n",
        "# print(int(len(ctx)/2))\n",
        "# print(len(ctx)//2)  # 몫만 추출\n",
        "# print(len(ctx)%2)   # 나머지만 추출 (홀수 짝수 배수)\n",
        "\n",
        "ctx = input(\"문자열을 홀수로 입력하시오\")\n",
        "\n",
        "anser =(int(len(ctx)/2))\n",
        "print(f'문자열의 가운데 글자는 {ctx[anser]}')\n"
      ],
      "metadata": {
        "colab": {
          "base_uri": "https://localhost:8080/"
        },
        "id": "lGNxLnWODgeE",
        "outputId": "48f38305-a0d5-411b-a5e5-95541c21265f"
      },
      "execution_count": null,
      "outputs": [
        {
          "output_type": "stream",
          "name": "stdout",
          "text": [
            "문자열을 홀수로 입력하시오abc\n",
            "문자열의 가운데 글자는 b\n"
          ]
        }
      ]
    },
    {
      "cell_type": "code",
      "source": [
        "# [1,2,3,4,5,6,7,8,9] 의 3번째 요소부터 7번째 요소만 추출한 결과에서\n",
        "# 2번째 요소를 출력하는 프로그램을 구현하세요. (한줄로....)\n",
        "\n",
        "li = [1,2,3,4,5,6,7,8,9]\n",
        "print(li[2:7][1])\n"
      ],
      "metadata": {
        "colab": {
          "base_uri": "https://localhost:8080/"
        },
        "id": "qtx87egWEUXn",
        "outputId": "30453557-b60f-4348-bd34-77c628d9d4bd"
      },
      "execution_count": null,
      "outputs": [
        {
          "output_type": "stream",
          "name": "stdout",
          "text": [
            "4\n"
          ]
        }
      ]
    },
    {
      "cell_type": "code",
      "source": [
        "########################\n",
        "# if \n",
        "########################\n",
        "\n",
        "# 특정 조건을 만족하는지 여부에 따라 실행되는 코드가 달라져야할 때 사용된다.\n",
        "# 날씨가 맑으면 소풍을 가고 아니면 공부를 한다.  \n",
        "\n",
        "# if 조건식:\n",
        "#   만족할때 실행 코드\n",
        "# else:\n",
        "#   만족하지 못할때 실행 코드\n",
        "\n",
        "# if 맑으면:\n",
        "#   소풍을 간다.\n",
        "# else:\n",
        "#   공부를 한다. \n",
        "\n",
        "if False:\n",
        "  print('만족')\n",
        "else:\n",
        "  print('불만족')"
      ],
      "metadata": {
        "colab": {
          "base_uri": "https://localhost:8080/"
        },
        "id": "eUg1cxwSMcHw",
        "outputId": "6560423d-0c63-4132-e7a3-4be9ed5fdd38"
      },
      "execution_count": null,
      "outputs": [
        {
          "output_type": "stream",
          "name": "stdout",
          "text": [
            "불만족\n"
          ]
        }
      ]
    },
    {
      "cell_type": "code",
      "source": [
        "age = int(input('당신의 나이를 입력하세요 >>'))\n",
        "\n",
        "if age >= 18:\n",
        "  print('당신은 성인입니다. ')\n",
        "else:\n",
        "  print('당신은 성인이 아닙니다. ')"
      ],
      "metadata": {
        "colab": {
          "base_uri": "https://localhost:8080/"
        },
        "id": "o0MG5oPwPDkV",
        "outputId": "d886b625-bf1d-4e73-f262-cb3fe51e9530"
      },
      "execution_count": null,
      "outputs": [
        {
          "output_type": "stream",
          "name": "stdout",
          "text": [
            "당신의 나이를 입력하세요 >>15\n",
            "당신은 성인이 아닙니다. \n"
          ]
        }
      ]
    },
    {
      "cell_type": "code",
      "source": [
        "age = int(input('당신의 나이를 입력하세요 >>'))\n",
        "\n",
        "if age < 10:\n",
        "  print('당신은 유아입니다')\n",
        "elif age < 20:\n",
        "  print('당신은 10대입니다.')\n",
        "elif age < 30:\n",
        "  print('당신은 20대입니다.')\n",
        "elif age < 40:\n",
        "  print('당신은 30대입니다.')\n",
        "elif age < 50:\n",
        "  print('당신은 40대입니다.')\n",
        "elif age < 60:\n",
        "  print('당신은 50대입니다.')\n",
        "elif age < 70:\n",
        "  print('당신은 60대입니다.')\n",
        "else:\n",
        "  print('당신은 노인입니다.')"
      ],
      "metadata": {
        "colab": {
          "base_uri": "https://localhost:8080/"
        },
        "id": "OC8NtqeFPvPJ",
        "outputId": "fb3a519f-5da9-48fc-84a6-62abd55d39a0"
      },
      "execution_count": null,
      "outputs": [
        {
          "output_type": "stream",
          "name": "stdout",
          "text": [
            "당신의 나이를 입력하세요 >>22\n",
            "당신은 20대입니다.\n"
          ]
        }
      ]
    },
    {
      "cell_type": "code",
      "source": [
        "  # 입력) 당신의 점수를 입력하세요 >>> 95\n",
        "  # 출력) 당신의 점수는 95 점이고 학점은 A학점입니다.  \n",
        "  #                     --               -\n",
        "  # 조건)100 점 초과인 점수는 없다. 0점 미만인 점수도 절대 없음\n",
        "  # 100~ 90 A \n",
        "  #  89~ 80 B\n",
        "  #  79~ 70 C\n",
        "  #  69~ 60 D \n",
        "  #  나머지 F\n",
        "num = int(input('당신의 점수를 입력하세요 : '))\n",
        "\n",
        "if num > 89 :\n",
        " print('당신의 학점은 A 입니다.')\n",
        "elif num > 79 : \n",
        " print('당신의 학점은 B 입니다.')\n",
        "elif num > 69 : \n",
        " print('당신의 학점은 C 입니다.')\n",
        "elif num > 59 : \n",
        " print('당신의 학점은 D 입니다.')\n",
        "else : \n",
        " print('당신의 학점은 F 입니다.')\n"
      ],
      "metadata": {
        "colab": {
          "base_uri": "https://localhost:8080/"
        },
        "id": "5RkeukxyRZYf",
        "outputId": "e7ab87a8-4685-4ae5-e52d-a42f396e09d7"
      },
      "execution_count": null,
      "outputs": [
        {
          "output_type": "stream",
          "name": "stdout",
          "text": [
            "당신의 점수를 입력하세요 : 88\n",
            "당신의 학점은 B 입니다.\n"
          ]
        }
      ]
    },
    {
      "cell_type": "code",
      "source": [
        "score = int(input('당신의 점수를 입력하세요 >>> '))\n",
        "if score >= 90:\n",
        "  print(f'당신의 점수는 {score}점이고 학점은 A학점입니다.')\n",
        "elif score >= 80:\n",
        "  print(f'당신의 점수는 {score}점이고 학점은 B학점입니다.')\n",
        "elif score >= 70:\n",
        "  print(f'당신의 점수는 {score}점이고 학점은 C학점입니다.')\n",
        "elif score >= 60:\n",
        "  print(f'당신의 점수는 {score}점이고 학점은 D학점입니다.')\n",
        "else:\n",
        "  print(f'당신의 점수는 {score}점이고 학점은 F학점입니다.')\n"
      ],
      "metadata": {
        "colab": {
          "base_uri": "https://localhost:8080/"
        },
        "id": "Nwi317dUTNRs",
        "outputId": "a31d7574-53b6-4794-9041-4531ff7723ed"
      },
      "execution_count": null,
      "outputs": [
        {
          "output_type": "stream",
          "name": "stdout",
          "text": [
            "당신의 점수를 입력하세요 >>> 88\n",
            "당신의 점수는 88점이고 학점은 B학점입니다.\n"
          ]
        }
      ]
    },
    {
      "cell_type": "code",
      "source": [
        "score = int(input(\"당신의 점수를 입력하세요 >> \"))\n",
        "gr = \"\"\n",
        "if score >=90:\n",
        "  gr = \"A\"\n",
        "elif score >=80:\n",
        "  gr = \"B\"\n",
        "elif score >=70:\n",
        "  gr = \"C\"\n",
        "elif score >=60:\n",
        "  gr = \"D\"\n",
        "else:\n",
        "  gr = \"F\"\n",
        "\n",
        "print(f\"당신의 점수는 {score}점 이고 학점은 {gr}학점입니다.\")\n"
      ],
      "metadata": {
        "id": "0ScHWy8rTSc6"
      },
      "execution_count": null,
      "outputs": []
    },
    {
      "cell_type": "code",
      "source": [
        "# 임의의 정수를 입력받아서 그 수가 3의 배수인지를 확인하는\n",
        "# 프로그램을 작성하시오 % 홀수 짝수 배수\n",
        "\n",
        "# (입력) 정수를 입력하세요 >>> 14\n",
        "# (출력) 14는 3의 배수가 아닙니다.\n",
        "\n",
        "# (입력) 정수를 입력하세요 >>> 15\n",
        "# (출력) 15는 3의 배수입니다.\n",
        "\n",
        "n = int(input(\"정수를 입력하세요\"))\n",
        "r = \"\"\n",
        "if n%3 !=0:\n",
        "  r = \"가 아닙니다\"\n",
        "else: \n",
        "  r =\"입니다\"\n",
        "\n",
        "print(f\"{n}은 3의 배수{r}\")\n"
      ],
      "metadata": {
        "colab": {
          "base_uri": "https://localhost:8080/"
        },
        "id": "vOJINv_NTqsv",
        "outputId": "0fe48756-dcb4-4fea-b543-ec36cc33337c"
      },
      "execution_count": null,
      "outputs": [
        {
          "output_type": "stream",
          "name": "stdout",
          "text": [
            "정수를 입력하세요15\n",
            "15은 3의 배수입니다\n"
          ]
        }
      ]
    },
    {
      "cell_type": "code",
      "source": [
        "# 정수 3개를 입력 받아서 그 중에서 가장 큰수를 찾아 출력하는 프로그램\n",
        "# if 를 꼭 사용하시오.\n",
        "# 정수1입력>3\n",
        "# 정수2입력>1\n",
        "# 정수3입력>2\n",
        "\n",
        "# 가장 큰수는 3입니다.\n",
        "\n",
        "(XXXX)\n",
        "n1 = int(input('정수를 입력하세요 >> '))\n",
        "n2 = int(input('정수를 입력하세요 >> '))\n",
        "n3 = int(input('정수를 입력하세요 >> '))\n",
        "\n",
        "\n",
        "if n1>n2:\n",
        "  max = n1\n",
        "elif n2>n1:\n",
        "  max = n2\n",
        "else:\n",
        "  max = n3\n",
        "\n",
        "print(max)\n"
      ],
      "metadata": {
        "colab": {
          "base_uri": "https://localhost:8080/"
        },
        "id": "qLvlej2CU276",
        "outputId": "62f08608-926c-4a78-dfb5-6ec592a979da"
      },
      "execution_count": null,
      "outputs": [
        {
          "output_type": "stream",
          "name": "stdout",
          "text": [
            "정수를 입력하세요 >> 3\n",
            "정수를 입력하세요 >> 3\n",
            "정수를 입력하세요 >> 1\n",
            "1\n"
          ]
        }
      ]
    },
    {
      "cell_type": "code",
      "source": [
        "num=int(input('정수를입력하세요'))\n",
        "num2=int(input('정수를입력하세요'))\n",
        "num3=int(input('정수를입력하세요'))\n",
        "\n",
        "if num>num2:\n",
        "  print(num)\n",
        "elif num2>num3:\n",
        "  print(num2)\n",
        "else:\n",
        "  print(num3)\n"
      ],
      "metadata": {
        "colab": {
          "base_uri": "https://localhost:8080/"
        },
        "id": "6PPawys3W5hk",
        "outputId": "a0099970-81a8-4105-d342-552e1ce0ca56"
      },
      "execution_count": null,
      "outputs": [
        {
          "output_type": "stream",
          "name": "stdout",
          "text": [
            "정수를입력하세요3\n",
            "정수를입력하세요2\n",
            "정수를입력하세요4\n",
            "3\n"
          ]
        }
      ]
    },
    {
      "cell_type": "code",
      "source": [
        "n1 = int(input('정수를 입력하세요 >> '))\n",
        "n2 = int(input('정수를 입력하세요 >> '))\n",
        "n3 = int(input('정수를 입력하세요 >> '))\n",
        "max = 0\n",
        "if n1>n2:\n",
        "  max = n1\n",
        "else:\n",
        "  max = n2\n",
        "\n",
        "if max>n3:\n",
        "  print(max)\n",
        "else:\n",
        "  print(n3)\n"
      ],
      "metadata": {
        "id": "V1ut8sRcXIoZ"
      },
      "execution_count": null,
      "outputs": []
    },
    {
      "cell_type": "code",
      "source": [
        "num1 = int(input('정수1 입력'))\n",
        "num2 = int(input('정수2 입력'))\n",
        "num3 = int(input('정수3 입력'))\n",
        "\n",
        "if num1 > num2:\n",
        "  if num1 > num3:\n",
        "    max = num1\n",
        "elif num2 > num3:\n",
        "  max = num2\n",
        "else:\n",
        "  max = num3\n",
        "\n",
        "print(max)\n"
      ],
      "metadata": {
        "id": "FpRuNEsdXZNK"
      },
      "execution_count": null,
      "outputs": []
    },
    {
      "cell_type": "code",
      "source": [
        "# 박진욱님 답안\n",
        "\n",
        "n1 = int(input('정수1 입력 >>> '))\n",
        "n2 = int(input('정수2 입력 >>> '))\n",
        "n3 = int(input('정수3 입력 >>> '))\n",
        "\n",
        "if n1 > n2 & n1 > n3 :\n",
        "  best = n1\n",
        "elif n2 > n3 :\n",
        "  best = n2\n",
        "else :\n",
        "  best = n3\n",
        "\n",
        "print(f'가장 큰 수는 {best}입니다.')\n"
      ],
      "metadata": {
        "id": "Ql5JxJw0Y8V3"
      },
      "execution_count": null,
      "outputs": []
    }
  ]
}
