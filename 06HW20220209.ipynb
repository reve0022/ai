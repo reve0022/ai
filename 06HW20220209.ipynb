{
  "nbformat": 4,
  "nbformat_minor": 0,
  "metadata": {
    "colab": {
      "name": "06HW20220209.ipynb",
      "provenance": [],
      "authorship_tag": "ABX9TyO4iSrqb7EtLsXrNXyrfj3O",
      "include_colab_link": true
    },
    "kernelspec": {
      "name": "python3",
      "display_name": "Python 3"
    },
    "language_info": {
      "name": "python"
    }
  },
  "cells": [
    {
      "cell_type": "markdown",
      "metadata": {
        "id": "view-in-github",
        "colab_type": "text"
      },
      "source": [
        "<a href=\"https://colab.research.google.com/github/reve0022/ai/blob/main/06HW20220209.ipynb\" target=\"_parent\"><img src=\"https://colab.research.google.com/assets/colab-badge.svg\" alt=\"Open In Colab\"/></a>"
      ]
    },
    {
      "cell_type": "code",
      "execution_count": 4,
      "metadata": {
        "colab": {
          "base_uri": "https://localhost:8080/"
        },
        "id": "izXfU0I88Waj",
        "outputId": "5436db0a-a7e0-4606-fbf4-15f98f30ff5d"
      },
      "outputs": [
        {
          "output_type": "stream",
          "name": "stdout",
          "text": [
            "No\n"
          ]
        }
      ],
      "source": [
        "#436 c\n",
        "\n",
        "x = '' \n",
        "\n",
        "if bool(x): \n",
        "  print('Yes') \n",
        "else: \n",
        "  print('No')"
      ]
    },
    {
      "cell_type": "code",
      "source": [
        "#437 b\n",
        "\n",
        "x = ' ' \n",
        "\n",
        "if bool(x): \n",
        "  print('Yes') \n",
        "  \n",
        "else: \n",
        "    print('No') "
      ],
      "metadata": {
        "colab": {
          "base_uri": "https://localhost:8080/"
        },
        "id": "uMYwoxCsK_ZH",
        "outputId": "b8c23ca6-6661-42eb-a4ef-f0ad1a79bd2f"
      },
      "execution_count": 7,
      "outputs": [
        {
          "output_type": "stream",
          "name": "stdout",
          "text": [
            "Yes\n"
          ]
        }
      ]
    },
    {
      "cell_type": "code",
      "source": [
        "#438 a\n",
        "\n",
        "x = [] \n",
        "\n",
        "if bool(x): \n",
        "  print('Yes') \n",
        "  \n",
        "else: \n",
        "  print('No')"
      ],
      "metadata": {
        "colab": {
          "base_uri": "https://localhost:8080/"
        },
        "id": "ZRlG_RgALS90",
        "outputId": "5766dee9-e99a-47db-a51b-63f428296073"
      },
      "execution_count": 10,
      "outputs": [
        {
          "output_type": "stream",
          "name": "stdout",
          "text": [
            "No\n"
          ]
        }
      ]
    },
    {
      "cell_type": "code",
      "source": [
        "#439 b\n",
        "\n",
        "x = [1, 2, 3] \n",
        "\n",
        "if bool(x): \n",
        "  print('Yes') \n",
        "  \n",
        "else: \n",
        "  print('No')"
      ],
      "metadata": {
        "colab": {
          "base_uri": "https://localhost:8080/"
        },
        "id": "U54xSK_0LpOg",
        "outputId": "4caa83c2-3387-43af-cdc4-7e7c5d3d52f0"
      },
      "execution_count": 9,
      "outputs": [
        {
          "output_type": "stream",
          "name": "stdout",
          "text": [
            "Yes\n"
          ]
        }
      ]
    },
    {
      "cell_type": "code",
      "source": [
        "#440 a\n",
        "\n",
        "x = '' \n",
        "\n",
        "if not bool(x): \n",
        "  print('Yes') \n",
        "  \n",
        "else: \n",
        "  print('No') \n"
      ],
      "metadata": {
        "colab": {
          "base_uri": "https://localhost:8080/"
        },
        "id": "XBjIUiXrLpVA",
        "outputId": "d15ad15c-f161-44db-f4dc-e5bdb397e499"
      },
      "execution_count": 11,
      "outputs": [
        {
          "output_type": "stream",
          "name": "stdout",
          "text": [
            "Yes\n"
          ]
        }
      ]
    },
    {
      "cell_type": "code",
      "source": [
        "#441 b\n",
        "\n",
        "x = 'print(\"Python\")' \n",
        "\n",
        "eval(x) \n"
      ],
      "metadata": {
        "colab": {
          "base_uri": "https://localhost:8080/"
        },
        "id": "HYQMifeDLpar",
        "outputId": "6717d4aa-a1b0-4956-aa9c-db590b4590b8"
      },
      "execution_count": 12,
      "outputs": [
        {
          "output_type": "stream",
          "name": "stdout",
          "text": [
            "Python\n"
          ]
        }
      ]
    },
    {
      "cell_type": "code",
      "source": [
        "#442 c\n",
        "\n",
        "x = input(\"Enter an expression: \") \n",
        "\n",
        "print(eval(x)) "
      ],
      "metadata": {
        "colab": {
          "base_uri": "https://localhost:8080/"
        },
        "id": "InCaHfbRLpdx",
        "outputId": "ced116de-cdfc-4a0d-dba2-cc5f5f804517"
      },
      "execution_count": 13,
      "outputs": [
        {
          "output_type": "stream",
          "name": "stdout",
          "text": [
            "Enter an expression: 45*2\n",
            "90\n"
          ]
        }
      ]
    },
    {
      "cell_type": "code",
      "source": [
        "#443 a\n",
        "\n",
        "x = '''\n",
        "\n",
        "print(\"Python 3\", end='') \n",
        "\n",
        "print(\" is Good\")''' \n",
        "\n",
        "exec(x)"
      ],
      "metadata": {
        "colab": {
          "base_uri": "https://localhost:8080/"
        },
        "id": "r-j6hTaDLpg4",
        "outputId": "6771f4cc-6069-4cb9-85ec-4275f9379f26"
      },
      "execution_count": 14,
      "outputs": [
        {
          "output_type": "stream",
          "name": "stdout",
          "text": [
            "Python 3 is Good\n"
          ]
        }
      ]
    },
    {
      "cell_type": "code",
      "source": [
        "#444 d\n",
        "\n",
        "a = ['a', 'b', 'c', 'A', 'B'] \n",
        "\n",
        "print(max(a)) "
      ],
      "metadata": {
        "colab": {
          "base_uri": "https://localhost:8080/"
        },
        "id": "O-GcDn0_Lpjx",
        "outputId": "abcece7f-8389-40fd-84e6-04a8d386e6f9"
      },
      "execution_count": 15,
      "outputs": [
        {
          "output_type": "stream",
          "name": "stdout",
          "text": [
            "c\n"
          ]
        }
      ]
    },
    {
      "cell_type": "code",
      "source": [
        "#445 b\n",
        "\n",
        "a = ['a', 'b', 'c', 'A', 'B'] \n",
        "\n",
        "print(min(a))"
      ],
      "metadata": {
        "colab": {
          "base_uri": "https://localhost:8080/"
        },
        "id": "QWYt4X-bLpmm",
        "outputId": "0ab5a4df-5d01-44e1-b687-11e97b8005e0"
      },
      "execution_count": 16,
      "outputs": [
        {
          "output_type": "stream",
          "name": "stdout",
          "text": [
            "A\n"
          ]
        }
      ]
    },
    {
      "cell_type": "code",
      "source": [
        "#446 d\n",
        "\n",
        "a = ['a', 'b', 'c', '1', '2', 'A', 'B'] \n",
        "\n",
        "print(max(a)) "
      ],
      "metadata": {
        "colab": {
          "base_uri": "https://localhost:8080/"
        },
        "id": "tM9dYeHELpp0",
        "outputId": "63274272-cfbe-487d-9b83-952592df932a"
      },
      "execution_count": 17,
      "outputs": [
        {
          "output_type": "stream",
          "name": "stdout",
          "text": [
            "c\n"
          ]
        }
      ]
    },
    {
      "cell_type": "code",
      "source": [
        "#447 c\n",
        "\n",
        "a = ['a', 'b', 'c', '1', '2', 'A', 'B']\n",
        "\n",
        "print(min(a))"
      ],
      "metadata": {
        "colab": {
          "base_uri": "https://localhost:8080/"
        },
        "id": "qWudoFyXNAwt",
        "outputId": "33e07c7e-3125-4e23-8c8d-ce18d1bdba45"
      },
      "execution_count": 19,
      "outputs": [
        {
          "output_type": "stream",
          "name": "stdout",
          "text": [
            "1\n"
          ]
        }
      ]
    },
    {
      "cell_type": "code",
      "source": [
        "#448  d\n",
        "\n",
        "a = [1, 2, 3] \n",
        "\n",
        "print(sum(a)) "
      ],
      "metadata": {
        "colab": {
          "base_uri": "https://localhost:8080/"
        },
        "id": "UMH-Fuy_NAzc",
        "outputId": "f1f40d31-20db-43dc-9e1f-6c971c3c9dd6"
      },
      "execution_count": 20,
      "outputs": [
        {
          "output_type": "stream",
          "name": "stdout",
          "text": [
            "6\n"
          ]
        }
      ]
    },
    {
      "cell_type": "code",
      "source": [
        "#449  c\n",
        "\n",
        "a = list(range(0,10,3)) \n",
        "\n",
        "print(sum(a)) "
      ],
      "metadata": {
        "colab": {
          "base_uri": "https://localhost:8080/"
        },
        "id": "Ax54kiLlNA2s",
        "outputId": "17fdb983-55dd-4c5f-a8a8-f8e35a2d02ac"
      },
      "execution_count": 21,
      "outputs": [
        {
          "output_type": "stream",
          "name": "stdout",
          "text": [
            "18\n"
          ]
        }
      ]
    },
    {
      "cell_type": "code",
      "source": [
        "#450 b\n",
        "\n",
        "a = list(range(10,-10,3)) \n",
        "\n",
        "print(sum(a)) "
      ],
      "metadata": {
        "colab": {
          "base_uri": "https://localhost:8080/"
        },
        "id": "CkP8t2O0NA53",
        "outputId": "977afe3d-305f-412f-c142-bd79884f047b"
      },
      "execution_count": 22,
      "outputs": [
        {
          "output_type": "stream",
          "name": "stdout",
          "text": [
            "0\n"
          ]
        }
      ]
    },
    {
      "cell_type": "code",
      "source": [
        "#451 a\n",
        "\n",
        "a = list(range(-10,5,2)) \n",
        "\n",
        "print(sum(a))"
      ],
      "metadata": {
        "colab": {
          "base_uri": "https://localhost:8080/"
        },
        "id": "bMt9V4f0NA8o",
        "outputId": "a338776c-daf7-465c-8690-c8b3603a3d45"
      },
      "execution_count": 23,
      "outputs": [
        {
          "output_type": "stream",
          "name": "stdout",
          "text": [
            "-24\n"
          ]
        }
      ]
    },
    {
      "cell_type": "code",
      "source": [
        "#452 c\n",
        "\n",
        "x = [5, 4, 3, 2, 1] \n",
        "\n",
        "y = x.copy() \n",
        "\n",
        "x[0] = 6 \n",
        "print(y) "
      ],
      "metadata": {
        "colab": {
          "base_uri": "https://localhost:8080/"
        },
        "id": "MQMcjzhwNA_a",
        "outputId": "6cb6da63-d909-424d-b629-90cab3e5eb29"
      },
      "execution_count": 24,
      "outputs": [
        {
          "output_type": "stream",
          "name": "stdout",
          "text": [
            "[5, 4, 3, 2, 1]\n"
          ]
        }
      ]
    },
    {
      "cell_type": "code",
      "source": [
        "#453 d\n",
        "\n",
        "x = [5, 4, 3, 2, 1] \n",
        "\n",
        "y = (x) \n",
        "x.append(6) \n",
        "print(y[0])"
      ],
      "metadata": {
        "colab": {
          "base_uri": "https://localhost:8080/"
        },
        "id": "17YGvLRUNdhF",
        "outputId": "d0e54eb8-0e50-4104-fd78-fad50b6c6d4c"
      },
      "execution_count": 28,
      "outputs": [
        {
          "output_type": "stream",
          "name": "stdout",
          "text": [
            "5\n"
          ]
        }
      ]
    },
    {
      "cell_type": "code",
      "source": [
        "#454 d\n",
        "\n",
        "import keyword \n",
        "print(keyword.iskeyword('IS')) "
      ],
      "metadata": {
        "colab": {
          "base_uri": "https://localhost:8080/"
        },
        "id": "udXS6pizNdjj",
        "outputId": "280fbb73-58d9-4bc5-bda4-46b87fb700c0"
      },
      "execution_count": 30,
      "outputs": [
        {
          "output_type": "stream",
          "name": "stdout",
          "text": [
            "False\n"
          ]
        }
      ]
    },
    {
      "cell_type": "code",
      "source": [
        "#455 a\n",
        "\n",
        "import keyword \n",
        "print(keyword.iskeyword('for'))"
      ],
      "metadata": {
        "colab": {
          "base_uri": "https://localhost:8080/"
        },
        "id": "O0ei0KwINdmN",
        "outputId": "cb3afca1-fb4a-4cde-9d15-0f5bec385869"
      },
      "execution_count": 31,
      "outputs": [
        {
          "output_type": "stream",
          "name": "stdout",
          "text": [
            "True\n"
          ]
        }
      ]
    },
    {
      "cell_type": "code",
      "source": [
        "#Algorithm Homework\n",
        "\n",
        "t=0\n",
        "for i in range(10000):\n",
        "    s = [int(i) for i in str(i)]\n",
        "    if 8 in s:\n",
        "        t+=s.count(8)\n",
        "print(t)"
      ],
      "metadata": {
        "colab": {
          "base_uri": "https://localhost:8080/"
        },
        "id": "edPoCBc3Ndo9",
        "outputId": "14d18a12-6ef7-444c-ece3-18a31ac0c8cc"
      },
      "execution_count": 35,
      "outputs": [
        {
          "output_type": "stream",
          "name": "stdout",
          "text": [
            "4000\n"
          ]
        }
      ]
    }
  ]
}