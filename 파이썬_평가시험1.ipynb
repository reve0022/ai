{
  "nbformat": 4,
  "nbformat_minor": 0,
  "metadata": {
    "colab": {
      "name": "파이썬 - 평가시험1.ipynb",
      "provenance": [],
      "authorship_tag": "ABX9TyPgGhkW6P34KMGc5UW/ep4q",
      "include_colab_link": true
    },
    "kernelspec": {
      "name": "python3",
      "display_name": "Python 3"
    },
    "language_info": {
      "name": "python"
    }
  },
  "cells": [
    {
      "cell_type": "markdown",
      "metadata": {
        "id": "view-in-github",
        "colab_type": "text"
      },
      "source": [
        "<a href=\"https://colab.research.google.com/github/reve0022/ai/blob/main/%ED%8C%8C%EC%9D%B4%EC%8D%AC_%ED%8F%89%EA%B0%80%EC%8B%9C%ED%97%981.ipynb\" target=\"_parent\"><img src=\"https://colab.research.google.com/assets/colab-badge.svg\" alt=\"Open In Colab\"/></a>"
      ]
    },
    {
      "cell_type": "code",
      "execution_count": null,
      "metadata": {
        "colab": {
          "base_uri": "https://localhost:8080/"
        },
        "id": "V-xl1x7rxLr1",
        "outputId": "8dbf3bec-9648-4ced-9fd6-5e706b84c159"
      },
      "outputs": [
        {
          "output_type": "stream",
          "name": "stdout",
          "text": [
            "Enter string:HeLLo\n",
            "the number of lowercase characters is: 2\n",
            "the number of uppercas characters is: 3\n",
            "swapcase: hEllO\n"
          ]
        }
      ],
      "source": [
        "#Case 1:\n",
        "str = input('Enter string:') \n",
        "lc_cnt = 0  #소문자의 갯수\n",
        "uc_cnt = 0  #대문자의 갯수\n",
        "\n",
        "for i in str:    \n",
        "  if (i >='a' and i <='z'):  #고유번호로 입력문자에서 소문자 고르기\n",
        "    lc_cnt = lc_cnt + 1           \n",
        "  elif (i>='A' and i<='Z'):  #고유번호로 입력문자에서 대문자 고르기\n",
        "    uc_cnt = uc_cnt + 1        \n",
        "\n",
        "print('the number of lowercase characters is:', lc_cnt)\n",
        "print('the number of uppercas characters is:', uc_cnt)\n",
        "print('swapcase:', str.swapcase())"
      ]
    },
    {
      "cell_type": "code",
      "source": [
        "#Case 2:\n",
        "str = input('Enter string:') \n",
        "lc_cnt = 0  #소문자의 갯수\n",
        "uc_cnt = 0  #대문자의 갯수\n",
        "\n",
        "for i in str:    \n",
        "  if (i >='a' and i <='z'):  #고유번호로 입력문자에서 소문자 고르기\n",
        "    lc_cnt = lc_cnt + 1           \n",
        "  elif (i>='A' and i<='Z'):  #고유번호로 입력문자에서 대문자 고르기\n",
        "    uc_cnt = uc_cnt + 1        \n",
        "\n",
        "print('the number of lowercase characters is:', lc_cnt)\n",
        "print('the number of uppercas characters is:', uc_cnt)\n",
        "print('swapcase:', str.swapcase())"
      ],
      "metadata": {
        "colab": {
          "base_uri": "https://localhost:8080/"
        },
        "id": "C1wZ4-AS0ZmS",
        "outputId": "c0328930-07dc-45f9-ca78-400dcb9e1940"
      },
      "execution_count": null,
      "outputs": [
        {
          "output_type": "stream",
          "name": "stdout",
          "text": [
            "Enter string:SanFouNdry\n",
            "the number of lowercase characters is: 7\n",
            "the number of uppercas characters is: 3\n",
            "swapcase: sANfOUnDRY\n"
          ]
        }
      ]
    }
  ]
}