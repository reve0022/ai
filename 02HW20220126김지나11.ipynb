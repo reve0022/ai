{
  "nbformat": 4,
  "nbformat_minor": 0,
  "metadata": {
    "colab": {
      "name": "02HW20220126김지나11.ipynb",
      "provenance": [],
      "authorship_tag": "ABX9TyPOtAhYzN/8wuvWe4VIRqS5",
      "include_colab_link": true
    },
    "kernelspec": {
      "name": "python3",
      "display_name": "Python 3"
    },
    "language_info": {
      "name": "python"
    }
  },
  "cells": [
    {
      "cell_type": "markdown",
      "metadata": {
        "id": "view-in-github",
        "colab_type": "text"
      },
      "source": [
        "<a href=\"https://colab.research.google.com/github/reve0022/ai/blob/main/02HW20220126%EA%B9%80%EC%A7%80%EB%82%9811.ipynb\" target=\"_parent\"><img src=\"https://colab.research.google.com/assets/colab-badge.svg\" alt=\"Open In Colab\"/></a>"
      ]
    },
    {
      "cell_type": "code",
      "execution_count": null,
      "metadata": {
        "colab": {
          "base_uri": "https://localhost:8080/"
        },
        "id": "SUQQS4HDdhUt",
        "outputId": "8f0a5bf0-772a-4d9c-9ab4-17dad0d436ca"
      },
      "outputs": [
        {
          "output_type": "stream",
          "name": "stdout",
          "text": [
            "['닥터스트레인지', '스플릿', '럭키']\n"
          ]
        }
      ],
      "source": [
        "#51\n",
        "movie_rank = ['닥터스트레인지','스플릿','럭키']\n",
        "print(movie_rank)"
      ]
    },
    {
      "cell_type": "code",
      "source": [
        "#52 \n",
        "movie_rank.append('배트맨')\n",
        "print(movie_rank)"
      ],
      "metadata": {
        "colab": {
          "base_uri": "https://localhost:8080/"
        },
        "id": "rmkD5pgrePNb",
        "outputId": "6defd232-ef23-4b5f-fee2-5b06608f445b"
      },
      "execution_count": null,
      "outputs": [
        {
          "output_type": "stream",
          "name": "stdout",
          "text": [
            "['닥터스트레인지', '스플릿', '럭키', '배트맨']\n"
          ]
        }
      ]
    },
    {
      "cell_type": "code",
      "source": [
        "#53\n",
        "movie_rank.insert(1, '슈퍼맨')\n",
        "print(movie_rank)"
      ],
      "metadata": {
        "colab": {
          "base_uri": "https://localhost:8080/"
        },
        "id": "ldL9MdE_f-bc",
        "outputId": "17e713b7-0e62-484e-87a3-1953e2d424cb"
      },
      "execution_count": null,
      "outputs": [
        {
          "output_type": "stream",
          "name": "stdout",
          "text": [
            "['닥터스트레인지', '슈퍼맨', '스플릿', '럭키', '배트맨']\n"
          ]
        }
      ]
    },
    {
      "cell_type": "code",
      "source": [
        "#54\n",
        "del movie_rank[3]\n",
        "print(movie_rank)"
      ],
      "metadata": {
        "colab": {
          "base_uri": "https://localhost:8080/"
        },
        "id": "p0VRaWY5gnKH",
        "outputId": "53e46a68-400b-436c-de5e-25b02d8bb80d"
      },
      "execution_count": null,
      "outputs": [
        {
          "output_type": "stream",
          "name": "stdout",
          "text": [
            "['닥터스트레인지', '슈퍼맨', '스플릿', '배트맨']\n"
          ]
        }
      ]
    },
    {
      "cell_type": "code",
      "source": [
        "#55\n",
        "del movie_rank[2]\n",
        "del movie_rank[2]\n",
        "print(movie_rank)"
      ],
      "metadata": {
        "colab": {
          "base_uri": "https://localhost:8080/"
        },
        "id": "RYQG66mvg_oO",
        "outputId": "7ab3530f-8cb0-49a1-a317-38cff733036c"
      },
      "execution_count": null,
      "outputs": [
        {
          "output_type": "stream",
          "name": "stdout",
          "text": [
            "['닥터스트레인지', '슈퍼맨']\n"
          ]
        }
      ]
    },
    {
      "cell_type": "code",
      "source": [
        "#56\n",
        "lang1 = [\"C\",\"c++\",\"JAVA\"]\n",
        "lang2 = [\"Python\",\"Go\",\"C#\"]\n",
        "lang = lang1 + lang2\n",
        "print(lang)"
      ],
      "metadata": {
        "colab": {
          "base_uri": "https://localhost:8080/"
        },
        "id": "F_XS8jUgiHdb",
        "outputId": "92e36bf0-a25d-494c-9438-5d0abaa8f6b1"
      },
      "execution_count": null,
      "outputs": [
        {
          "output_type": "stream",
          "name": "stdout",
          "text": [
            "['C', 'c++', 'JAVA', 'Python', 'Go', 'C#']\n"
          ]
        }
      ]
    },
    {
      "cell_type": "code",
      "source": [
        "#57\n",
        "nums = [1, 2, 3, 4, 5, 6, 7]\n",
        "\n",
        "\n",
        "print('최댓값: ', max(nums))\n",
        "\n",
        "print('최솟값: ', min(nums))"
      ],
      "metadata": {
        "colab": {
          "base_uri": "https://localhost:8080/",
          "height": 248
        },
        "id": "UoAlkgZoi5kM",
        "outputId": "f3b12387-6860-42f1-a98e-5869a59f3906"
      },
      "execution_count": null,
      "outputs": [
        {
          "output_type": "error",
          "ename": "TypeError",
          "evalue": "ignored",
          "traceback": [
            "\u001b[0;31m---------------------------------------------------------------------------\u001b[0m",
            "\u001b[0;31mTypeError\u001b[0m                                 Traceback (most recent call last)",
            "\u001b[0;32m<ipython-input-48-efe8c6456f07>\u001b[0m in \u001b[0;36m<module>\u001b[0;34m()\u001b[0m\n\u001b[1;32m      3\u001b[0m \u001b[0;34m\u001b[0m\u001b[0m\n\u001b[1;32m      4\u001b[0m \u001b[0;34m\u001b[0m\u001b[0m\n\u001b[0;32m----> 5\u001b[0;31m \u001b[0mprint\u001b[0m\u001b[0;34m(\u001b[0m\u001b[0;34m'최댓값: '\u001b[0m\u001b[0;34m,\u001b[0m \u001b[0mmax\u001b[0m\u001b[0;34m(\u001b[0m\u001b[0mnums\u001b[0m\u001b[0;34m)\u001b[0m\u001b[0;34m)\u001b[0m\u001b[0;34m\u001b[0m\u001b[0;34m\u001b[0m\u001b[0m\n\u001b[0m\u001b[1;32m      6\u001b[0m \u001b[0;34m\u001b[0m\u001b[0m\n\u001b[1;32m      7\u001b[0m \u001b[0mprint\u001b[0m\u001b[0;34m(\u001b[0m\u001b[0;34m'최솟값: '\u001b[0m\u001b[0;34m,\u001b[0m \u001b[0mmin\u001b[0m\u001b[0;34m(\u001b[0m\u001b[0mnums\u001b[0m\u001b[0;34m)\u001b[0m\u001b[0;34m)\u001b[0m\u001b[0;34m\u001b[0m\u001b[0;34m\u001b[0m\u001b[0m\n",
            "\u001b[0;31mTypeError\u001b[0m: 'int' object is not callable"
          ]
        }
      ]
    },
    {
      "cell_type": "code",
      "source": [
        "#58\n",
        "nums = [1, 2, 3, 4, 5]\n",
        "print(sum(nums))"
      ],
      "metadata": {
        "colab": {
          "base_uri": "https://localhost:8080/"
        },
        "id": "xXNz_xnvj_Wb",
        "outputId": "49f50396-4ae6-46ea-ebf9-fe1e1a8ae89d"
      },
      "execution_count": null,
      "outputs": [
        {
          "output_type": "stream",
          "name": "stdout",
          "text": [
            "15\n"
          ]
        }
      ]
    },
    {
      "cell_type": "code",
      "source": [
        "#59\n",
        "cook = [\"피자\", \"김밥\", \"만두\", \"양념치킨\", \"족발\", \"피자\", \"김치만두\",\n",
        "        \"쫄면\", \"소시지\", \"라면\", \"팥빙수\", \"김치전\"]\n",
        "print(int(len(cook)))"
      ],
      "metadata": {
        "colab": {
          "base_uri": "https://localhost:8080/"
        },
        "id": "ennIYX3akbx1",
        "outputId": "4cc7d13d-626c-4c04-8e0d-77d91e2c8c83"
      },
      "execution_count": null,
      "outputs": [
        {
          "output_type": "stream",
          "name": "stdout",
          "text": [
            "12\n"
          ]
        }
      ]
    },
    {
      "cell_type": "code",
      "source": [
        "#60\n",
        "nums = [1, 2, 3, 4, 5]\n",
        "s1 = sum(nums)\n",
        "s2 = int(len(nums))\n",
        "print(s1/s2)"
      ],
      "metadata": {
        "colab": {
          "base_uri": "https://localhost:8080/"
        },
        "id": "HZTiQ1KslD8l",
        "outputId": "d24f5fb7-63e2-4c13-f393-b715ec5a89e3"
      },
      "execution_count": null,
      "outputs": [
        {
          "output_type": "stream",
          "name": "stdout",
          "text": [
            "3.0\n"
          ]
        }
      ]
    },
    {
      "cell_type": "code",
      "source": [
        "#121\n",
        "p = input(\"영문자를 입력하세요 >> \")\n",
        "if p.islower():\n",
        "    print(p.upper())\n",
        "else:\n",
        "    print(p.lower())"
      ],
      "metadata": {
        "colab": {
          "base_uri": "https://localhost:8080/"
        },
        "id": "vY5jzMB5mOWV",
        "outputId": "7fd0a16f-9b8c-417c-bf41-d4b90f37815b"
      },
      "execution_count": null,
      "outputs": [
        {
          "output_type": "stream",
          "name": "stdout",
          "text": [
            "영문자를 입력하세요 >> a\n",
            "A\n"
          ]
        }
      ]
    },
    {
      "cell_type": "code",
      "source": [
        "#122\n",
        "score = int(input(\"당신의 점수를 입력하세요 >> \"))\n",
        "gr = \"\"\n",
        "if score >=81:\n",
        "  gr = \"A\"\n",
        "elif score >=61:\n",
        "  gr = \"B\"\n",
        "elif score >=41:\n",
        "  gr = \"C\"\n",
        "elif score >=21:\n",
        "  gr = \"D\"\n",
        "else:\n",
        "  gr = \"F\"\n",
        "\n",
        "print(f\"grade is {gr}.\")"
      ],
      "metadata": {
        "colab": {
          "base_uri": "https://localhost:8080/"
        },
        "id": "599XtwxAnN2g",
        "outputId": "94b3e87b-93b9-481d-f29b-176b0bf24d82"
      },
      "execution_count": null,
      "outputs": [
        {
          "output_type": "stream",
          "name": "stdout",
          "text": [
            "당신의 점수를 입력하세요 >> 83\n",
            "grade is A.\n"
          ]
        }
      ]
    },
    {
      "cell_type": "code",
      "source": [
        "#123\n",
        "환율 = {\"달러\": 1167, \n",
        "        \"엔\": 1.096, \n",
        "        \"유로\": 1268, \n",
        "        \"위안\": 171}\n",
        "m = input(\"입력: \")\n",
        "num, currency = m.split()\n",
        "print(float(num) * 환율[currency], \"원\")"
      ],
      "metadata": {
        "colab": {
          "base_uri": "https://localhost:8080/"
        },
        "id": "G5P-DTVspww6",
        "outputId": "b049bdd6-13d6-4d29-9da6-9b9fdd7b6990"
      },
      "execution_count": null,
      "outputs": [
        {
          "output_type": "stream",
          "name": "stdout",
          "text": [
            "입력: 100 달러\n",
            "116700.0 원\n"
          ]
        }
      ]
    },
    {
      "cell_type": "code",
      "source": [
        "2#124\n",
        "number1 = int(input('숫자1 입력 >>> '))\n",
        "number2 = int(input('숫자2 입력 >>> '))\n",
        "number3 = int(input('숫자3 입력 >>> '))\n",
        "n1 = int(number1)\n",
        "n2 = int(number2)\n",
        "n3 = int(number3)\n",
        "\n",
        "if n1 > n2 & n1 > n3 :\n",
        "  max = n1\n",
        "elif n1 > n3 :\n",
        "  max = n2\n",
        "else :\n",
        "  max = n3\n",
        "\n",
        "print(f'{max}')"
      ],
      "metadata": {
        "colab": {
          "base_uri": "https://localhost:8080/"
        },
        "id": "XFOcusp4uCMo",
        "outputId": "b798b70e-9d9f-4fa5-bb43-91ce585a8b7f"
      },
      "execution_count": null,
      "outputs": [
        {
          "output_type": "stream",
          "name": "stdout",
          "text": [
            "숫자1 입력 >>> 10\n",
            "숫자2 입력 >>> 9\n",
            "숫자3 입력 >>> 20\n",
            "20\n"
          ]
        }
      ]
    },
    {
      "cell_type": "code",
      "source": [
        "#125\n",
        "phone = input(\"당신의 휴대번호를 입력하세요 : \")\n",
        "num = phone.split(\"-\")[0]\n",
        "\n",
        "\n",
        "if num ==\"011\":\n",
        "  T = \"SKT\"\n",
        "elif num ==\"016\":\n",
        "  T = \"KT\"\n",
        "elif num ==\"019\":\n",
        "  T = \"LGU\"\n",
        "else:\n",
        "  T = \"알수없음\"\n",
        "\n",
        "print(f\"당신은 {T} 사용자입니다.\")"
      ],
      "metadata": {
        "colab": {
          "base_uri": "https://localhost:8080/"
        },
        "id": "XIyScQJ9vEZ9",
        "outputId": "0fc33c3a-dd42-4686-9288-1445cad798d3"
      },
      "execution_count": null,
      "outputs": [
        {
          "output_type": "stream",
          "name": "stdout",
          "text": [
            "당신의 휴대번호를 입력하세요 : 011-345-1922\n",
            "당신은 SKT 사용자입니다.\n"
          ]
        }
      ]
    },
    {
      "cell_type": "code",
      "source": [
        "#126\n",
        "우편번호 = input(\"우편번호 : \")\n",
        "우편번호 = 우편번호[:3]\n",
        "if 우편번호 in [\"010\", \"011\", \"012\"]:\n",
        "    print(\"강북구\")\n",
        "elif 우편번호 in [\"014\", \"015\", \"016\"]:\n",
        "    print(\"도봉구\")\n",
        "else:\n",
        "    print(\"노원구\")"
      ],
      "metadata": {
        "id": "qtudHnehutZX",
        "colab": {
          "base_uri": "https://localhost:8080/"
        },
        "outputId": "4ee2a2cf-9154-4e42-b38a-52d988a1d3d1"
      },
      "execution_count": null,
      "outputs": [
        {
          "output_type": "stream",
          "name": "stdout",
          "text": [
            "우편번호 : 01400\n",
            "도봉구\n"
          ]
        }
      ]
    },
    {
      "cell_type": "code",
      "source": [
        "#127\n",
        "주민번호 = input(\"주민등록번호: \")\n",
        "주민번호 = 주민번호.split(\"-\")[1]\n",
        "if 주민번호[0] == \"1\" or 주민번호[0] == \"3\":\n",
        "    print(\"남자\")\n",
        "else:\n",
        "    print(\"여자\")"
      ],
      "metadata": {
        "id": "jD7oaDG26uSI",
        "colab": {
          "base_uri": "https://localhost:8080/"
        },
        "outputId": "1bec5c3d-a211-4b0f-82c4-943471e46c47"
      },
      "execution_count": null,
      "outputs": [
        {
          "output_type": "stream",
          "name": "stdout",
          "text": [
            "주민등록번호: 821010-1635210\n",
            "남자\n"
          ]
        }
      ]
    },
    {
      "cell_type": "code",
      "source": [
        "#128\n",
        "주민번호 = input(\"주민등록번호: \")\n",
        "\n",
        "뒷자리 = 주민번호.split(\"-\")[1]\n",
        "if 0 <= int(뒷자리[1:3]) <= 8:\n",
        "    print(\"서울입니다.\")\n",
        "else:\n",
        "    print(\"서울이 아닙니다.\")\n",
        "\n",
        "주민번호 = input(\"주민등록번호: \")\n",
        "\n",
        "뒷자리 = 주민번호.split(\"-\")[1]\n",
        "if 0 <= int(뒷자리[1:3]) <= 8:\n",
        "    print(\"서울입니다.\")\n",
        "else:\n",
        "    print(\"서울이 아닙니다.\")"
      ],
      "metadata": {
        "colab": {
          "base_uri": "https://localhost:8080/"
        },
        "id": "e74NNmEl04YX",
        "outputId": "895c1f2b-f40a-4f9e-c970-e83784a1102f"
      },
      "execution_count": null,
      "outputs": [
        {
          "output_type": "stream",
          "name": "stdout",
          "text": [
            "주민등록번호: 821010-1635210\n",
            "서울이 아닙니다.\n",
            "주민등록번호: 861010-1015210\n",
            "서울입니다.\n"
          ]
        }
      ]
    },
    {
      "cell_type": "code",
      "source": [
        "#129\n",
        "num = input(\"주민등록번호: \")\n",
        "\n",
        "계산1 = int(num[0]) * 2 + int(num[1]) * 3 + int(num[2]) * 4 + int(num[3]) * 5 + int(num[4]) * 6 + \\\n",
        "        int(num[5]) * 7 + int(num[7]) * 8 + int(num[8]) * 9 + int(num[9]) * 2 + int(num[10])* 3 + \\\n",
        "        int(num[11])* 4 + int(num[12]) * 5\n",
        "\n",
        "계산2 = 11 - (계산1 % 11)\n",
        "\n",
        "계산3 = str(계산2)\n",
        "\n",
        "if num[-1] == 계산3[-1]:\n",
        "    print(\"유효한 주민등록번호입니다.\")\n",
        "\n",
        "else:\n",
        "    print(\"유효하지 않은 주민등록번호입니다.\")"
      ],
      "metadata": {
        "colab": {
          "base_uri": "https://localhost:8080/"
        },
        "id": "Op0rquVQ1av-",
        "outputId": "bd41f1ee-ffcc-4bb1-9cd5-5919d1040ca7"
      },
      "execution_count": null,
      "outputs": [
        {
          "output_type": "stream",
          "name": "stdout",
          "text": [
            "주민등록번호: 821010-1635210\n",
            "유효하지 않은 주민등록번호입니다.\n"
          ]
        }
      ]
    },
    {
      "cell_type": "code",
      "source": [
        "#130\n",
        "import requests\n",
        "btc = requests.get(\"https://api.bithumb.com/public/ticker/\").json()['data']\n",
        "\n",
        "변동폭 = float(btc['max_price']) - float(btc['min_price'])\n",
        "시가 = float(btc['opening_price'])\n",
        "최고가 = float(btc['max_price'])\n",
        "\n",
        "if (시가+변동폭) > 최고가:\n",
        "    print(\"상승장\")\n",
        "else:\n",
        "    print(\"하락장\")"
      ],
      "metadata": {
        "colab": {
          "base_uri": "https://localhost:8080/"
        },
        "id": "06to05ng1gSL",
        "outputId": "0df248a9-97ff-46c2-e1a4-cbba6f3ef9cc"
      },
      "execution_count": null,
      "outputs": [
        {
          "output_type": "stream",
          "name": "stdout",
          "text": [
            "상승장\n"
          ]
        }
      ]
    }
  ]
}